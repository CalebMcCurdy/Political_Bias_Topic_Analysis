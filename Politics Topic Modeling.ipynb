{
 "cells": [
  {
   "attachments": {},
   "cell_type": "markdown",
   "id": "bce2bb89",
   "metadata": {},
   "source": [
    "# ADS 509 Final Project: Topic Modeling"
   ]
  },
  {
   "cell_type": "code",
   "execution_count": 2,
   "id": "a85bce08",
   "metadata": {},
   "outputs": [],
   "source": [
    "# These libraries may be useful to you\n",
    "\n",
    "#!pip3 install pyLDAvis==3.4.1 --user  #You need to restart the Kernel after installation.\n",
    "# You also need a Python version => 3.9.0\n",
    "from nltk.corpus import brown\n",
    "\n",
    "import numpy as np\n",
    "import pandas as pd\n",
    "from tqdm.auto import tqdm\n",
    "\n",
    "import pyLDAvis\n",
    "import pyLDAvis.lda_model\n",
    "import pyLDAvis.gensim_models\n",
    "\n",
    "import spacy\n",
    "from sklearn.feature_extraction.text import TfidfVectorizer, CountVectorizer\n",
    "from sklearn.decomposition import NMF, TruncatedSVD, LatentDirichletAllocation\n",
    "\n",
    "from spacy.lang.en.stop_words import STOP_WORDS as stopwords\n",
    "\n",
    "from collections import Counter, defaultdict\n",
    "\n",
    "#!python3 -m spacy download en_core_web_sm\n",
    "\n",
    "nlp = spacy.load('en_core_web_sm')"
   ]
  },
  {
   "cell_type": "code",
   "execution_count": 4,
   "id": "a218df60",
   "metadata": {},
   "outputs": [
    {
     "data": {
      "text/plain": [
       "'/Users/calebmccurdy/nltk_data/corpora/punkt'"
      ]
     },
     "execution_count": 4,
     "metadata": {},
     "output_type": "execute_result"
    }
   ],
   "source": [
    "# add any additional libaries you need here\n",
    "np.int = np.int_\n",
    "np.float = np.float_\n",
    "import re\n",
    "import os\n",
    "import nltk\n",
    "import zipfile\n",
    "import shutil\n",
    "import html\n",
    "import matplotlib\n",
    "import matplotlib.pyplot as plt\n",
    "\n",
    "#first, download the stopwords.zip file from https://www.nltk.org/nltk_data/ and then extract it\n",
    "stop_source_dir = '/Users/calebmccurdy/downloads/stopwords'\n",
    "stop_dest_dir = '/Users/calebmccurdy/nltk_data/corpora/stopwords'\n",
    "\n",
    "if os.path.exists(stop_dest_dir):\n",
    "    shutil.rmtree(stop_dest_dir)\n",
    "shutil.move(stop_source_dir, stop_dest_dir)\n",
    "\n",
    "#first, download the punkt.zip file from https://www.nltk.org/nltk_data/ and then extract it\n",
    "punkt_source_dir = '/Users/calebmccurdy/downloads/punkt'\n",
    "punkt_dest_dir = '/Users/calebmccurdy/nltk_data/corpora/punkt'\n",
    "\n",
    "if os.path.exists(punkt_dest_dir):\n",
    "    shutil.rmtree(punkt_dest_dir)\n",
    "shutil.move(punkt_source_dir, punkt_dest_dir)"
   ]
  },
  {
   "cell_type": "code",
   "execution_count": 6,
   "id": "d98c56e3",
   "metadata": {},
   "outputs": [],
   "source": [
    "from nltk.corpus import stopwords\n",
    "from string import punctuation\n",
    "sw = stopwords.words(\"english\")"
   ]
  },
  {
   "cell_type": "code",
   "execution_count": 7,
   "id": "e08a990f",
   "metadata": {},
   "outputs": [],
   "source": [
    "punctuation = set(punctuation) # speeds up comparison\n",
    "extra_sw = ['cnn', 'fox', 'news', 'said', 'told', 'would', 'read', 'get', 'could', 'also',\n",
    "            'think', 'time', 'even', 'former', 'ask', 'asked', 'â']\n",
    "sw.extend(extra_sw)"
   ]
  },
  {
   "cell_type": "code",
   "execution_count": 8,
   "id": "494de237",
   "metadata": {},
   "outputs": [],
   "source": [
    "# This function comes from the BTAP repo.\n",
    "\n",
    "def display_topics(model, features, no_top_words=5):\n",
    "    for topic, words in enumerate(model.components_):\n",
    "        total = words.sum()\n",
    "        largest = words.argsort()[::-1] # invert sort order\n",
    "        print(\"\\nTopic %02d\" % topic)\n",
    "        for i in range(0, no_top_words):\n",
    "            print(\"  %s (%2.2f)\" % (features[largest[i]], abs(words[largest[i]]*100.0/total)))"
   ]
  },
  {
   "attachments": {},
   "cell_type": "markdown",
   "id": "b8654268",
   "metadata": {},
   "source": [
    "## TF-IDF and Count Vectorization"
   ]
  },
  {
   "cell_type": "code",
   "execution_count": 10,
   "id": "051f0d43",
   "metadata": {},
   "outputs": [
    {
     "data": {
      "text/html": [
       "<div>\n",
       "<style scoped>\n",
       "    .dataframe tbody tr th:only-of-type {\n",
       "        vertical-align: middle;\n",
       "    }\n",
       "\n",
       "    .dataframe tbody tr th {\n",
       "        vertical-align: top;\n",
       "    }\n",
       "\n",
       "    .dataframe thead th {\n",
       "        text-align: right;\n",
       "    }\n",
       "</style>\n",
       "<table border=\"1\" class=\"dataframe\">\n",
       "  <thead>\n",
       "    <tr style=\"text-align: right;\">\n",
       "      <th></th>\n",
       "      <th>Organization</th>\n",
       "      <th>Article</th>\n",
       "      <th>Tokens</th>\n",
       "    </tr>\n",
       "  </thead>\n",
       "  <tbody>\n",
       "    <tr>\n",
       "      <th>0</th>\n",
       "      <td>FOX</td>\n",
       "      <td>haley-blames-trump-gop-loss-key-special-electi...</td>\n",
       "      <td>['haley', 'blames', 'trump', 'gop', 'loss', 'k...</td>\n",
       "    </tr>\n",
       "    <tr>\n",
       "      <th>1</th>\n",
       "      <td>FOX</td>\n",
       "      <td>biden-says-his-memory-fine-he-most-qualified-p...</td>\n",
       "      <td>['biden', 'says', 'memory', 'fine', 'qualified...</td>\n",
       "    </tr>\n",
       "    <tr>\n",
       "      <th>2</th>\n",
       "      <td>FOX</td>\n",
       "      <td>nikki-haley-calls-robert-hur-report-unbelievab...</td>\n",
       "      <td>['nikki', 'haley', 'calls', 'robert', 'hur', '...</td>\n",
       "    </tr>\n",
       "    <tr>\n",
       "      <th>3</th>\n",
       "      <td>FOX</td>\n",
       "      <td>dnc-alleges-rfk-jr-campaign-violating-election...</td>\n",
       "      <td>['dnc', 'alleges', 'rfk', 'jr', 'campaign', 'v...</td>\n",
       "    </tr>\n",
       "    <tr>\n",
       "      <th>4</th>\n",
       "      <td>FOX</td>\n",
       "      <td>border-impeachment-courts-gridlock-reigns-wash...</td>\n",
       "      <td>['border', 'impeachment', 'courts', 'gridlock'...</td>\n",
       "    </tr>\n",
       "    <tr>\n",
       "      <th>...</th>\n",
       "      <td>...</td>\n",
       "      <td>...</td>\n",
       "      <td>...</td>\n",
       "    </tr>\n",
       "    <tr>\n",
       "      <th>126</th>\n",
       "      <td>CNN</td>\n",
       "      <td>_2024_02_13new-york-special-election-what-to-w...</td>\n",
       "      <td>['watch', 'new', 'yorkâ', 's', 'highstakes', '...</td>\n",
       "    </tr>\n",
       "    <tr>\n",
       "      <th>127</th>\n",
       "      <td>CNN</td>\n",
       "      <td>_2024_02_08biden-special-counsel-beau-death_index</td>\n",
       "      <td>['biden', 'slams', 'special', 'counsel', 'hur'...</td>\n",
       "    </tr>\n",
       "    <tr>\n",
       "      <th>128</th>\n",
       "      <td>CNN</td>\n",
       "      <td>_2024_02_12cq-brown-nato-trump_index</td>\n",
       "      <td>['joint', 'chiefs', 'chairman', 'says', 'â', '...</td>\n",
       "    </tr>\n",
       "    <tr>\n",
       "      <th>129</th>\n",
       "      <td>CNN</td>\n",
       "      <td>_2024_02_14new-york-special-election-takeaways...</td>\n",
       "      <td>['takeaways', 'new', 'yorkâ', 's', 'highstakes...</td>\n",
       "    </tr>\n",
       "    <tr>\n",
       "      <th>130</th>\n",
       "      <td>CNN</td>\n",
       "      <td>_2024_02_14menendez-bribery-scheme-new-filing_...</td>\n",
       "      <td>['sen', 'menendezâ', 's', 'wife', 'got', 'enga...</td>\n",
       "    </tr>\n",
       "  </tbody>\n",
       "</table>\n",
       "<p>131 rows × 3 columns</p>\n",
       "</div>"
      ],
      "text/plain": [
       "    Organization                                            Article  \\\n",
       "0            FOX  haley-blames-trump-gop-loss-key-special-electi...   \n",
       "1            FOX  biden-says-his-memory-fine-he-most-qualified-p...   \n",
       "2            FOX  nikki-haley-calls-robert-hur-report-unbelievab...   \n",
       "3            FOX  dnc-alleges-rfk-jr-campaign-violating-election...   \n",
       "4            FOX  border-impeachment-courts-gridlock-reigns-wash...   \n",
       "..           ...                                                ...   \n",
       "126          CNN  _2024_02_13new-york-special-election-what-to-w...   \n",
       "127          CNN  _2024_02_08biden-special-counsel-beau-death_index   \n",
       "128          CNN               _2024_02_12cq-brown-nato-trump_index   \n",
       "129          CNN  _2024_02_14new-york-special-election-takeaways...   \n",
       "130          CNN  _2024_02_14menendez-bribery-scheme-new-filing_...   \n",
       "\n",
       "                                                Tokens  \n",
       "0    ['haley', 'blames', 'trump', 'gop', 'loss', 'k...  \n",
       "1    ['biden', 'says', 'memory', 'fine', 'qualified...  \n",
       "2    ['nikki', 'haley', 'calls', 'robert', 'hur', '...  \n",
       "3    ['dnc', 'alleges', 'rfk', 'jr', 'campaign', 'v...  \n",
       "4    ['border', 'impeachment', 'courts', 'gridlock'...  \n",
       "..                                                 ...  \n",
       "126  ['watch', 'new', 'yorkâ', 's', 'highstakes', '...  \n",
       "127  ['biden', 'slams', 'special', 'counsel', 'hur'...  \n",
       "128  ['joint', 'chiefs', 'chairman', 'says', 'â', '...  \n",
       "129  ['takeaways', 'new', 'yorkâ', 's', 'highstakes...  \n",
       "130  ['sen', 'menendezâ', 's', 'wife', 'got', 'enga...  \n",
       "\n",
       "[131 rows x 3 columns]"
      ]
     },
     "execution_count": 10,
     "metadata": {},
     "output_type": "execute_result"
    }
   ],
   "source": [
    "df = pd.read_csv('/Users/calebmccurdy/Desktop/USD/ADS 509/Project/Politics_Project.csv')\n",
    "df"
   ]
  },
  {
   "cell_type": "code",
   "execution_count": 25,
   "id": "848255c8",
   "metadata": {},
   "outputs": [],
   "source": [
    "# Split the DataFrame by Organization\n",
    "cnn_df = df[df['Organization'] == 'CNN']\n",
    "fox_df = df[df['Organization'] == 'FOX']"
   ]
  },
  {
   "cell_type": "code",
   "execution_count": 26,
   "id": "094cf092",
   "metadata": {},
   "outputs": [
    {
     "data": {
      "text/html": [
       "<div>\n",
       "<style scoped>\n",
       "    .dataframe tbody tr th:only-of-type {\n",
       "        vertical-align: middle;\n",
       "    }\n",
       "\n",
       "    .dataframe tbody tr th {\n",
       "        vertical-align: top;\n",
       "    }\n",
       "\n",
       "    .dataframe thead th {\n",
       "        text-align: right;\n",
       "    }\n",
       "</style>\n",
       "<table border=\"1\" class=\"dataframe\">\n",
       "  <thead>\n",
       "    <tr style=\"text-align: right;\">\n",
       "      <th></th>\n",
       "      <th>Organization</th>\n",
       "      <th>Article</th>\n",
       "      <th>Tokens</th>\n",
       "    </tr>\n",
       "  </thead>\n",
       "  <tbody>\n",
       "    <tr>\n",
       "      <th>38</th>\n",
       "      <td>CNN</td>\n",
       "      <td>_2024_02_08donald-trump-supreme-court-2024-ana...</td>\n",
       "      <td>['supreme', 'court', 'faces', 'greatest', 'tes...</td>\n",
       "    </tr>\n",
       "    <tr>\n",
       "      <th>39</th>\n",
       "      <td>CNN</td>\n",
       "      <td>_2024_02_08americans-detained-idf-gaza_index</td>\n",
       "      <td>['two', 'americans', 'detained', 'idf', 'gaza'...</td>\n",
       "    </tr>\n",
       "    <tr>\n",
       "      <th>40</th>\n",
       "      <td>CNN</td>\n",
       "      <td>_2024_02_13biden-trump-nato-comments_index</td>\n",
       "      <td>['biden', 'accuses', 'trump', 'bowing', 'putin...</td>\n",
       "    </tr>\n",
       "    <tr>\n",
       "      <th>41</th>\n",
       "      <td>CNN</td>\n",
       "      <td>_2024_02_14house-intel-chairman-serious-nation...</td>\n",
       "      <td>['house', 'intel', 'chairman', 'announces', 'â...</td>\n",
       "    </tr>\n",
       "    <tr>\n",
       "      <th>42</th>\n",
       "      <td>CNN</td>\n",
       "      <td>_2024_02_09kamala-harris-responds-special-coun...</td>\n",
       "      <td>['white', 'house', 'wonâ', 't', 'rule', 'relea...</td>\n",
       "    </tr>\n",
       "    <tr>\n",
       "      <th>...</th>\n",
       "      <td>...</td>\n",
       "      <td>...</td>\n",
       "      <td>...</td>\n",
       "    </tr>\n",
       "    <tr>\n",
       "      <th>126</th>\n",
       "      <td>CNN</td>\n",
       "      <td>_2024_02_13new-york-special-election-what-to-w...</td>\n",
       "      <td>['watch', 'new', 'yorkâ', 's', 'highstakes', '...</td>\n",
       "    </tr>\n",
       "    <tr>\n",
       "      <th>127</th>\n",
       "      <td>CNN</td>\n",
       "      <td>_2024_02_08biden-special-counsel-beau-death_index</td>\n",
       "      <td>['biden', 'slams', 'special', 'counsel', 'hur'...</td>\n",
       "    </tr>\n",
       "    <tr>\n",
       "      <th>128</th>\n",
       "      <td>CNN</td>\n",
       "      <td>_2024_02_12cq-brown-nato-trump_index</td>\n",
       "      <td>['joint', 'chiefs', 'chairman', 'says', 'â', '...</td>\n",
       "    </tr>\n",
       "    <tr>\n",
       "      <th>129</th>\n",
       "      <td>CNN</td>\n",
       "      <td>_2024_02_14new-york-special-election-takeaways...</td>\n",
       "      <td>['takeaways', 'new', 'yorkâ', 's', 'highstakes...</td>\n",
       "    </tr>\n",
       "    <tr>\n",
       "      <th>130</th>\n",
       "      <td>CNN</td>\n",
       "      <td>_2024_02_14menendez-bribery-scheme-new-filing_...</td>\n",
       "      <td>['sen', 'menendezâ', 's', 'wife', 'got', 'enga...</td>\n",
       "    </tr>\n",
       "  </tbody>\n",
       "</table>\n",
       "<p>93 rows × 3 columns</p>\n",
       "</div>"
      ],
      "text/plain": [
       "    Organization                                            Article  \\\n",
       "38           CNN  _2024_02_08donald-trump-supreme-court-2024-ana...   \n",
       "39           CNN       _2024_02_08americans-detained-idf-gaza_index   \n",
       "40           CNN         _2024_02_13biden-trump-nato-comments_index   \n",
       "41           CNN  _2024_02_14house-intel-chairman-serious-nation...   \n",
       "42           CNN  _2024_02_09kamala-harris-responds-special-coun...   \n",
       "..           ...                                                ...   \n",
       "126          CNN  _2024_02_13new-york-special-election-what-to-w...   \n",
       "127          CNN  _2024_02_08biden-special-counsel-beau-death_index   \n",
       "128          CNN               _2024_02_12cq-brown-nato-trump_index   \n",
       "129          CNN  _2024_02_14new-york-special-election-takeaways...   \n",
       "130          CNN  _2024_02_14menendez-bribery-scheme-new-filing_...   \n",
       "\n",
       "                                                Tokens  \n",
       "38   ['supreme', 'court', 'faces', 'greatest', 'tes...  \n",
       "39   ['two', 'americans', 'detained', 'idf', 'gaza'...  \n",
       "40   ['biden', 'accuses', 'trump', 'bowing', 'putin...  \n",
       "41   ['house', 'intel', 'chairman', 'announces', 'â...  \n",
       "42   ['white', 'house', 'wonâ', 't', 'rule', 'relea...  \n",
       "..                                                 ...  \n",
       "126  ['watch', 'new', 'yorkâ', 's', 'highstakes', '...  \n",
       "127  ['biden', 'slams', 'special', 'counsel', 'hur'...  \n",
       "128  ['joint', 'chiefs', 'chairman', 'says', 'â', '...  \n",
       "129  ['takeaways', 'new', 'yorkâ', 's', 'highstakes...  \n",
       "130  ['sen', 'menendezâ', 's', 'wife', 'got', 'enga...  \n",
       "\n",
       "[93 rows x 3 columns]"
      ]
     },
     "execution_count": 26,
     "metadata": {},
     "output_type": "execute_result"
    }
   ],
   "source": [
    "cnn_df"
   ]
  },
  {
   "cell_type": "code",
   "execution_count": 27,
   "id": "4f91e87d",
   "metadata": {},
   "outputs": [
    {
     "data": {
      "text/html": [
       "<div>\n",
       "<style scoped>\n",
       "    .dataframe tbody tr th:only-of-type {\n",
       "        vertical-align: middle;\n",
       "    }\n",
       "\n",
       "    .dataframe tbody tr th {\n",
       "        vertical-align: top;\n",
       "    }\n",
       "\n",
       "    .dataframe thead th {\n",
       "        text-align: right;\n",
       "    }\n",
       "</style>\n",
       "<table border=\"1\" class=\"dataframe\">\n",
       "  <thead>\n",
       "    <tr style=\"text-align: right;\">\n",
       "      <th></th>\n",
       "      <th>Organization</th>\n",
       "      <th>Article</th>\n",
       "      <th>Tokens</th>\n",
       "    </tr>\n",
       "  </thead>\n",
       "  <tbody>\n",
       "    <tr>\n",
       "      <th>0</th>\n",
       "      <td>FOX</td>\n",
       "      <td>haley-blames-trump-gop-loss-key-special-electi...</td>\n",
       "      <td>['haley', 'blames', 'trump', 'gop', 'loss', 'k...</td>\n",
       "    </tr>\n",
       "    <tr>\n",
       "      <th>1</th>\n",
       "      <td>FOX</td>\n",
       "      <td>biden-says-his-memory-fine-he-most-qualified-p...</td>\n",
       "      <td>['biden', 'says', 'memory', 'fine', 'qualified...</td>\n",
       "    </tr>\n",
       "    <tr>\n",
       "      <th>2</th>\n",
       "      <td>FOX</td>\n",
       "      <td>nikki-haley-calls-robert-hur-report-unbelievab...</td>\n",
       "      <td>['nikki', 'haley', 'calls', 'robert', 'hur', '...</td>\n",
       "    </tr>\n",
       "    <tr>\n",
       "      <th>3</th>\n",
       "      <td>FOX</td>\n",
       "      <td>dnc-alleges-rfk-jr-campaign-violating-election...</td>\n",
       "      <td>['dnc', 'alleges', 'rfk', 'jr', 'campaign', 'v...</td>\n",
       "    </tr>\n",
       "    <tr>\n",
       "      <th>4</th>\n",
       "      <td>FOX</td>\n",
       "      <td>border-impeachment-courts-gridlock-reigns-wash...</td>\n",
       "      <td>['border', 'impeachment', 'courts', 'gridlock'...</td>\n",
       "    </tr>\n",
       "    <tr>\n",
       "      <th>5</th>\n",
       "      <td>FOX</td>\n",
       "      <td>fox-news-politics-age-old-question</td>\n",
       "      <td>['politics', 'dems', 'ageold', 'question', 'ma...</td>\n",
       "    </tr>\n",
       "    <tr>\n",
       "      <th>6</th>\n",
       "      <td>FOX</td>\n",
       "      <td>gop-rep-tenney-calls-invoke-25th-amendment-rem...</td>\n",
       "      <td>['gop', 'rep', 'tenney', 'calls', 'invoke', '2...</td>\n",
       "    </tr>\n",
       "    <tr>\n",
       "      <th>7</th>\n",
       "      <td>FOX</td>\n",
       "      <td>.DS_Store</td>\n",
       "      <td>['bud1', 'e', 'dsdb']</td>\n",
       "    </tr>\n",
       "    <tr>\n",
       "      <th>8</th>\n",
       "      <td>FOX</td>\n",
       "      <td>fox-news-politics-feds-decline-charge-elderly-...</td>\n",
       "      <td>['politics', 'feds', 'decline', 'charge', 'eld...</td>\n",
       "    </tr>\n",
       "    <tr>\n",
       "      <th>9</th>\n",
       "      <td>FOX</td>\n",
       "      <td>trumps-nato-comments-trigger-fierce-media-euro...</td>\n",
       "      <td>['trumpâ', 's', 'nato', 'comments', 'trigger',...</td>\n",
       "    </tr>\n",
       "    <tr>\n",
       "      <th>10</th>\n",
       "      <td>FOX</td>\n",
       "      <td>why-bidens-anger-defensiveness-inflamed-anxiet...</td>\n",
       "      <td>['bidenâ', 's', 'anger', 'defensiveness', 'inf...</td>\n",
       "    </tr>\n",
       "    <tr>\n",
       "      <th>11</th>\n",
       "      <td>FOX</td>\n",
       "      <td>state-of-the-2024-republican-primary-where-the...</td>\n",
       "      <td>['trump', 'rips', 'â', 'foolishâ', 'gop', 'can...</td>\n",
       "    </tr>\n",
       "    <tr>\n",
       "      <th>12</th>\n",
       "      <td>FOX</td>\n",
       "      <td>biden-camp-reportedly-fears-photos-special-cou...</td>\n",
       "      <td>['biden', 'camp', 'reportedly', 'fears', 'phot...</td>\n",
       "    </tr>\n",
       "    <tr>\n",
       "      <th>13</th>\n",
       "      <td>FOX</td>\n",
       "      <td>squad-jamaal-bowman-honored-radical-black-acti...</td>\n",
       "      <td>['squads', 'jamaal', 'bowman', 'honored', 'rad...</td>\n",
       "    </tr>\n",
       "    <tr>\n",
       "      <th>14</th>\n",
       "      <td>FOX</td>\n",
       "      <td>lara-trump-every-single-penny-rnc-funds-electi...</td>\n",
       "      <td>['lara', 'trump', 'says', 'every', 'single', '...</td>\n",
       "    </tr>\n",
       "    <tr>\n",
       "      <th>15</th>\n",
       "      <td>FOX</td>\n",
       "      <td>biden-ghostwriter-escapes-special-counsel-char...</td>\n",
       "      <td>['biden', 'ghostwriter', 'escapes', 'special',...</td>\n",
       "    </tr>\n",
       "    <tr>\n",
       "      <th>16</th>\n",
       "      <td>FOX</td>\n",
       "      <td>sen-roger-marshall-rallies-republican-add-bord...</td>\n",
       "      <td>['sen', 'roger', 'marshall', 'rallies', 'repub...</td>\n",
       "    </tr>\n",
       "    <tr>\n",
       "      <th>17</th>\n",
       "      <td>FOX</td>\n",
       "      <td>joe-biden-enabled-hunter-sell-access-dangerous...</td>\n",
       "      <td>['joe', 'biden', 'enabled', 'family', 'sell', ...</td>\n",
       "    </tr>\n",
       "    <tr>\n",
       "      <th>18</th>\n",
       "      <td>FOX</td>\n",
       "      <td>biden-trump-questioning-european-commitment-na...</td>\n",
       "      <td>['biden', 'says', 'trump', 'questioning', 'eur...</td>\n",
       "    </tr>\n",
       "    <tr>\n",
       "      <th>19</th>\n",
       "      <td>FOX</td>\n",
       "      <td>hunter-bidens-phone-contained-multiple-photos-...</td>\n",
       "      <td>['hunter', 'bidens', 'phone', 'contained', 'mu...</td>\n",
       "    </tr>\n",
       "    <tr>\n",
       "      <th>20</th>\n",
       "      <td>FOX</td>\n",
       "      <td>house-intel-chair-turner-issues-vague-warning-...</td>\n",
       "      <td>['house', 'intel', 'chair', 'turner', 'warns',...</td>\n",
       "    </tr>\n",
       "    <tr>\n",
       "      <th>21</th>\n",
       "      <td>FOX</td>\n",
       "      <td>former-maryland-gov-larry-hogan-announces-repu...</td>\n",
       "      <td>['maryland', 'gov', 'larry', 'hogan', 'announc...</td>\n",
       "    </tr>\n",
       "    <tr>\n",
       "      <th>22</th>\n",
       "      <td>FOX</td>\n",
       "      <td>tony-bobulinski-testify-behind-closed-doors-bi...</td>\n",
       "      <td>['hunter', 'biden', 'associate', 'tony', 'bobu...</td>\n",
       "    </tr>\n",
       "    <tr>\n",
       "      <th>23</th>\n",
       "      <td>FOX</td>\n",
       "      <td>biden-retained-records-related-to-ukraine-chin...</td>\n",
       "      <td>['biden', 'retained', 'records', 'related', 'u...</td>\n",
       "    </tr>\n",
       "    <tr>\n",
       "      <th>24</th>\n",
       "      <td>FOX</td>\n",
       "      <td>joe-biden-big-guy-tony-bobulinski-said-during-...</td>\n",
       "      <td>['joe', 'biden', 'big', 'guy', 'tony', 'bobuli...</td>\n",
       "    </tr>\n",
       "    <tr>\n",
       "      <th>25</th>\n",
       "      <td>FOX</td>\n",
       "      <td>mike-pences-think-tank-rebuts-jd-vances-impeac...</td>\n",
       "      <td>['mike', 'pences', 'tank', 'pushes', 'back', '...</td>\n",
       "    </tr>\n",
       "    <tr>\n",
       "      <th>26</th>\n",
       "      <td>FOX</td>\n",
       "      <td>what-bully-pulpit-why-biden-stays-off-televisi...</td>\n",
       "      <td>['bully', 'pulpit', 'biden', 'stays', 'televis...</td>\n",
       "    </tr>\n",
       "    <tr>\n",
       "      <th>27</th>\n",
       "      <td>FOX</td>\n",
       "      <td>senate-republicans-prepare-long-haul-fight-ukr...</td>\n",
       "      <td>['senate', 'republicans', 'prepare', 'long', '...</td>\n",
       "    </tr>\n",
       "    <tr>\n",
       "      <th>28</th>\n",
       "      <td>FOX</td>\n",
       "      <td>biden-official-claims-special-counsel-report-w...</td>\n",
       "      <td>['biden', 'official', 'claims', 'special', 'co...</td>\n",
       "    </tr>\n",
       "    <tr>\n",
       "      <th>29</th>\n",
       "      <td>FOX</td>\n",
       "      <td>fox-news-politics-losing-none-of-these</td>\n",
       "      <td>['politics', 'losing', 'none', 'material', 'ma...</td>\n",
       "    </tr>\n",
       "    <tr>\n",
       "      <th>30</th>\n",
       "      <td>FOX</td>\n",
       "      <td>popular-gop-governor-announces-endorsement-key...</td>\n",
       "      <td>['popular', 'gop', 'governor', 'announces', 'e...</td>\n",
       "    </tr>\n",
       "    <tr>\n",
       "      <th>31</th>\n",
       "      <td>FOX</td>\n",
       "      <td>fox-news-politics-border-nonstarter</td>\n",
       "      <td>['politics', 'border', 'nonstarter', 'material...</td>\n",
       "    </tr>\n",
       "    <tr>\n",
       "      <th>32</th>\n",
       "      <td>FOX</td>\n",
       "      <td>biden-campaign-call-sidetracked-fitness-questi...</td>\n",
       "      <td>['biden', 'campaign', 'call', 'sidetracked', '...</td>\n",
       "    </tr>\n",
       "    <tr>\n",
       "      <th>33</th>\n",
       "      <td>FOX</td>\n",
       "      <td>former-nj-news-personality-launches-gop-bid-me...</td>\n",
       "      <td>['nj', 'personality', 'launches', 'gop', 'bid'...</td>\n",
       "    </tr>\n",
       "    <tr>\n",
       "      <th>34</th>\n",
       "      <td>FOX</td>\n",
       "      <td>vulnerable-house-republican-lampooned-embarras...</td>\n",
       "      <td>['watch', 'vulnerable', 'republican', 'lampoon...</td>\n",
       "    </tr>\n",
       "    <tr>\n",
       "      <th>35</th>\n",
       "      <td>FOX</td>\n",
       "      <td>hunter-biden-paid-100k-through-joint-venture-c...</td>\n",
       "      <td>['hunter', 'biden', 'paid', '100k', 'jointvent...</td>\n",
       "    </tr>\n",
       "    <tr>\n",
       "      <th>36</th>\n",
       "      <td>FOX</td>\n",
       "      <td>conservative-firebrand-announces-run-key-battl...</td>\n",
       "      <td>['conservative', 'firebrand', 'announces', 'ru...</td>\n",
       "    </tr>\n",
       "    <tr>\n",
       "      <th>37</th>\n",
       "      <td>FOX</td>\n",
       "      <td>fox-news-politics-bidens-comey-moment</td>\n",
       "      <td>['politics', 'bidens', 'comey', 'moment', 'mat...</td>\n",
       "    </tr>\n",
       "  </tbody>\n",
       "</table>\n",
       "</div>"
      ],
      "text/plain": [
       "   Organization                                            Article  \\\n",
       "0           FOX  haley-blames-trump-gop-loss-key-special-electi...   \n",
       "1           FOX  biden-says-his-memory-fine-he-most-qualified-p...   \n",
       "2           FOX  nikki-haley-calls-robert-hur-report-unbelievab...   \n",
       "3           FOX  dnc-alleges-rfk-jr-campaign-violating-election...   \n",
       "4           FOX  border-impeachment-courts-gridlock-reigns-wash...   \n",
       "5           FOX                 fox-news-politics-age-old-question   \n",
       "6           FOX  gop-rep-tenney-calls-invoke-25th-amendment-rem...   \n",
       "7           FOX                                          .DS_Store   \n",
       "8           FOX  fox-news-politics-feds-decline-charge-elderly-...   \n",
       "9           FOX  trumps-nato-comments-trigger-fierce-media-euro...   \n",
       "10          FOX  why-bidens-anger-defensiveness-inflamed-anxiet...   \n",
       "11          FOX  state-of-the-2024-republican-primary-where-the...   \n",
       "12          FOX  biden-camp-reportedly-fears-photos-special-cou...   \n",
       "13          FOX  squad-jamaal-bowman-honored-radical-black-acti...   \n",
       "14          FOX  lara-trump-every-single-penny-rnc-funds-electi...   \n",
       "15          FOX  biden-ghostwriter-escapes-special-counsel-char...   \n",
       "16          FOX  sen-roger-marshall-rallies-republican-add-bord...   \n",
       "17          FOX  joe-biden-enabled-hunter-sell-access-dangerous...   \n",
       "18          FOX  biden-trump-questioning-european-commitment-na...   \n",
       "19          FOX  hunter-bidens-phone-contained-multiple-photos-...   \n",
       "20          FOX  house-intel-chair-turner-issues-vague-warning-...   \n",
       "21          FOX  former-maryland-gov-larry-hogan-announces-repu...   \n",
       "22          FOX  tony-bobulinski-testify-behind-closed-doors-bi...   \n",
       "23          FOX  biden-retained-records-related-to-ukraine-chin...   \n",
       "24          FOX  joe-biden-big-guy-tony-bobulinski-said-during-...   \n",
       "25          FOX  mike-pences-think-tank-rebuts-jd-vances-impeac...   \n",
       "26          FOX  what-bully-pulpit-why-biden-stays-off-televisi...   \n",
       "27          FOX  senate-republicans-prepare-long-haul-fight-ukr...   \n",
       "28          FOX  biden-official-claims-special-counsel-report-w...   \n",
       "29          FOX             fox-news-politics-losing-none-of-these   \n",
       "30          FOX  popular-gop-governor-announces-endorsement-key...   \n",
       "31          FOX                fox-news-politics-border-nonstarter   \n",
       "32          FOX  biden-campaign-call-sidetracked-fitness-questi...   \n",
       "33          FOX  former-nj-news-personality-launches-gop-bid-me...   \n",
       "34          FOX  vulnerable-house-republican-lampooned-embarras...   \n",
       "35          FOX  hunter-biden-paid-100k-through-joint-venture-c...   \n",
       "36          FOX  conservative-firebrand-announces-run-key-battl...   \n",
       "37          FOX              fox-news-politics-bidens-comey-moment   \n",
       "\n",
       "                                               Tokens  \n",
       "0   ['haley', 'blames', 'trump', 'gop', 'loss', 'k...  \n",
       "1   ['biden', 'says', 'memory', 'fine', 'qualified...  \n",
       "2   ['nikki', 'haley', 'calls', 'robert', 'hur', '...  \n",
       "3   ['dnc', 'alleges', 'rfk', 'jr', 'campaign', 'v...  \n",
       "4   ['border', 'impeachment', 'courts', 'gridlock'...  \n",
       "5   ['politics', 'dems', 'ageold', 'question', 'ma...  \n",
       "6   ['gop', 'rep', 'tenney', 'calls', 'invoke', '2...  \n",
       "7                               ['bud1', 'e', 'dsdb']  \n",
       "8   ['politics', 'feds', 'decline', 'charge', 'eld...  \n",
       "9   ['trumpâ', 's', 'nato', 'comments', 'trigger',...  \n",
       "10  ['bidenâ', 's', 'anger', 'defensiveness', 'inf...  \n",
       "11  ['trump', 'rips', 'â', 'foolishâ', 'gop', 'can...  \n",
       "12  ['biden', 'camp', 'reportedly', 'fears', 'phot...  \n",
       "13  ['squads', 'jamaal', 'bowman', 'honored', 'rad...  \n",
       "14  ['lara', 'trump', 'says', 'every', 'single', '...  \n",
       "15  ['biden', 'ghostwriter', 'escapes', 'special',...  \n",
       "16  ['sen', 'roger', 'marshall', 'rallies', 'repub...  \n",
       "17  ['joe', 'biden', 'enabled', 'family', 'sell', ...  \n",
       "18  ['biden', 'says', 'trump', 'questioning', 'eur...  \n",
       "19  ['hunter', 'bidens', 'phone', 'contained', 'mu...  \n",
       "20  ['house', 'intel', 'chair', 'turner', 'warns',...  \n",
       "21  ['maryland', 'gov', 'larry', 'hogan', 'announc...  \n",
       "22  ['hunter', 'biden', 'associate', 'tony', 'bobu...  \n",
       "23  ['biden', 'retained', 'records', 'related', 'u...  \n",
       "24  ['joe', 'biden', 'big', 'guy', 'tony', 'bobuli...  \n",
       "25  ['mike', 'pences', 'tank', 'pushes', 'back', '...  \n",
       "26  ['bully', 'pulpit', 'biden', 'stays', 'televis...  \n",
       "27  ['senate', 'republicans', 'prepare', 'long', '...  \n",
       "28  ['biden', 'official', 'claims', 'special', 'co...  \n",
       "29  ['politics', 'losing', 'none', 'material', 'ma...  \n",
       "30  ['popular', 'gop', 'governor', 'announces', 'e...  \n",
       "31  ['politics', 'border', 'nonstarter', 'material...  \n",
       "32  ['biden', 'campaign', 'call', 'sidetracked', '...  \n",
       "33  ['nj', 'personality', 'launches', 'gop', 'bid'...  \n",
       "34  ['watch', 'vulnerable', 'republican', 'lampoon...  \n",
       "35  ['hunter', 'biden', 'paid', '100k', 'jointvent...  \n",
       "36  ['conservative', 'firebrand', 'announces', 'ru...  \n",
       "37  ['politics', 'bidens', 'comey', 'moment', 'mat...  "
      ]
     },
     "execution_count": 27,
     "metadata": {},
     "output_type": "execute_result"
    }
   ],
   "source": [
    "fox_df"
   ]
  },
  {
   "cell_type": "code",
   "execution_count": 51,
   "id": "21a7d247",
   "metadata": {},
   "outputs": [
    {
     "data": {
      "text/plain": [
       "(131, 5186)"
      ]
     },
     "execution_count": 51,
     "metadata": {},
     "output_type": "execute_result"
    }
   ],
   "source": [
    "count_text_vectorizer = CountVectorizer(stop_words=list(sw), min_df=2, max_df=0.9)\n",
    "count_text_vectors = count_text_vectorizer.fit_transform(df[\"Tokens\"])\n",
    "count_text_vectors.shape"
   ]
  },
  {
   "cell_type": "code",
   "execution_count": 52,
   "id": "97f4cad2",
   "metadata": {},
   "outputs": [
    {
     "data": {
      "text/plain": [
       "(93, 4208)"
      ]
     },
     "execution_count": 52,
     "metadata": {},
     "output_type": "execute_result"
    }
   ],
   "source": [
    "cnn_count_text_vectorizer = CountVectorizer(stop_words=list(sw), min_df=2, max_df=0.9)\n",
    "cnn_count_text_vectors = cnn_count_text_vectorizer.fit_transform(cnn_df[\"Tokens\"])\n",
    "cnn_count_text_vectors.shape"
   ]
  },
  {
   "cell_type": "code",
   "execution_count": 53,
   "id": "d76b21d4",
   "metadata": {},
   "outputs": [
    {
     "data": {
      "text/plain": [
       "(38, 1953)"
      ]
     },
     "execution_count": 53,
     "metadata": {},
     "output_type": "execute_result"
    }
   ],
   "source": [
    "fox_count_text_vectorizer = CountVectorizer(stop_words=list(sw), min_df=2, max_df=0.9)\n",
    "fox_count_text_vectors = fox_count_text_vectorizer.fit_transform(fox_df[\"Tokens\"])\n",
    "fox_count_text_vectors.shape"
   ]
  },
  {
   "cell_type": "code",
   "execution_count": 54,
   "id": "875deba9",
   "metadata": {},
   "outputs": [
    {
     "data": {
      "text/plain": [
       "(131, 5186)"
      ]
     },
     "execution_count": 54,
     "metadata": {},
     "output_type": "execute_result"
    }
   ],
   "source": [
    "tfidf_text_vectorizer = TfidfVectorizer(stop_words=list(sw), min_df=2, max_df=0.9)\n",
    "tfidf_text_vectors = tfidf_text_vectorizer.fit_transform(df['Tokens'])\n",
    "tfidf_text_vectors.shape"
   ]
  },
  {
   "cell_type": "code",
   "execution_count": 65,
   "id": "d472109c",
   "metadata": {},
   "outputs": [
    {
     "data": {
      "text/plain": [
       "(93, 4208)"
      ]
     },
     "execution_count": 65,
     "metadata": {},
     "output_type": "execute_result"
    }
   ],
   "source": [
    "cnn_tfidf_text_vectorizer = TfidfVectorizer(stop_words=list(sw), min_df=2, max_df=0.9)\n",
    "cnn_tfidf_text_vectors = cnn_tfidf_text_vectorizer.fit_transform(cnn_df['Tokens'])\n",
    "cnn_tfidf_text_vectors.shape"
   ]
  },
  {
   "cell_type": "code",
   "execution_count": 69,
   "id": "222f8aa9",
   "metadata": {},
   "outputs": [
    {
     "data": {
      "text/plain": [
       "(38, 1953)"
      ]
     },
     "execution_count": 69,
     "metadata": {},
     "output_type": "execute_result"
    }
   ],
   "source": [
    "fox_tfidf_text_vectorizer = TfidfVectorizer(stop_words=list(sw), min_df=2, max_df=0.9)\n",
    "fox_tfidf_text_vectors = tfidf_text_vectorizer.fit_transform(fox_df['Tokens'])\n",
    "fox_tfidf_text_vectors.shape"
   ]
  },
  {
   "attachments": {},
   "cell_type": "markdown",
   "id": "f77c3f94",
   "metadata": {},
   "source": [
    "## Fitting a Non-Negative Matrix Factorization Model"
   ]
  },
  {
   "cell_type": "code",
   "execution_count": 57,
   "id": "d28745a3",
   "metadata": {},
   "outputs": [],
   "source": [
    "cnn_nmf_model = NMF(n_components=5, random_state=314)\n",
    "cnn_W_nmf_matrix = cnn_nmf_model.fit_transform(cnn_tfidf_text_vectors)\n",
    "cnn_H_nmf_matrix = cnn_nmf_model.components_"
   ]
  },
  {
   "cell_type": "code",
   "execution_count": 70,
   "id": "c9cf86f1",
   "metadata": {},
   "outputs": [],
   "source": [
    "fox_nmf_model = NMF(n_components=5, random_state=315)\n",
    "fox_W_nmf_matrix = fox_nmf_model.fit_transform(fox_tfidf_text_vectors)\n",
    "fox_H_nmf_matrix = fox_nmf_model.components_"
   ]
  },
  {
   "cell_type": "code",
   "execution_count": 59,
   "id": "28a78e89",
   "metadata": {},
   "outputs": [],
   "source": [
    "# assertion statements to ensure the document-topic and topic-feature matrices have the intended shapes\n",
    "assert cnn_W_nmf_matrix.shape == (93, 5), f\"Expected shape (93, 5), but got {cnn_W_nmf_matrix.shape}\"\n",
    "assert cnn_H_nmf_matrix.shape == (5, 4208), f\"Expected shape (5, 4208), but got {cnn_H_nmf_matrix.shape}\"\n",
    "assert fox_W_nmf_matrix.shape == (38, 5), f\"Expected shape (38, 5), but got {fox_W_nmf_matrix.shape}\"\n",
    "assert fox_H_nmf_matrix.shape == (5, 1953), f\"Expected shape (5, 1953), but got {fox_H_nmf_matrix.shape}\""
   ]
  },
  {
   "cell_type": "code",
   "execution_count": 60,
   "id": "a67185e7",
   "metadata": {},
   "outputs": [
    {
     "name": "stdout",
     "output_type": "stream",
     "text": [
      "\n",
      "Topic 00\n",
      "  senate (1.15)\n",
      "  ukraine (1.13)\n",
      "  aid (1.11)\n",
      "  border (1.04)\n",
      "  bill (0.97)\n",
      "\n",
      "Topic 01\n",
      "  biden (1.48)\n",
      "  classified (1.43)\n",
      "  report (1.41)\n",
      "  hur (1.14)\n",
      "  bidenâ (1.12)\n",
      "\n",
      "Topic 02\n",
      "  court (1.83)\n",
      "  trump (1.20)\n",
      "  supreme (1.05)\n",
      "  case (0.92)\n",
      "  trumpâ (0.80)\n",
      "\n",
      "Topic 03\n",
      "  suozzi (2.11)\n",
      "  pilip (1.62)\n",
      "  santos (1.08)\n",
      "  york (0.94)\n",
      "  election (0.89)\n",
      "\n",
      "Topic 04\n",
      "  trump (1.49)\n",
      "  haley (0.88)\n",
      "  biden (0.65)\n",
      "  nato (0.59)\n",
      "  voters (0.51)\n"
     ]
    }
   ],
   "source": [
    "display_topics(cnn_nmf_model, cnn_tfidf_text_vectorizer.get_feature_names_out())"
   ]
  },
  {
   "cell_type": "code",
   "execution_count": 68,
   "id": "707613d4",
   "metadata": {},
   "outputs": [
    {
     "ename": "NotFittedError",
     "evalue": "Vocabulary not fitted or provided",
     "output_type": "error",
     "traceback": [
      "\u001b[0;31m---------------------------------------------------------------------------\u001b[0m",
      "\u001b[0;31mNotFittedError\u001b[0m                            Traceback (most recent call last)",
      "Cell \u001b[0;32mIn[68], line 1\u001b[0m\n\u001b[0;32m----> 1\u001b[0m display_topics(fox_nmf_model, fox_tfidf_text_vectorizer\u001b[39m.\u001b[39;49mget_feature_names_out())\n",
      "File \u001b[0;32m~/Library/Python/3.9/lib/python/site-packages/sklearn/feature_extraction/text.py:1485\u001b[0m, in \u001b[0;36mCountVectorizer.get_feature_names_out\u001b[0;34m(self, input_features)\u001b[0m\n\u001b[1;32m   1472\u001b[0m \u001b[39mdef\u001b[39;00m \u001b[39mget_feature_names_out\u001b[39m(\u001b[39mself\u001b[39m, input_features\u001b[39m=\u001b[39m\u001b[39mNone\u001b[39;00m):\n\u001b[1;32m   1473\u001b[0m \u001b[39m    \u001b[39m\u001b[39m\"\"\"Get output feature names for transformation.\u001b[39;00m\n\u001b[1;32m   1474\u001b[0m \n\u001b[1;32m   1475\u001b[0m \u001b[39m    Parameters\u001b[39;00m\n\u001b[0;32m   (...)\u001b[0m\n\u001b[1;32m   1483\u001b[0m \u001b[39m        Transformed feature names.\u001b[39;00m\n\u001b[1;32m   1484\u001b[0m \u001b[39m    \"\"\"\u001b[39;00m\n\u001b[0;32m-> 1485\u001b[0m     \u001b[39mself\u001b[39;49m\u001b[39m.\u001b[39;49m_check_vocabulary()\n\u001b[1;32m   1486\u001b[0m     \u001b[39mreturn\u001b[39;00m np\u001b[39m.\u001b[39masarray(\n\u001b[1;32m   1487\u001b[0m         [t \u001b[39mfor\u001b[39;00m t, i \u001b[39min\u001b[39;00m \u001b[39msorted\u001b[39m(\u001b[39mself\u001b[39m\u001b[39m.\u001b[39mvocabulary_\u001b[39m.\u001b[39mitems(), key\u001b[39m=\u001b[39mitemgetter(\u001b[39m1\u001b[39m))],\n\u001b[1;32m   1488\u001b[0m         dtype\u001b[39m=\u001b[39m\u001b[39mobject\u001b[39m,\n\u001b[1;32m   1489\u001b[0m     )\n",
      "File \u001b[0;32m~/Library/Python/3.9/lib/python/site-packages/sklearn/feature_extraction/text.py:508\u001b[0m, in \u001b[0;36m_VectorizerMixin._check_vocabulary\u001b[0;34m(self)\u001b[0m\n\u001b[1;32m    506\u001b[0m     \u001b[39mself\u001b[39m\u001b[39m.\u001b[39m_validate_vocabulary()\n\u001b[1;32m    507\u001b[0m     \u001b[39mif\u001b[39;00m \u001b[39mnot\u001b[39;00m \u001b[39mself\u001b[39m\u001b[39m.\u001b[39mfixed_vocabulary_:\n\u001b[0;32m--> 508\u001b[0m         \u001b[39mraise\u001b[39;00m NotFittedError(\u001b[39m\"\u001b[39m\u001b[39mVocabulary not fitted or provided\u001b[39m\u001b[39m\"\u001b[39m)\n\u001b[1;32m    510\u001b[0m \u001b[39mif\u001b[39;00m \u001b[39mlen\u001b[39m(\u001b[39mself\u001b[39m\u001b[39m.\u001b[39mvocabulary_) \u001b[39m==\u001b[39m \u001b[39m0\u001b[39m:\n\u001b[1;32m    511\u001b[0m     \u001b[39mraise\u001b[39;00m \u001b[39mValueError\u001b[39;00m(\u001b[39m\"\u001b[39m\u001b[39mVocabulary is empty\u001b[39m\u001b[39m\"\u001b[39m)\n",
      "\u001b[0;31mNotFittedError\u001b[0m: Vocabulary not fitted or provided"
     ]
    }
   ],
   "source": [
    "display_topics(fox_nmf_model, fox_tfidf_text_vectorizer.get_feature_names_out())"
   ]
  },
  {
   "attachments": {},
   "cell_type": "markdown",
   "id": "82e37cb5",
   "metadata": {},
   "source": [
    "## Fitting an LSA Model"
   ]
  },
  {
   "cell_type": "code",
   "execution_count": 62,
   "id": "00b53d3d",
   "metadata": {},
   "outputs": [],
   "source": [
    "cnn_svd_model = TruncatedSVD(n_components=5, random_state=320)\n",
    "cnn_W_svd_matrix = cnn_svd_model.fit_transform(cnn_tfidf_text_vectors)\n",
    "cnn_H_svd_matrix = cnn_svd_model.components_"
   ]
  },
  {
   "cell_type": "code",
   "execution_count": 63,
   "id": "06fc5223",
   "metadata": {},
   "outputs": [],
   "source": [
    "fox_svd_model = TruncatedSVD(n_components=5, random_state=321)\n",
    "fox_W_svd_matrix = fox_svd_model.fit_transform(fox_tfidf_text_vectors)\n",
    "fox_H_svd_matrix = fox_svd_model.components_"
   ]
  },
  {
   "cell_type": "code",
   "execution_count": 64,
   "id": "29508f0c",
   "metadata": {},
   "outputs": [],
   "source": [
    "assert cnn_W_svd_matrix.shape == (93, 5), f\"Expected shape (93, 5), but got {cnn_W_svd_matrix.shape}\"\n",
    "assert cnn_H_svd_matrix.shape == (5, 4208), f\"Expected shape (5, 4208), but got {cnn_H_svd_matrix.shape}\"\n",
    "assert fox_W_svd_matrix.shape == (38, 5), f\"Expected shape (38, 5), but got {fox_W_svd_matrix.shape}\"\n",
    "assert fox_H_svd_matrix.shape == (5, 1953), f\"Expected shape (5, 1953), but got {fox_H_svd_matrix.shape}\""
   ]
  },
  {
   "cell_type": "code",
   "execution_count": 49,
   "id": "377a886e",
   "metadata": {},
   "outputs": [
    {
     "name": "stdout",
     "output_type": "stream",
     "text": [
      "\n",
      "Topic 00\n",
      "  trump (1.08)\n",
      "  election (0.52)\n",
      "  court (0.50)\n",
      "  trumpâ (0.46)\n",
      "  bidenâ (0.45)\n",
      "\n",
      "Topic 01\n",
      "  senate (38.71)\n",
      "  aid (31.84)\n",
      "  ukraine (31.34)\n",
      "  border (31.02)\n",
      "  bill (28.53)\n",
      "\n",
      "Topic 02\n",
      "  report (8.08)\n",
      "  classified (7.94)\n",
      "  hur (6.49)\n",
      "  bidenâ (6.25)\n",
      "  documents (6.08)\n",
      "\n",
      "Topic 03\n",
      "  suozzi (90.83)\n",
      "  pilip (69.21)\n",
      "  democrats (46.95)\n",
      "  santos (45.48)\n",
      "  voters (40.81)\n",
      "\n",
      "Topic 04\n",
      "  nato (65.81)\n",
      "  trump (45.53)\n",
      "  haley (40.57)\n",
      "  comments (20.68)\n",
      "  carolina (20.26)\n"
     ]
    }
   ],
   "source": [
    "display_topics(cnn_svd_model, cnn_tfidf_text_vectorizer.get_feature_names_out())"
   ]
  },
  {
   "cell_type": "code",
   "execution_count": 50,
   "id": "48cd5ebd",
   "metadata": {},
   "outputs": [
    {
     "ename": "NotFittedError",
     "evalue": "Vocabulary not fitted or provided",
     "output_type": "error",
     "traceback": [
      "\u001b[0;31m---------------------------------------------------------------------------\u001b[0m",
      "\u001b[0;31mNotFittedError\u001b[0m                            Traceback (most recent call last)",
      "Cell \u001b[0;32mIn[50], line 1\u001b[0m\n\u001b[0;32m----> 1\u001b[0m display_topics(fox_svd_model, fox_tfidf_text_vectorizer\u001b[39m.\u001b[39;49mget_feature_names_out())\n",
      "File \u001b[0;32m~/Library/Python/3.9/lib/python/site-packages/sklearn/feature_extraction/text.py:1485\u001b[0m, in \u001b[0;36mCountVectorizer.get_feature_names_out\u001b[0;34m(self, input_features)\u001b[0m\n\u001b[1;32m   1472\u001b[0m \u001b[39mdef\u001b[39;00m \u001b[39mget_feature_names_out\u001b[39m(\u001b[39mself\u001b[39m, input_features\u001b[39m=\u001b[39m\u001b[39mNone\u001b[39;00m):\n\u001b[1;32m   1473\u001b[0m \u001b[39m    \u001b[39m\u001b[39m\"\"\"Get output feature names for transformation.\u001b[39;00m\n\u001b[1;32m   1474\u001b[0m \n\u001b[1;32m   1475\u001b[0m \u001b[39m    Parameters\u001b[39;00m\n\u001b[0;32m   (...)\u001b[0m\n\u001b[1;32m   1483\u001b[0m \u001b[39m        Transformed feature names.\u001b[39;00m\n\u001b[1;32m   1484\u001b[0m \u001b[39m    \"\"\"\u001b[39;00m\n\u001b[0;32m-> 1485\u001b[0m     \u001b[39mself\u001b[39;49m\u001b[39m.\u001b[39;49m_check_vocabulary()\n\u001b[1;32m   1486\u001b[0m     \u001b[39mreturn\u001b[39;00m np\u001b[39m.\u001b[39masarray(\n\u001b[1;32m   1487\u001b[0m         [t \u001b[39mfor\u001b[39;00m t, i \u001b[39min\u001b[39;00m \u001b[39msorted\u001b[39m(\u001b[39mself\u001b[39m\u001b[39m.\u001b[39mvocabulary_\u001b[39m.\u001b[39mitems(), key\u001b[39m=\u001b[39mitemgetter(\u001b[39m1\u001b[39m))],\n\u001b[1;32m   1488\u001b[0m         dtype\u001b[39m=\u001b[39m\u001b[39mobject\u001b[39m,\n\u001b[1;32m   1489\u001b[0m     )\n",
      "File \u001b[0;32m~/Library/Python/3.9/lib/python/site-packages/sklearn/feature_extraction/text.py:508\u001b[0m, in \u001b[0;36m_VectorizerMixin._check_vocabulary\u001b[0;34m(self)\u001b[0m\n\u001b[1;32m    506\u001b[0m     \u001b[39mself\u001b[39m\u001b[39m.\u001b[39m_validate_vocabulary()\n\u001b[1;32m    507\u001b[0m     \u001b[39mif\u001b[39;00m \u001b[39mnot\u001b[39;00m \u001b[39mself\u001b[39m\u001b[39m.\u001b[39mfixed_vocabulary_:\n\u001b[0;32m--> 508\u001b[0m         \u001b[39mraise\u001b[39;00m NotFittedError(\u001b[39m\"\u001b[39m\u001b[39mVocabulary not fitted or provided\u001b[39m\u001b[39m\"\u001b[39m)\n\u001b[1;32m    510\u001b[0m \u001b[39mif\u001b[39;00m \u001b[39mlen\u001b[39m(\u001b[39mself\u001b[39m\u001b[39m.\u001b[39mvocabulary_) \u001b[39m==\u001b[39m \u001b[39m0\u001b[39m:\n\u001b[1;32m    511\u001b[0m     \u001b[39mraise\u001b[39;00m \u001b[39mValueError\u001b[39;00m(\u001b[39m\"\u001b[39m\u001b[39mVocabulary is empty\u001b[39m\u001b[39m\"\u001b[39m)\n",
      "\u001b[0;31mNotFittedError\u001b[0m: Vocabulary not fitted or provided"
     ]
    }
   ],
   "source": [
    "display_topics(fox_svd_model, fox_tfidf_text_vectorizer.get_feature_names_out())"
   ]
  },
  {
   "attachments": {},
   "cell_type": "markdown",
   "id": "b4ab4d29",
   "metadata": {},
   "source": [
    "## Fitting an LDA Model\n",
    "\n",
    "Finally, fit a five-topic LDA model using the count vectors (`count_text_vectors` from above)."
   ]
  },
  {
   "cell_type": "code",
   "execution_count": 71,
   "id": "c86e7ce9",
   "metadata": {},
   "outputs": [],
   "source": [
    "cnn_lda_model = LatentDirichletAllocation(n_components=5, random_state=40)\n",
    "cnn_W_lda_matrix = cnn_lda_model.fit_transform(cnn_count_text_vectors)\n",
    "cnn_H_lda_matrix = cnn_lda_model.components_"
   ]
  },
  {
   "cell_type": "code",
   "execution_count": 72,
   "id": "47364682",
   "metadata": {},
   "outputs": [],
   "source": [
    "fox_lda_model = LatentDirichletAllocation(n_components=5, random_state=41)\n",
    "fox_W_lda_matrix = fox_lda_model.fit_transform(fox_count_text_vectors)\n",
    "fox_H_lda_matrix = fox_lda_model.components_"
   ]
  },
  {
   "cell_type": "code",
   "execution_count": 73,
   "id": "eafb6e62",
   "metadata": {},
   "outputs": [],
   "source": [
    "assert cnn_W_lda_matrix.shape == (93, 5), f\"Expected shape (93, 5), but got {cnn_W_lda_matrix.shape}\"\n",
    "assert cnn_H_lda_matrix.shape == (5, 4208), f\"Expected shape (5, 4208), but got {cnn_H_lda_matrix.shape}\"\n",
    "assert fox_W_lda_matrix.shape == (38, 5), f\"Expected shape (38, 5), but got {fox_W_lda_matrix.shape}\"\n",
    "assert fox_H_lda_matrix.shape == (5, 1953), f\"Expected shape (5, 1953), but got {fox_H_lda_matrix.shape}\""
   ]
  },
  {
   "cell_type": "code",
   "execution_count": 74,
   "id": "ab18adf5",
   "metadata": {},
   "outputs": [
    {
     "name": "stdout",
     "output_type": "stream",
     "text": [
      "\n",
      "Topic 00\n",
      "  house (1.43)\n",
      "  republicans (1.03)\n",
      "  republican (0.72)\n",
      "  president (0.69)\n",
      "  border (0.68)\n",
      "\n",
      "Topic 01\n",
      "  trump (2.57)\n",
      "  senate (1.07)\n",
      "  biden (1.05)\n",
      "  republican (0.89)\n",
      "  ukraine (0.78)\n",
      "\n",
      "Topic 02\n",
      "  biden (2.35)\n",
      "  president (1.25)\n",
      "  bidenâ (1.14)\n",
      "  report (0.97)\n",
      "  classified (0.78)\n",
      "\n",
      "Topic 03\n",
      "  trump (1.98)\n",
      "  campaign (1.03)\n",
      "  kennedy (0.98)\n",
      "  dnc (0.67)\n",
      "  american (0.57)\n",
      "\n",
      "Topic 04\n",
      "  court (2.07)\n",
      "  trump (2.05)\n",
      "  election (1.31)\n",
      "  trumpâ (1.09)\n",
      "  case (1.07)\n"
     ]
    }
   ],
   "source": [
    "display_topics(cnn_lda_model, cnn_count_text_vectorizer.get_feature_names_out())"
   ]
  },
  {
   "cell_type": "code",
   "execution_count": 75,
   "id": "e3dd425f",
   "metadata": {},
   "outputs": [
    {
     "name": "stdout",
     "output_type": "stream",
     "text": [
      "\n",
      "Topic 00\n",
      "  border (2.01)\n",
      "  bill (1.43)\n",
      "  senate (1.27)\n",
      "  aid (1.17)\n",
      "  ukraine (1.14)\n",
      "\n",
      "Topic 01\n",
      "  biden (5.32)\n",
      "  bobulinski (3.69)\n",
      "  hunter (3.33)\n",
      "  joe (2.80)\n",
      "  business (1.84)\n",
      "\n",
      "Topic 02\n",
      "  trump (3.08)\n",
      "  president (1.65)\n",
      "  nato (1.56)\n",
      "  donald (1.00)\n",
      "  media (0.98)\n",
      "\n",
      "Topic 03\n",
      "  trump (1.97)\n",
      "  republican (1.38)\n",
      "  senate (1.35)\n",
      "  new (1.29)\n",
      "  gop (0.93)\n",
      "\n",
      "Topic 04\n",
      "  biden (4.37)\n",
      "  president (2.46)\n",
      "  special (1.45)\n",
      "  report (1.32)\n",
      "  counsel (1.07)\n"
     ]
    }
   ],
   "source": [
    "display_topics(fox_lda_model, fox_count_text_vectorizer.get_feature_names_out())"
   ]
  },
  {
   "cell_type": "code",
   "execution_count": 76,
   "id": "6aae75ca",
   "metadata": {},
   "outputs": [
    {
     "name": "stderr",
     "output_type": "stream",
     "text": [
      "/Users/calebmccurdy/Library/Python/3.9/lib/python/site-packages/pyLDAvis/_prepare.py:9: DeprecationWarning: \n",
      "Pyarrow will become a required dependency of pandas in the next major release of pandas (pandas 3.0),\n",
      "(to allow more performant data types, such as the Arrow string type, and better interoperability with other libraries)\n",
      "but was not found to be installed on your system.\n",
      "If this would cause problems for you,\n",
      "please provide us feedback at https://github.com/pandas-dev/pandas/issues/54466\n",
      "        \n",
      "  import pandas as pd\n",
      "/Users/calebmccurdy/Library/Python/3.9/lib/python/site-packages/pyLDAvis/_prepare.py:9: DeprecationWarning: \n",
      "Pyarrow will become a required dependency of pandas in the next major release of pandas (pandas 3.0),\n",
      "(to allow more performant data types, such as the Arrow string type, and better interoperability with other libraries)\n",
      "but was not found to be installed on your system.\n",
      "If this would cause problems for you,\n",
      "please provide us feedback at https://github.com/pandas-dev/pandas/issues/54466\n",
      "        \n",
      "  import pandas as pd\n",
      "/Users/calebmccurdy/Library/Python/3.9/lib/python/site-packages/pyLDAvis/_prepare.py:9: DeprecationWarning: \n",
      "Pyarrow will become a required dependency of pandas in the next major release of pandas (pandas 3.0),\n",
      "(to allow more performant data types, such as the Arrow string type, and better interoperability with other libraries)\n",
      "but was not found to be installed on your system.\n",
      "If this would cause problems for you,\n",
      "please provide us feedback at https://github.com/pandas-dev/pandas/issues/54466\n",
      "        \n",
      "  import pandas as pd\n",
      "/Users/calebmccurdy/Library/Python/3.9/lib/python/site-packages/pyLDAvis/_prepare.py:9: DeprecationWarning: \n",
      "Pyarrow will become a required dependency of pandas in the next major release of pandas (pandas 3.0),\n",
      "(to allow more performant data types, such as the Arrow string type, and better interoperability with other libraries)\n",
      "but was not found to be installed on your system.\n",
      "If this would cause problems for you,\n",
      "please provide us feedback at https://github.com/pandas-dev/pandas/issues/54466\n",
      "        \n",
      "  import pandas as pd\n"
     ]
    }
   ],
   "source": [
    "cnn_lda_display = pyLDAvis.lda_model.prepare(cnn_lda_model, cnn_count_text_vectors, cnn_count_text_vectorizer, sort_topics=False)"
   ]
  },
  {
   "cell_type": "code",
   "execution_count": 77,
   "id": "16518865",
   "metadata": {},
   "outputs": [],
   "source": [
    "fox_lda_display = pyLDAvis.lda_model.prepare(fox_lda_model, fox_count_text_vectors, fox_count_text_vectorizer, sort_topics=False)"
   ]
  },
  {
   "cell_type": "code",
   "execution_count": 78,
   "id": "2a89fc15",
   "metadata": {},
   "outputs": [
    {
     "data": {
      "text/html": [
       "\n",
       "<link rel=\"stylesheet\" type=\"text/css\" href=\"https://cdn.jsdelivr.net/gh/bmabey/pyLDAvis@3.4.0/pyLDAvis/js/ldavis.v1.0.0.css\">\n",
       "\n",
       "\n",
       "<div id=\"ldavis_el814601406977152733927647336288\" style=\"background-color:white;\"></div>\n",
       "<script type=\"text/javascript\">\n",
       "\n",
       "var ldavis_el814601406977152733927647336288_data = {\"mdsDat\": {\"x\": [0.10825323522049003, 0.10318409638091637, -0.12587802985937885, -0.054870980380929225, -0.030688321361098378], \"y\": [-0.02594085780013117, -0.03957168203005519, -0.09738047910757894, 0.01520922534110594, 0.1476837935966594], \"topics\": [1, 2, 3, 4, 5], \"cluster\": [1, 1, 1, 1, 1], \"Freq\": [21.257581809605284, 24.01381820520101, 30.148333781173736, 5.776633070970663, 18.803633133049306]}, \"tinfo\": {\"Term\": [\"trump\", \"court\", \"supreme\", \"senate\", \"case\", \"campaign\", \"classified\", \"report\", \"election\", \"biden\", \"biden\\u00e2\", \"republicans\", \"ukraine\", \"hur\", \"haley\", \"suozzi\", \"nato\", \"trump\\u00e2\", \"border\", \"kennedy\", \"documents\", \"aid\", \"republican\", \"ballot\", \"house\", \"justices\", \"vote\", \"pilip\", \"bill\", \"democrats\", \"suozzi\", \"pilip\", \"mayorkas\", \"santos\", \"scalise\", \"impeachment\", \"nassau\", \"belknap\", \"alejandro\", \"mccarthy\", \"suozzi\\u00e2\", \"austin\", \"migrant\", \"impeached\", \"tuesday\\u00e2\", \"york\\u00e2\", \"mazi\", \"migrants\", \"compromise\", \"1876\", \"hogan\", \"impeach\", \"3rd\", \"dhs\", \"vegas\", \"nevada\\u00e2\", \"candidates\\u00e2\", \"buck\", \"solutions\", \"queens\", \"homeland\", \"tom\", \"immigration\", \"island\", \"rep\", \"county\", \"delegates\", \"running\", \"republicans\", \"border\", \"secretary\", \"house\", \"district\", \"majority\", \"democrats\", \"race\", \"gop\", \"vote\", \"republican\", \"democratic\", \"long\", \"speaker\", \"tuesday\", \"party\", \"new\", \"york\", \"senate\", \"congress\", \"election\", \"president\", \"last\", \"state\", \"biden\", \"trump\", \"one\", \"security\", \"voters\", \"us\", \"whatley\", \"rnc\", \"contests\", \"carlson\", \"independents\", \"percentage\", \"pennsylvania\", \"blocked\", \"negative\", \"mcdaniel\", \"sending\", \"express\", \"loses\", \"performance\", \"more\\u00e2\", \"putin\", \"assistance\", \"green\", \"ukraine\", \"rand\", \"pollster\", \"ideas\", \"discharge\", \"rating\", \"senatepassed\", \"occasions\", \"953\", \"lean\", \"extreme\", \"upcoming\", \"aid\", \"haley\", \"seats\", \"iowa\", \"package\", \"amendments\", \"bill\", \"approval\", \"senate\", \"narrowly\", \"poll\", \"carolina\", \"billion\", \"nevada\", \"trump\", \"results\", \"includes\", \"primary\", \"republican\", \"voters\", \"2020\", \"vote\", \"party\", \"states\", \"gop\", \"democrats\", \"support\", \"foreign\", \"republicans\", \"biden\", \"election\", \"border\", \"trump\\u00e2\", \"presidential\", \"president\", \"us\", \"one\", \"it\\u00e2\", \"house\", \"new\", \"hur\", \"hur\\u00e2\", \"memory\", \"hamas\", \"beau\", \"elderly\", \"aides\", \"notebooks\", \"afghanistan\", \"classified\", \"idf\", \"wellmeaning\", \"october\", \"documents\", \"inaccurate\", \"report\\u00e2\", \"ghostwriter\", \"willfully\", \"memory\\u00e2\", \"fitness\", \"recall\", \"nato\\u00e2\", \"israeli\", \"counsel\\u00e2\", \"ceasefire\", \"materials\", \"acuity\", \"contained\", \"bauer\", \"abdullah\", \"age\", \"report\", \"son\", \"nato\", \"2017\", \"gaza\", \"biden\\u00e2\", \"counsel\", \"information\", \"handling\", \"biden\", \"family\", \"died\", \"investigation\", \"special\", \"president\\u00e2\", \"defense\", \"interview\", \"department\", \"president\", \"white\", \"north\", \"according\", \"us\", \"found\", \"wrote\", \"i\\u00e2\", \"house\", \"questions\", \"thursday\", \"trump\", \"last\", \"made\", \"campaign\", \"dnc\", \"kennedy\", \"complaint\", \"mellon\", \"rfk\", \"stalking\", \"kennedy\\u00e2\", \"jr\\u00e2\", \"horse\\u00e2\", \"dnc\\u00e2\", \"reid\", \"ad\", \"gathering\", \"values\", \"jr\", \"candidacy\", \"armed\", \"donor\", \"blamed\", \"license\", \"disrespecting\", \"donations\", \"horse\", \"inc\", \"kennedyaligned\", \"lis\", \"outlining\", \"pac\\u00e2\", \"prolific\", \"propping\", \"pelosi\", \"donors\", \"pac\", \"montana\", \"rioters\", \"prosecutors\", \"tim\", \"signature\", \"million\", \"illegally\", \"riot\", \"grounds\", \"capitol\", \"campaign\", \"was\\u00e2\", \"filing\", \"trump\", \"american\", \"comments\", \"january\", \"2024\", \"ballot\", \"found\", \"military\", \"election\", \"donald\", \"it\\u00e2\", \"people\", \"trump\\u00e2\", \"he\\u00e2\", \"white\", \"house\", \"haley\", \"made\", \"president\", \"first\", \"biden\", \"one\", \"judge\", \"14th\", \"immunity\", \"appeals\", \"roberts\", \"cia\", \"justices\", \"threats\", \"circuit\", \"kavanaugh\", \"judges\", \"willis\", \"interference\", \"dc\", \"insurrectionist\", \"arguments\", \"physical\", \"provision\", \"disqualified\", \"adult\", \"amendment\\u00e2\", \"colorado\\u00e2\", \"shall\", \"supreme\", \"section\", \"court\", \"institutions\", \"civil\", \"jackson\", \"kagan\", \"eligibility\", \"oral\", \"ruling\", \"colorado\", \"amendment\", \"court\\u00e2\", \"hearing\", \"case\", \"insurrection\", \"trial\", \"federal\", \"whether\", \"legal\", \"ballot\", \"decision\", \"election\", \"trump\\u00e2\", \"criminal\", \"trump\", \"justice\", \"state\", \"officials\", \"president\", \"question\", \"states\", \"us\", \"presidential\", \"last\", \"cases\", \"questions\", \"it\\u00e2\"], \"Freq\": [599.0, 185.0, 95.0, 163.0, 112.0, 124.0, 105.0, 136.0, 253.0, 474.0, 184.0, 168.0, 91.0, 76.0, 85.0, 56.0, 97.0, 203.0, 106.0, 26.0, 78.0, 90.0, 177.0, 66.0, 282.0, 46.0, 107.0, 43.0, 76.0, 127.0, 55.64521373683413, 42.91594724304918, 34.73202814116843, 31.095644663764475, 25.638350004176377, 41.92185586135698, 11.092629987101727, 11.092584987449642, 11.091786549249502, 11.088800621331083, 10.183453891159562, 10.180791599800074, 9.27421699271721, 9.273449642648172, 8.357102439923786, 7.45569671453953, 7.455435215253517, 7.45522411251671, 7.454995234183633, 6.54632076996908, 13.936631505600564, 13.812028192922723, 5.637206485871592, 5.6368127862168524, 5.629041574259641, 5.628817500395737, 5.566286746078482, 4.7280319262176, 4.7279694267538375, 4.727956326749078, 16.53297795150776, 9.274045979349205, 32.563539652589064, 18.28722822033687, 31.848382313188985, 21.09442330669147, 18.97530781731051, 19.242130793376518, 93.62311585317755, 61.89085054010805, 26.4201378194241, 129.668647581395, 24.618245331893778, 31.87681285965394, 57.140230618502834, 26.732551981675545, 53.31224353423155, 47.907144996451926, 65.3900201793628, 41.617641854122716, 30.559649690453433, 22.877765187882094, 28.062527204111344, 38.42989871845623, 47.34473193577111, 25.877131279303327, 49.56613529678492, 29.432906653165283, 53.4810966870547, 62.666482126278474, 35.803889363827444, 32.64347854473963, 45.133661894709554, 42.17930246549971, 32.05991766994518, 30.750587100386085, 29.85422302833222, 30.00174560163283, 22.564451253167576, 14.172724530201128, 11.36078160693515, 10.442841061022861, 9.509829319191313, 9.50891077389014, 6.713022295916527, 6.702021402256645, 5.781009995371094, 5.7808830622609575, 5.7797474899920305, 5.77849446745261, 5.776573981876191, 7.433183003059776, 5.766177498728477, 23.950465339820536, 26.20285583437689, 12.218404498589493, 79.6689449472947, 4.848600856580055, 4.8485836124749735, 4.847709729324441, 4.847246308999446, 4.846740418741343, 4.846595936871123, 4.8464826237721645, 4.846145829918677, 4.845783219680293, 4.842314787582224, 5.656295577162947, 74.51707740863553, 69.90675909356968, 26.21605272511316, 9.459700596015375, 32.94248384337427, 8.62240415912488, 56.225888072040554, 8.553484777634603, 109.84408426536292, 7.6388363107714135, 20.908853238520738, 34.888618190816125, 21.952939192213844, 26.07703253121382, 263.16034257033806, 15.746324971689043, 12.903320869473461, 42.168186021906145, 91.3941352732307, 68.48593295118215, 53.70463338738303, 53.94743787080802, 48.22561691819463, 57.00783904197142, 59.401804128372575, 60.221648864853776, 39.657433922578626, 35.448465893542284, 61.168475125386564, 107.61748485338954, 70.97331570197106, 41.15029326249745, 55.51225503115701, 39.942342018405114, 70.13931845051881, 49.498279917413335, 41.417784331872184, 38.581122881886756, 45.35891224542677, 37.04865220955949, 76.14781718042964, 48.95163201520826, 44.26254657993876, 18.943022784139966, 18.004833054942715, 18.004097303048002, 17.065564324054304, 15.191816492324238, 14.252938722425549, 100.14601550862254, 12.378845662122604, 12.37752567563805, 28.223273523255784, 74.05038939293392, 11.441003611457523, 11.440855773232867, 11.440855722129324, 11.440273378649888, 11.4385588028391, 11.437976145391788, 10.502329013191842, 10.501843492872547, 23.632466321855976, 23.563537808031107, 9.56494765769866, 9.564734178412332, 9.563758291539672, 9.560837307733088, 8.62768062227506, 8.627487410141221, 61.423589483315716, 124.1549136295094, 20.76359952863387, 87.71111662912926, 20.621723589427337, 39.35155779572296, 146.8420635611642, 55.344745439798245, 50.95494762050504, 27.314862522660412, 301.70399911295993, 23.63102425598219, 20.698798298439858, 21.47833819674135, 72.057139650257, 51.12422279328822, 44.82352802576255, 42.76635225251227, 35.67392163985423, 160.2064613953449, 63.603559240320706, 33.71399784430231, 48.45836598201748, 94.84585660163084, 32.724138977355956, 37.64881542164433, 39.88370198785973, 79.10087818376158, 34.90911077655687, 38.83704400101348, 80.47453526719126, 41.25253378671665, 35.889857884696994, 37.95952563781058, 16.61305450772458, 24.098208108994754, 5.387814902756531, 4.6395072679293765, 4.6395072679293765, 4.6395072679293765, 4.639507266675379, 3.1428920001746317, 3.1428919992103848, 2.39458436339876, 2.39458436339876, 5.388129059587065, 4.088829623656269, 11.375755314056438, 6.1364756303972365, 3.890787370697018, 3.891900779471412, 3.3078517106017022, 1.6462767306786874, 1.6462767276298922, 1.6462767272684962, 1.6462767272684962, 1.6462767272684962, 1.6462767272684962, 1.6462767272684962, 1.6462767272684962, 1.6462767272684962, 1.6462767272684962, 1.6462767272684962, 1.6462767272684962, 6.884764131365672, 4.759378856297213, 6.136405928944492, 6.13319585231927, 4.639711163717182, 10.625514565360962, 3.034389630003434, 3.8914272301015664, 9.047789305972723, 4.639877754040592, 6.885098422168589, 5.388048103133561, 12.124131370640994, 25.499992690996443, 4.640186529018075, 6.88525841696741, 48.74299752497663, 13.9823222717753, 9.87861161429038, 11.931376834072585, 10.433557647073586, 10.447931946062111, 8.198957234131022, 8.626025531940726, 13.012567148232707, 9.195116870919914, 10.183164217122094, 9.171069345883193, 11.445583473538939, 8.620281716191899, 9.129898165006159, 10.747658409134594, 8.414804882305837, 7.872426971179612, 8.883258027382242, 7.269881802004284, 7.676561654888755, 6.900480484794444, 35.216550499833666, 22.716095821770022, 22.713130674456718, 20.909813303958607, 17.30674596216114, 12.799131969327568, 43.28349242886646, 19.415934035512322, 10.095461671473432, 10.095573698263152, 23.482570720919703, 9.194282675361508, 9.193397198110627, 19.807847400209535, 7.3886129333881305, 25.25124207611845, 7.359420794115476, 8.997170991820424, 6.4901896514856485, 6.489945324643979, 6.489973781967628, 6.488159572284817, 8.06894143862946, 85.32563455440739, 8.06405311607487, 165.88841650222454, 7.24991507370409, 13.654281792726739, 5.58889966313083, 5.588814442109176, 11.165104660241031, 10.996347304899507, 21.757428438048187, 35.33568406807593, 25.421306192182822, 11.898431178019065, 17.07616541693038, 85.58514326002275, 32.25891437586539, 25.549756066960942, 47.39372672151579, 45.1730663207703, 31.54627827097055, 41.666904595802016, 25.14960293932156, 104.97479422612142, 87.79944082233074, 34.148175386067784, 164.44621445680045, 26.59215039521564, 41.36137152848535, 30.31805840466323, 63.23606446348408, 26.81087546058576, 33.464027680069584, 39.81203509912637, 30.397419404668835, 29.88998217727455, 24.577104933210183, 24.099258441398025, 24.314595977089283], \"Total\": [599.0, 185.0, 95.0, 163.0, 112.0, 124.0, 105.0, 136.0, 253.0, 474.0, 184.0, 168.0, 91.0, 76.0, 85.0, 56.0, 97.0, 203.0, 106.0, 26.0, 78.0, 90.0, 177.0, 66.0, 282.0, 46.0, 107.0, 43.0, 76.0, 127.0, 56.34929726752261, 43.61997817804768, 35.43686246730156, 31.799903031995157, 26.344527923709986, 43.64531173669724, 11.796684299698207, 11.796686040480568, 11.79670476154994, 11.796510052506616, 10.887445759439887, 10.887523456887719, 9.97820878229157, 9.978227820999289, 9.069146977686835, 8.15973598811219, 8.159742651989527, 8.159744844213465, 8.159750459179941, 7.2505035914555025, 15.45385299426087, 15.425778141849126, 6.341262427846614, 6.341273071607617, 6.341399898711247, 6.341400598558199, 6.3408136950435985, 5.432023848109756, 5.432025784251116, 5.432025788308612, 19.054865514047517, 10.916004067958621, 40.90268235698371, 22.810356527837346, 42.99702818015119, 27.284394131415088, 24.484826920496026, 25.510327299449287, 168.7048688361931, 106.36451132470994, 38.17023851071052, 282.93226745932105, 37.07152493086828, 53.929455104013236, 127.82358229352579, 45.061448456431506, 125.43690987621936, 107.64856974563975, 177.37906244867196, 94.32977971648452, 59.48131723235018, 38.120766809347195, 53.87527978454875, 93.26611319488094, 134.52528624279373, 47.21593645969767, 163.60638189446775, 64.67564280437391, 253.90246639055806, 365.13158446300844, 132.30974502920012, 111.61427155352156, 474.7227783688686, 599.0033922848061, 130.26369089180295, 104.64641515751674, 137.3848758271917, 216.11483164224435, 23.263992161679305, 14.872185049452026, 12.074441912558797, 11.142496328269248, 10.210060824600113, 10.21002718344397, 7.412790915200569, 7.4123463425154785, 6.480378495645532, 6.480374132319738, 6.480253093497172, 6.480311115967196, 6.480231298649651, 8.346418215211605, 6.4798380785022855, 27.007183141639953, 29.768223304581298, 13.914384549489016, 91.1406525145445, 5.547955508319501, 5.5479551006254875, 5.5479333469105185, 5.547921825791254, 5.547895239257755, 5.547925543690855, 5.547827151512835, 5.5478944181339855, 5.547871587933491, 5.5479280219552045, 6.480617169540635, 90.2263592107242, 85.38948865228932, 31.53769160872275, 11.118025541559582, 40.79757961269848, 10.187982607091756, 76.8368167121103, 10.186210222906844, 163.60638189446775, 9.09291124089742, 27.305351087752964, 48.68940634039843, 29.738006465853726, 36.96228997509714, 599.0033922848061, 21.10965026601204, 16.683449137242203, 68.52222443113865, 177.37906244867196, 137.3848758271917, 101.12464298313442, 107.64856974563975, 93.26611319488094, 118.19953680773068, 125.43690987621936, 127.82358229352579, 78.06628318897315, 68.72946919403277, 168.7048688361931, 474.7227783688686, 253.90246639055806, 106.36451132470994, 203.79737234345527, 104.44559005862075, 365.13158446300844, 216.11483164224435, 130.26369089180295, 121.05939327783213, 282.93226745932105, 134.52528624279373, 76.8469208201867, 49.65096903628987, 44.96201115142151, 19.64165970917155, 18.70385588857809, 18.703843418892216, 17.76601587740241, 15.890492278190381, 14.952678794762246, 105.72182832857425, 13.077127017537613, 13.07709140015268, 29.92371854303648, 78.56854722583624, 12.139333690104666, 12.1393285382917, 12.139328532333757, 12.139316117314177, 12.139284487283037, 12.139287089221915, 11.201526034387383, 11.201527843417693, 25.239869528123343, 25.2294038733902, 10.263749833005079, 10.263730420905459, 10.26372121921687, 10.263726329899697, 9.325961496152084, 9.325960360792457, 66.41882036463035, 136.33885451133645, 22.44820641466344, 97.42633909611473, 22.42047983881914, 44.909865259385384, 184.17938976245736, 68.90828284660368, 62.93638336611782, 31.716642743242065, 474.7227783688686, 27.32378955796089, 24.080385224079876, 25.148563273733973, 103.75677851746056, 70.41777275381573, 61.9884358162316, 58.89275481511653, 49.187717476323996, 365.13158446300844, 108.25588811598564, 45.764277449185286, 76.87874475276622, 216.11483164224435, 46.57110426950799, 64.14050703009937, 73.08564330892513, 282.93226745932105, 61.774405211158836, 81.81029110713371, 599.0033922848061, 132.30974502920012, 74.16264775489458, 124.22111052878212, 18.25771013097068, 26.677943710032697, 6.123992407456573, 5.375684774142449, 5.375684774142449, 5.375684774142449, 5.37568477443332, 3.879069507070225, 3.879069507293887, 3.1307618742024284, 3.1307618742024284, 7.061704245736081, 5.488796608430743, 15.851690870449506, 8.736798813117721, 5.559872650820366, 5.564843027286785, 4.747199502590155, 2.3824542403984905, 2.3824542411002203, 2.382454241176607, 2.382454241176607, 2.382454241176607, 2.382454241176607, 2.382454241176607, 2.382454241176607, 2.382454241176607, 2.382454241176607, 2.382454241176607, 2.382454241176607, 10.433843612474158, 7.154833280423151, 9.623132698245092, 9.670195006930811, 7.2095048994219475, 19.80207908330171, 4.811640768300384, 6.492025136681021, 18.065944320971088, 8.15812576226991, 13.170810179199727, 10.63113272701986, 30.195516185766607, 124.22111052878212, 9.064952882959695, 17.72180532662545, 599.0033922848061, 74.64017765191429, 44.24024227262046, 67.95193929659602, 59.152215086423396, 66.67983902923947, 46.57110426950799, 58.53296815978661, 253.90246639055806, 78.9329936114518, 121.05939327783213, 81.02479634495904, 203.79737234345527, 78.24410657746145, 108.25588811598564, 282.93226745932105, 85.38948865228932, 74.16264775489458, 365.13158446300844, 86.90597315419014, 474.7227783688686, 130.26369089180295, 36.04582433213549, 23.421728153476153, 23.421804295124108, 21.61876515891086, 18.013140717099052, 13.505985813695691, 46.0033747811152, 20.741434065433953, 10.801524529486336, 10.801648243355244, 25.260231217976408, 9.900132612033326, 9.90024091227703, 21.66343584826383, 8.097442287142577, 27.78107189187265, 8.098503219600186, 9.90814572250718, 7.195892159607295, 7.195820968048795, 7.195899594488054, 7.195933176273149, 9.007790312964039, 95.25861335719544, 9.007985968658511, 185.30667890173595, 8.102874491873857, 15.341417356725351, 6.294451714123212, 6.294454643909116, 12.633998817799352, 12.45142221749233, 24.9543394956144, 41.01449100851633, 29.762696328636025, 13.513758909976069, 19.862444114145536, 112.37537478671429, 39.88899704511954, 33.50883442946737, 69.8089009241329, 72.12954619234571, 46.345981887167646, 66.67983902923947, 37.30171038151133, 253.90246639055806, 203.79737234345527, 61.00170854043159, 599.0033922848061, 48.20683114171483, 111.61427155352156, 69.70702351892734, 365.13158446300844, 56.60484391067709, 118.19953680773068, 216.11483164224435, 104.44559005862075, 132.30974502920012, 44.75472413891592, 61.774405211158836, 121.05939327783213], \"Category\": [\"Default\", \"Default\", \"Default\", \"Default\", \"Default\", \"Default\", \"Default\", \"Default\", \"Default\", \"Default\", \"Default\", \"Default\", \"Default\", \"Default\", \"Default\", \"Default\", \"Default\", \"Default\", \"Default\", \"Default\", \"Default\", \"Default\", \"Default\", \"Default\", \"Default\", \"Default\", \"Default\", \"Default\", \"Default\", \"Default\", \"Topic1\", \"Topic1\", \"Topic1\", \"Topic1\", \"Topic1\", \"Topic1\", \"Topic1\", \"Topic1\", \"Topic1\", \"Topic1\", \"Topic1\", \"Topic1\", \"Topic1\", \"Topic1\", \"Topic1\", \"Topic1\", \"Topic1\", \"Topic1\", \"Topic1\", \"Topic1\", \"Topic1\", \"Topic1\", \"Topic1\", \"Topic1\", \"Topic1\", \"Topic1\", \"Topic1\", \"Topic1\", \"Topic1\", \"Topic1\", \"Topic1\", \"Topic1\", \"Topic1\", \"Topic1\", \"Topic1\", \"Topic1\", \"Topic1\", \"Topic1\", \"Topic1\", \"Topic1\", \"Topic1\", \"Topic1\", \"Topic1\", \"Topic1\", \"Topic1\", \"Topic1\", \"Topic1\", \"Topic1\", \"Topic1\", \"Topic1\", \"Topic1\", \"Topic1\", \"Topic1\", \"Topic1\", \"Topic1\", \"Topic1\", \"Topic1\", \"Topic1\", \"Topic1\", \"Topic1\", \"Topic1\", \"Topic1\", \"Topic1\", \"Topic1\", \"Topic1\", \"Topic1\", \"Topic1\", \"Topic1\", \"Topic2\", \"Topic2\", \"Topic2\", \"Topic2\", \"Topic2\", \"Topic2\", \"Topic2\", \"Topic2\", \"Topic2\", \"Topic2\", \"Topic2\", \"Topic2\", \"Topic2\", \"Topic2\", \"Topic2\", \"Topic2\", \"Topic2\", \"Topic2\", \"Topic2\", \"Topic2\", \"Topic2\", \"Topic2\", \"Topic2\", \"Topic2\", \"Topic2\", \"Topic2\", \"Topic2\", \"Topic2\", \"Topic2\", \"Topic2\", \"Topic2\", \"Topic2\", \"Topic2\", \"Topic2\", \"Topic2\", \"Topic2\", \"Topic2\", \"Topic2\", \"Topic2\", \"Topic2\", \"Topic2\", \"Topic2\", \"Topic2\", \"Topic2\", \"Topic2\", \"Topic2\", \"Topic2\", \"Topic2\", \"Topic2\", \"Topic2\", \"Topic2\", \"Topic2\", \"Topic2\", \"Topic2\", \"Topic2\", \"Topic2\", \"Topic2\", \"Topic2\", \"Topic2\", \"Topic2\", \"Topic2\", \"Topic2\", \"Topic2\", \"Topic2\", \"Topic2\", \"Topic2\", \"Topic2\", \"Topic2\", \"Topic2\", \"Topic2\", \"Topic3\", \"Topic3\", \"Topic3\", \"Topic3\", \"Topic3\", \"Topic3\", \"Topic3\", \"Topic3\", \"Topic3\", \"Topic3\", \"Topic3\", \"Topic3\", \"Topic3\", \"Topic3\", \"Topic3\", \"Topic3\", \"Topic3\", \"Topic3\", \"Topic3\", \"Topic3\", \"Topic3\", \"Topic3\", \"Topic3\", \"Topic3\", \"Topic3\", \"Topic3\", \"Topic3\", \"Topic3\", \"Topic3\", \"Topic3\", \"Topic3\", \"Topic3\", \"Topic3\", \"Topic3\", \"Topic3\", \"Topic3\", \"Topic3\", \"Topic3\", \"Topic3\", \"Topic3\", \"Topic3\", \"Topic3\", \"Topic3\", \"Topic3\", \"Topic3\", \"Topic3\", \"Topic3\", \"Topic3\", \"Topic3\", \"Topic3\", \"Topic3\", \"Topic3\", \"Topic3\", \"Topic3\", \"Topic3\", \"Topic3\", \"Topic3\", \"Topic3\", \"Topic3\", \"Topic3\", \"Topic3\", \"Topic3\", \"Topic3\", \"Topic3\", \"Topic4\", \"Topic4\", \"Topic4\", \"Topic4\", \"Topic4\", \"Topic4\", \"Topic4\", \"Topic4\", \"Topic4\", \"Topic4\", \"Topic4\", \"Topic4\", \"Topic4\", \"Topic4\", \"Topic4\", \"Topic4\", \"Topic4\", \"Topic4\", \"Topic4\", \"Topic4\", \"Topic4\", \"Topic4\", \"Topic4\", \"Topic4\", \"Topic4\", \"Topic4\", \"Topic4\", \"Topic4\", \"Topic4\", \"Topic4\", \"Topic4\", \"Topic4\", \"Topic4\", \"Topic4\", \"Topic4\", \"Topic4\", \"Topic4\", \"Topic4\", \"Topic4\", \"Topic4\", \"Topic4\", \"Topic4\", \"Topic4\", \"Topic4\", \"Topic4\", \"Topic4\", \"Topic4\", \"Topic4\", \"Topic4\", \"Topic4\", \"Topic4\", \"Topic4\", \"Topic4\", \"Topic4\", \"Topic4\", \"Topic4\", \"Topic4\", \"Topic4\", \"Topic4\", \"Topic4\", \"Topic4\", \"Topic4\", \"Topic4\", \"Topic4\", \"Topic4\", \"Topic4\", \"Topic4\", \"Topic4\", \"Topic5\", \"Topic5\", \"Topic5\", \"Topic5\", \"Topic5\", \"Topic5\", \"Topic5\", \"Topic5\", \"Topic5\", \"Topic5\", \"Topic5\", \"Topic5\", \"Topic5\", \"Topic5\", \"Topic5\", \"Topic5\", \"Topic5\", \"Topic5\", \"Topic5\", \"Topic5\", \"Topic5\", \"Topic5\", \"Topic5\", \"Topic5\", \"Topic5\", \"Topic5\", \"Topic5\", \"Topic5\", \"Topic5\", \"Topic5\", \"Topic5\", \"Topic5\", \"Topic5\", \"Topic5\", \"Topic5\", \"Topic5\", \"Topic5\", \"Topic5\", \"Topic5\", \"Topic5\", \"Topic5\", \"Topic5\", \"Topic5\", \"Topic5\", \"Topic5\", \"Topic5\", \"Topic5\", \"Topic5\", \"Topic5\", \"Topic5\", \"Topic5\", \"Topic5\", \"Topic5\", \"Topic5\", \"Topic5\", \"Topic5\", \"Topic5\", \"Topic5\", \"Topic5\", \"Topic5\", \"Topic5\"], \"logprob\": [30.0, 29.0, 28.0, 27.0, 26.0, 25.0, 24.0, 23.0, 22.0, 21.0, 20.0, 19.0, 18.0, 17.0, 16.0, 15.0, 14.0, 13.0, 12.0, 11.0, 10.0, 9.0, 8.0, 7.0, 6.0, 5.0, 4.0, 3.0, 2.0, 1.0, -5.0938, -5.3536, -5.5652, -5.6758, -5.8688, -5.377, -6.7066, -6.7066, -6.7066, -6.7069, -6.7921, -6.7923, -6.8856, -6.8857, -6.9897, -7.1039, -7.1039, -7.1039, -7.104, -7.2339, -6.4783, -6.4873, -7.3835, -7.3835, -7.3849, -7.3849, -7.3961, -7.5593, -7.5593, -7.5593, -6.3075, -6.8856, -5.6296, -6.2066, -5.6519, -6.0638, -6.1697, -6.1557, -4.5736, -4.9875, -5.8387, -4.2479, -5.9094, -5.651, -5.0673, -5.827, -5.1367, -5.2436, -4.9325, -5.3843, -5.6932, -5.9827, -5.7784, -5.464, -5.2554, -5.8595, -5.2095, -5.7307, -5.1335, -4.975, -5.5348, -5.6272, -5.3032, -5.3709, -5.6452, -5.6869, -5.7165, -5.7116, -6.1184, -6.5834, -6.8046, -6.8888, -6.9824, -6.9825, -7.3307, -7.3323, -7.4802, -7.4802, -7.4804, -7.4806, -7.4809, -7.2288, -7.4827, -6.0588, -5.9689, -6.7318, -4.8569, -7.6561, -7.6561, -7.6563, -7.6563, -7.6565, -7.6565, -7.6565, -7.6566, -7.6566, -7.6574, -7.502, -4.9237, -4.9876, -5.9684, -6.9877, -5.74, -7.0804, -5.2054, -7.0884, -4.5357, -7.2015, -6.1946, -5.6826, -6.1459, -5.9737, -3.662, -6.4782, -6.6773, -5.4931, -4.7196, -5.0081, -5.2513, -5.2467, -5.3589, -5.1916, -5.1504, -5.1367, -5.5545, -5.6667, -5.1211, -4.5562, -4.9725, -5.5175, -5.2182, -5.5473, -4.9843, -5.3328, -5.511, -5.582, -5.4202, -5.6225, -5.1296, -5.5714, -5.6721, -6.5208, -6.5716, -6.5717, -6.6252, -6.7415, -6.8053, -4.8556, -6.9463, -6.9464, -6.1221, -5.1575, -7.0251, -7.0251, -7.0251, -7.0251, -7.0253, -7.0253, -7.1107, -7.1107, -6.2996, -6.3026, -7.2042, -7.2042, -7.2043, -7.2046, -7.3073, -7.3073, -5.3445, -4.6407, -6.4291, -4.9882, -6.4359, -5.7897, -4.4729, -5.4487, -5.5313, -6.1548, -3.7528, -6.2997, -6.4322, -6.3952, -5.1848, -5.528, -5.6595, -5.7065, -5.8878, -4.3858, -5.3096, -5.9443, -5.5816, -4.91, -5.9741, -5.834, -5.7763, -5.0915, -5.9095, -5.8029, -5.0743, -5.7425, -5.8818, -5.8257, -4.9998, -4.6278, -6.1258, -6.2753, -6.2753, -6.2753, -6.2753, -6.6648, -6.6648, -6.9367, -6.9367, -6.1258, -6.4017, -5.3785, -5.9957, -6.4513, -6.4511, -6.6137, -7.3114, -7.3114, -7.3114, -7.3114, -7.3114, -7.3114, -7.3114, -7.3114, -7.3114, -7.3114, -7.3114, -7.3114, -5.8806, -6.2498, -5.9957, -5.9962, -6.2753, -5.4467, -6.6999, -6.4512, -5.6074, -6.2753, -5.8806, -6.1258, -5.3148, -4.5713, -6.2752, -5.8806, -3.9234, -5.1722, -5.5196, -5.3308, -5.4649, -5.4635, -5.7059, -5.6552, -5.244, -5.5913, -5.4892, -5.5939, -5.3723, -5.6558, -5.5984, -5.4353, -5.68, -5.7466, -5.6258, -5.8262, -5.7718, -5.8784, -5.4287, -5.8671, -5.8672, -5.95, -6.1391, -6.4408, -5.2224, -6.0241, -6.6781, -6.6781, -5.8339, -6.7716, -6.7717, -6.0041, -6.9902, -5.7613, -6.9942, -6.7933, -7.1199, -7.1199, -7.1199, -7.1202, -6.9022, -4.5437, -6.9028, -3.8789, -7.0092, -6.3761, -7.2694, -7.2694, -6.5774, -6.5926, -5.9102, -5.4253, -5.7546, -6.5138, -6.1525, -4.5407, -5.5164, -5.7496, -5.1317, -5.1797, -5.5387, -5.2605, -5.7653, -4.3365, -4.5151, -5.4595, -3.8876, -5.7096, -5.2678, -5.5784, -4.8433, -5.7014, -5.4797, -5.306, -5.5758, -5.5927, -5.7884, -5.808, -5.7991], \"loglift\": [30.0, 29.0, 28.0, 27.0, 26.0, 25.0, 24.0, 23.0, 22.0, 21.0, 20.0, 19.0, 18.0, 17.0, 16.0, 15.0, 14.0, 13.0, 12.0, 11.0, 10.0, 9.0, 8.0, 7.0, 6.0, 5.0, 4.0, 3.0, 2.0, 1.0, 1.5359, 1.5322, 1.5284, 1.5261, 1.5213, 1.5082, 1.4869, 1.4869, 1.4868, 1.4866, 1.4816, 1.4813, 1.4753, 1.4752, 1.4667, 1.4582, 1.4582, 1.4582, 1.4581, 1.4463, 1.4451, 1.438, 1.4308, 1.4307, 1.4293, 1.4293, 1.4182, 1.4097, 1.4096, 1.4096, 1.4065, 1.3854, 1.3205, 1.3274, 1.2483, 1.2912, 1.2935, 1.2665, 0.9596, 1.007, 1.1805, 0.7682, 1.1391, 1.0227, 0.7433, 1.0263, 0.6928, 0.7388, 0.5505, 0.7302, 0.8825, 1.0379, 0.8962, 0.6618, 0.5042, 0.9471, 0.3543, 0.7612, -0.0092, -0.214, 0.2414, 0.3191, -0.8046, -1.1049, 0.1465, 0.3238, 0.022, -0.4261, 1.396, 1.3784, 1.3656, 1.3617, 1.3555, 1.3554, 1.3274, 1.3258, 1.3123, 1.3123, 1.3121, 1.3119, 1.3116, 1.3107, 1.3099, 1.3064, 1.299, 1.2966, 1.292, 1.2918, 1.2918, 1.2916, 1.2915, 1.2914, 1.2914, 1.2914, 1.2913, 1.2912, 1.2905, 1.2905, 1.2352, 1.2265, 1.2417, 1.265, 1.2127, 1.2597, 1.1142, 1.2518, 1.0281, 1.2523, 1.1596, 1.0932, 1.123, 1.0777, 0.604, 1.1334, 1.1696, 0.941, 0.7634, 0.7304, 0.7937, 0.7357, 0.767, 0.6974, 0.6791, 0.6739, 0.7493, 0.7644, 0.412, -0.0576, 0.1519, 0.4769, 0.126, 0.4653, -0.2232, -0.0473, 0.2807, 0.283, -0.4041, 0.137, 1.1899, 1.1849, 1.1834, 1.1628, 1.161, 1.1609, 1.1588, 1.1541, 1.1511, 1.1449, 1.1442, 1.1441, 1.1405, 1.1398, 1.1398, 1.1398, 1.1398, 1.1397, 1.1396, 1.1395, 1.1346, 1.1345, 1.1332, 1.1307, 1.1285, 1.1285, 1.1284, 1.1281, 1.1212, 1.1212, 1.1209, 1.1054, 1.121, 1.094, 1.1154, 1.0669, 0.9725, 0.9798, 0.9879, 1.0496, 0.7458, 1.0538, 1.0477, 1.0413, 0.8345, 0.8789, 0.8748, 0.8791, 0.8778, 0.3752, 0.6672, 0.8934, 0.7375, 0.3755, 0.8462, 0.6663, 0.5934, -0.0754, 0.6283, 0.454, -0.8083, 0.0336, 0.4732, 0.0135, 2.757, 2.7496, 2.7233, 2.7041, 2.7041, 2.7041, 2.7041, 2.6409, 2.6409, 2.5833, 2.5833, 2.5809, 2.5569, 2.5196, 2.4981, 2.4944, 2.4938, 2.4901, 2.4817, 2.4817, 2.4817, 2.4817, 2.4817, 2.4817, 2.4817, 2.4817, 2.4817, 2.4817, 2.4817, 2.4817, 2.4356, 2.4437, 2.4014, 2.396, 2.4106, 2.2288, 2.3903, 2.3396, 2.1598, 2.287, 2.2027, 2.1717, 1.9389, 1.268, 2.1817, 1.9059, 0.3426, 1.1765, 1.3521, 1.1117, 1.1163, 0.9979, 1.1144, 0.9365, -0.1197, 0.7014, 0.3758, 0.6726, -0.0282, 0.6456, 0.3784, -0.4192, 0.5341, 0.6085, -0.8647, 0.3703, -1.2732, -0.0866, 1.6478, 1.6405, 1.6404, 1.6378, 1.6311, 1.6174, 1.6102, 1.6051, 1.6035, 1.6035, 1.5981, 1.5972, 1.597, 1.5816, 1.5795, 1.5756, 1.5754, 1.5747, 1.5679, 1.5679, 1.5679, 1.5676, 1.5611, 1.561, 1.5604, 1.5604, 1.5599, 1.5546, 1.5522, 1.5522, 1.5475, 1.5468, 1.534, 1.5221, 1.5135, 1.5438, 1.52, 1.3988, 1.4588, 1.3999, 1.2838, 1.2032, 1.2864, 1.2009, 1.2769, 0.7879, 0.829, 1.0909, 0.3784, 1.0762, 0.6784, 0.8386, -0.0823, 0.9238, 0.4092, -0.0205, 0.4368, 0.1835, 1.0717, 0.7298, 0.0659]}, \"token.table\": {\"Topic\": [5, 1, 1, 3, 1, 2, 3, 4, 5, 1, 2, 3, 4, 5, 1, 2, 3, 1, 2, 3, 4, 5, 3, 3, 4, 5, 3, 1, 2, 3, 5, 1, 2, 3, 5, 3, 1, 1, 5, 1, 2, 5, 1, 2, 3, 4, 5, 5, 1, 2, 1, 4, 5, 3, 4, 1, 2, 3, 1, 1, 2, 4, 5, 3, 3, 1, 1, 2, 3, 4, 5, 1, 2, 3, 5, 1, 2, 1, 2, 3, 4, 2, 1, 2, 3, 4, 1, 1, 2, 3, 4, 5, 2, 4, 1, 1, 2, 3, 4, 5, 2, 1, 2, 3, 4, 5, 1, 2, 3, 4, 5, 1, 2, 3, 5, 3, 5, 5, 2, 5, 3, 5, 1, 4, 5, 5, 2, 3, 4, 5, 4, 1, 1, 2, 3, 5, 3, 2, 1, 2, 3, 5, 3, 5, 1, 3, 5, 1, 2, 4, 5, 1, 5, 2, 3, 4, 5, 3, 5, 1, 3, 5, 1, 2, 3, 4, 5, 1, 5, 1, 2, 3, 4, 5, 1, 2, 3, 4, 5, 1, 3, 5, 1, 1, 3, 4, 2, 5, 4, 1, 2, 3, 4, 5, 1, 4, 4, 3, 5, 1, 2, 3, 4, 5, 4, 4, 5, 4, 5, 3, 1, 2, 3, 4, 5, 3, 5, 2, 2, 3, 4, 1, 3, 4, 5, 1, 2, 3, 4, 5, 1, 2, 3, 4, 5, 3, 1, 2, 3, 5, 2, 3, 4, 5, 4, 5, 1, 2, 3, 3, 1, 2, 3, 4, 5, 1, 2, 4, 5, 1, 2, 3, 4, 5, 3, 1, 3, 1, 3, 5, 1, 2, 3, 4, 5, 1, 2, 1, 5, 4, 4, 1, 2, 3, 4, 5, 3, 3, 2, 3, 1, 3, 4, 1, 2, 4, 5, 1, 5, 1, 1, 2, 3, 4, 1, 2, 3, 5, 2, 1, 2, 3, 4, 5, 5, 2, 4, 5, 5, 5, 1, 2, 3, 3, 5, 1, 2, 1, 2, 3, 1, 3, 1, 2, 3, 4, 5, 1, 2, 3, 4, 5, 5, 1, 2, 3, 4, 5, 2, 4, 4, 5, 2, 5, 3, 4, 5, 1, 2, 5, 5, 5, 1, 3, 4, 4, 4, 1, 2, 3, 4, 5, 2, 1, 2, 3, 5, 4, 4, 1, 2, 3, 4, 5, 2, 1, 2, 3, 4, 5, 1, 2, 3, 5, 3, 1, 1, 1, 2, 4, 3, 3, 1, 1, 1, 2, 3, 4, 5, 1, 3, 4, 5, 2, 4, 2, 2, 4, 1, 2, 3, 3, 2, 1, 2, 5, 1, 1, 2, 3, 4, 5, 1, 2, 3, 3, 2, 1, 3, 1, 3, 4, 5, 1, 2, 3, 4, 5, 4, 5, 4, 1, 2, 4, 1, 2, 4, 1, 2, 3, 4, 5, 3, 4, 2, 1, 2, 3, 4, 5, 2, 2, 5, 1, 1, 2, 3, 4, 5, 2, 1, 2, 3, 4, 5, 1, 2, 3, 4, 5, 1, 2, 3, 4, 5, 1, 2, 4, 5, 4, 4, 3, 4, 5, 2, 3, 1, 1, 2, 3, 5, 1, 2, 3, 5, 1, 2, 4, 5, 2, 2, 3, 4, 1, 2, 3, 1, 2, 3, 4, 5, 3, 1, 2, 3, 4, 5, 1, 2, 3, 4, 5, 1, 2, 4, 4, 2, 4, 5, 2, 4, 5, 2, 5, 3, 4, 5, 1, 2, 5, 1, 1, 1, 2, 1, 3, 4, 5, 5, 1, 2, 3, 4, 5, 1, 2, 5, 2, 2, 5, 2, 4, 1, 2, 3, 1, 2, 3, 4, 1, 3, 4, 5, 4, 1, 2, 3, 4, 5, 1, 2, 3, 4, 5, 1, 1, 1, 2, 3, 4, 5, 1, 2, 4, 5, 3, 5, 1, 2, 3, 4, 5, 1, 4, 1, 3, 1, 3, 5, 1, 2, 3, 4, 5, 1, 2, 3, 4, 5, 1, 2, 3, 4, 5, 1, 1, 2, 3, 2, 1, 2, 3, 4, 5, 2, 3, 4, 1, 1, 2, 5, 1, 2, 3, 4, 5, 3, 4, 5, 3, 2, 1, 2, 3, 4, 5, 1, 2, 3, 4, 5, 3, 5, 1, 2, 3, 4, 5, 1, 2, 3, 5, 1], \"Freq\": [0.9819941487360504, 0.9654501803501327, 0.044602078420667234, 0.9366436468340119, 0.15822058331190827, 0.5339944686776904, 0.03955514582797707, 0.049443932284971334, 0.22744208851086814, 0.0676221506524458, 0.23667752728356029, 0.1690553766311145, 0.1690553766311145, 0.3550162909253404, 0.9461838345708552, 0.9012428181143599, 0.9650480649518052, 0.11706746811414562, 0.11706746811414562, 0.62435982994211, 0.06503748228563645, 0.07804497874276375, 0.9743054966532896, 0.1416088758749432, 0.708044379374716, 0.833817298490536, 0.9362870822119206, 0.03011194702074307, 0.015055973510371535, 0.9184143841326636, 0.015055973510371535, 0.06649941383522928, 0.831242672940366, 0.08866588511363904, 0.02216647127840976, 0.9568830804447975, 0.9324637873326532, 0.13439642550636183, 0.8399776594147613, 0.09815485936380669, 0.8833937342742603, 0.8338081877345684, 0.14737371139841982, 0.16077132152554888, 0.44212113419525945, 0.18756654177980703, 0.06698805063564536, 0.971378330151488, 0.09817193815136377, 0.8835474433622739, 0.035995731334346026, 0.035995731334346026, 0.8998932833586507, 0.1796995881279267, 0.7187983525117068, 0.03359286813217707, 0.873414571436604, 0.06718573626435415, 0.9184825217229499, 0.10497925762733863, 0.10497925762733863, 0.1499703680390552, 0.6298755457640318, 0.9650479474650869, 0.9623684072005755, 0.932465267131233, 0.09479216513397246, 0.2275011963215339, 0.6361607526768818, 0.01685194046826177, 0.027384403260925377, 0.04886540242970517, 0.14116671813025938, 0.7981349063518511, 0.010858978317712261, 0.26029188682992105, 0.7288172831237789, 0.10088100570711458, 0.7397940418521736, 0.1345080076094861, 0.8394704779998121, 0.944370335186531, 0.5829011878851791, 0.38546691456923127, 0.018803264125328355, 0.009401632062664178, 0.9204672401686727, 0.2254045216695465, 0.1529530682757637, 0.3059061365515274, 0.20125403720495222, 0.11270226083477325, 0.17986023472182386, 0.7194409388872954, 0.9462507950186265, 0.13246999903533682, 0.13246999903533682, 0.033117499758834205, 0.3974099971060105, 0.26493999807067364, 0.8974649580659354, 0.06161504576634875, 0.718842200607402, 0.04107669717756583, 0.1232300915326975, 0.04107669717756583, 0.017797493479296073, 0.017797493479296073, 0.16017744131366465, 0.04449373369824018, 0.7652922196097312, 0.08937603966866706, 0.11172004958583381, 0.24578410908883438, 0.5586002479291691, 0.9743027804363528, 0.9625361805739053, 0.9257952405423596, 0.06518302558020307, 0.912562358122843, 0.9458784584126628, 0.04729392292063314, 0.07314487943729629, 0.04876325295819753, 0.8533569267684568, 0.8338042965412117, 0.22603854514126, 0.497284799310772, 0.22603854514126, 0.045207709028252004, 0.8164608424256046, 0.8578693717434471, 0.4483913687215611, 0.10823239934658371, 0.09277062801135746, 0.34015896937497736, 0.9743050115111288, 0.9110151905703191, 0.014512043526408778, 0.029024087052817556, 0.7981623939524828, 0.14512043526408777, 0.9512709900099198, 0.039636291250413326, 0.769670746539346, 0.07330197586089009, 0.14660395172178017, 0.021585838263936032, 0.06475751479180811, 0.021585838263936032, 0.8958122879533454, 0.07399865623337296, 0.8879838748004755, 0.06557193389671737, 0.3442526529577662, 0.03278596694835868, 0.5573614381220977, 0.04616072939695495, 0.923214587939099, 0.0804252665445324, 0.24127579963359722, 0.67021055453777, 0.19358449430107758, 0.048396123575269394, 0.725941853629041, 0.03226408238351293, 0.016132041191756465, 0.7759907824422999, 0.2042081006427105, 0.44524645479120445, 0.33923539412663195, 0.09540995459811524, 0.06360663639874349, 0.07420774246520075, 0.44592710497745947, 0.469396952607852, 0.0469396952607852, 0.0078232825434642, 0.0312931301738568, 0.12198167160100565, 0.7318900296060339, 0.14231195020117327, 0.946182246411114, 0.08305514971579617, 0.8720790720158598, 0.041527574857898084, 0.901238365824827, 0.8338090492350348, 0.8394704777256385, 0.6743720428717325, 0.0269748817148693, 0.0269748817148693, 0.0269748817148693, 0.24277393543382367, 0.054771381122087875, 0.9311134790754939, 0.6388221399014917, 0.9418527211314666, 0.05091095789899819, 0.20270357512043832, 0.3293933095707123, 0.16469665478535614, 0.11402076100524657, 0.19003460167541095, 0.8394704777256385, 0.6319515323430471, 0.2106505107810157, 0.6988283030550629, 0.2795313212220252, 0.9623690488030239, 0.2087415721219277, 0.2796349362388088, 0.043323722515871785, 0.05120076297330302, 0.4135446240151398, 0.07915150336971336, 0.8706665370668469, 0.9258814727608168, 0.9012373592831683, 0.8783554692913198, 0.10979443366141498, 0.186222671148027, 0.0716241042877027, 0.057299283430162155, 0.6732665803044053, 0.05642765968643094, 0.05642765968643094, 0.22571063874572375, 0.3949936178050166, 0.2821382984321547, 0.20712040089654227, 0.21862708983523904, 0.3221872902835102, 0.08054682257087754, 0.1726003340804519, 0.9061487646804687, 0.01454979955071182, 0.5092429842749138, 0.3200955901156601, 0.1309481959564064, 0.06441762648871144, 0.7085938913758257, 0.17178033730323047, 0.04294508432580762, 0.7287571913041987, 0.18218929782604967, 0.022266822539420052, 0.08906729015768021, 0.868406079037382, 0.9061456711300717, 0.42252316365494164, 0.4703559746347464, 0.03986067581650393, 0.023916405489902356, 0.031888540653203144, 0.07186807267280272, 0.8624168720736327, 0.47031676947199674, 0.47031676947199674, 0.011711043312041074, 0.8197730318428752, 0.011711043312041074, 0.0936883464963286, 0.05855521656020537, 0.9673316960647714, 0.1261167530366148, 0.8512880829971498, 0.05034627129738908, 0.05034627129738908, 0.8558866120556143, 0.16614669869263618, 0.19170772926073404, 0.3195128821012234, 0.11502463755644043, 0.20448824454478298, 0.9059229439544435, 0.06470878171103168, 0.8921605868835631, 0.10496006904512507, 0.8394704777256385, 0.7733813468304818, 0.45947392698392353, 0.1590486670328966, 0.2792187710133074, 0.03887856305248583, 0.06361946681315864, 0.9889791183414051, 0.9868890970523843, 0.9012364942676093, 0.9176327479198536, 0.12257717386815092, 0.24515434773630185, 0.6128858693407546, 0.8067930536190273, 0.17113792046464216, 0.024448274352091737, 0.9819909563836668, 0.9075717199652261, 0.06482655142608758, 0.9019637716688932, 0.9623026696057746, 0.022911968323947016, 0.906145286126092, 0.8394704777256385, 0.05993964388141512, 0.7792153704583966, 0.05993964388141512, 0.05993964388141512, 0.979426094691425, 0.0794453022652042, 0.01588906045304084, 0.8103420831050828, 0.03177812090608168, 0.06355624181216336, 0.8638909570943129, 0.0752087097253064, 0.10027827963374186, 0.8022262370699349, 0.8644705021380471, 0.9090687872897453, 0.03396003474924291, 0.23772024324470034, 0.7301407471087225, 0.8350377622539227, 0.11929110889341751, 0.08994402794470689, 0.809496251502362, 0.7891152414927459, 0.13151920691545765, 0.08767947127697176, 0.03961985615202001, 0.9508765476484802, 0.2147706121434941, 0.32215591821524114, 0.18172897950603345, 0.08260408159365157, 0.19824979582476376, 0.13682577791278486, 0.23260382245173425, 0.5473031116511394, 0.02736515558255697, 0.05473031116511394, 0.9532204348374722, 0.1913116849139171, 0.2060279683688338, 0.147162834549167, 0.1765954014590004, 0.2648931021885006, 0.2289167969619643, 0.6867503908858928, 0.7733813468750741, 0.9709862556478389, 0.03958791949965808, 0.9105221484921359, 0.4148789606436793, 0.04148789606436793, 0.560086596868967, 0.021737535664677128, 0.021737535664677128, 0.9347140335811165, 0.9532199911561762, 0.925784637187349, 0.03748414836125218, 0.03748414836125218, 0.8996195606700523, 0.8394704777256385, 0.9301140617061344, 0.27208880186455636, 0.15871846775432455, 0.3098789132346336, 0.03779011137007727, 0.22674066822046363, 0.9012465268437178, 0.10788421771218118, 0.06473053062730871, 0.15103790479705365, 0.6904589933579596, 0.8394704777525538, 0.8394704777256385, 0.52117204934964, 0.13449601273539097, 0.2521800238788581, 0.01681200159192387, 0.08406000795961936, 0.9258928768870146, 0.1483226439858874, 0.1483226439858874, 0.4854195621356315, 0.10787101380791811, 0.12135489053390787, 0.5933677604990055, 0.24105565270272103, 0.037085485031187845, 0.12979919760915748, 0.9743046231642751, 0.9876720895450419, 0.8578701925474628, 0.9324791782517604, 0.9258724693187149, 0.9301140617564615, 0.9786039119072837, 0.9061489589047412, 0.9019654926415643, 0.8578699620692299, 0.0683375561799732, 0.2391814466299062, 0.5296160603947923, 0.15375950140493969, 0.0170843890449933, 0.05535276663280714, 0.11070553326561428, 0.49817489969526424, 0.3321165997968428, 0.3102315928323931, 0.6204631856647862, 0.9259490634350553, 0.8798062345553528, 0.1099757793194191, 0.932465404730837, 0.09237748316829562, 0.9032465020900016, 0.9820088968009738, 0.9258718459163581, 0.18938220561323874, 0.7034196208491724, 0.08116380240567374, 0.9461632184795548, 0.3493766957326783, 0.2750412285555127, 0.15610448107204775, 0.04460128030629936, 0.17097157450748088, 0.06555331291597628, 0.19665993874792886, 0.7429375463810646, 0.9439606865161392, 0.9012537455563214, 0.033418306570481664, 0.9357125839734867, 0.057383026818149704, 0.5021014846588099, 0.014345756704537426, 0.4303727011361228, 0.24565556050902324, 0.31474618690218603, 0.22262535171130232, 0.053737153861348835, 0.1612114615840465, 0.08031211073986022, 0.8834332181384624, 0.8394704777256385, 0.20783252842026453, 0.10391626421013227, 0.6234975852607936, 0.1715788060579263, 0.8088715142730811, 0.8394704777256385, 0.4074362991904512, 0.5146563779247805, 0.010722007873432925, 0.03216602362029878, 0.02144401574686585, 0.28752587363043824, 0.6708937051376892, 0.94431369777959, 0.23449611547443383, 0.2591799171033216, 0.29620561954665325, 0.11107710732999497, 0.11107710732999497, 0.9794293218156619, 0.8386831116660658, 0.8643572534562235, 0.9857868297064006, 0.07324571632763378, 0.7690800214401546, 0.03662285816381689, 0.07324571632763378, 0.03662285816381689, 0.9012329604895847, 0.17254053793416094, 0.19171170881573438, 0.43819819157882145, 0.024648648276308707, 0.17254053793416094, 0.22978471361528857, 0.3829745226921476, 0.04787181533651845, 0.04787181533651845, 0.28723089201911073, 0.028401920733734456, 0.0994067225680706, 0.7242489787102285, 0.028401920733734456, 0.11360768293493782, 0.2335008843164335, 0.612939821330638, 0.04378141580933128, 0.10215663688843965, 0.8394704777256385, 0.8394704777256385, 0.4544977303716222, 0.5554972260097605, 0.9083435238094801, 0.8886524697570756, 0.11108155871963445, 0.9204669113982368, 0.21199599134901068, 0.158996993511758, 0.158996993511758, 0.476990980535274, 0.01618793408988358, 0.01618793408988358, 0.5665776931459253, 0.38851041815720594, 0.5991818045109102, 0.2884949429126605, 0.0665757560567678, 0.022191918685589267, 0.901232894262074, 0.9012426847246926, 0.9820090553939953, 0.6388221399014917, 0.7442374823191206, 0.1395445279348351, 0.11628710661236259, 0.014669332577043925, 0.02200399886556589, 0.9094986197767234, 0.0073346662885219625, 0.04400799773113178, 0.9061456706853384, 0.36644685738379634, 0.5130256003373149, 0.045101151678005706, 0.01691293187925214, 0.05637643959750713, 0.5571860530668555, 0.36157818337317227, 0.053347600825550005, 0.011855022405677778, 0.017782533608516667, 0.1894867963037867, 0.7579471852151468, 0.047371699075946676, 0.9301140617564615, 0.3037018942325266, 0.5314783149069215, 0.07592547355813165, 0.13870577993229177, 0.6935288996614589, 0.13870577993229177, 0.9413546128862778, 0.9437554653566147, 0.04007319048359285, 0.0801463809671857, 0.8816101906390426, 0.744796402530287, 0.15679924263795517, 0.07839962131897758, 0.974845739900831, 0.9869222206331543, 0.1585404557198819, 0.8244103697433859, 0.6811589608669706, 0.18338895100264593, 0.02619842157180656, 0.10479368628722624, 0.8881008504935957, 0.29623566132999324, 0.25801170502934895, 0.21978774872870466, 0.009555989075161073, 0.21023175965354357, 0.3056115502404538, 0.6723454105289983, 0.024448924019236304, 0.9012377618668729, 0.9258897628583214, 0.888120140683823, 0.3080702797497914, 0.6161405594995828, 0.920466912085787, 0.04454698881184503, 0.9354867650487456, 0.6033456807159611, 0.2885566299076336, 0.05246484180138792, 0.05246484180138792, 0.20239641496257563, 0.6939305655859735, 0.00963792452202741, 0.0963792452202741, 0.9301140617564615, 0.2956611152022415, 0.19710741013482763, 0.10751313280081508, 0.03583771093360503, 0.3673365370694515, 0.10152324048037349, 0.4822353922817741, 0.07614243036028012, 0.05922189028021787, 0.2791889113210271, 0.9938012134230478, 0.9184890764052319, 0.2305732931645771, 0.5123850959212823, 0.10247701918425647, 0.07685776438819236, 0.07685776438819236, 0.020995476729232992, 0.05248869182308248, 0.020995476729232992, 0.8923077609924022, 0.04821267405355165, 0.9160408070174815, 0.0733404064305647, 0.1466808128611294, 0.4767126417986706, 0.0733404064305647, 0.23224462036345492, 0.20782931398123267, 0.6234879419436979, 0.8244775234572692, 0.09160861371747435, 0.11937150510023219, 0.11937150510023219, 0.7759147831515092, 0.07011646434888703, 0.4390626219942212, 0.13355517018835625, 0.0818025417403682, 0.2737880988861303, 0.06869568453712006, 0.27478273814848025, 0.17173921134280015, 0.05397518070773719, 0.43180144566189754, 0.5197188787134671, 0.2784208278822145, 0.12992971967836678, 0.03712277705096194, 0.03712277705096194, 0.8821116274422173, 0.08777641786932934, 0.8777641786932934, 0.032916156700998504, 0.9258377470899577, 0.13881509090344102, 0.22673131514228698, 0.4395811211942299, 0.009254339393562735, 0.18508678787125468, 0.12616950559693108, 0.12616950559693108, 0.6939322807831209, 0.9461633228996283, 0.4458953808064339, 0.5016323034072382, 0.0464474355006702, 0.2183646476322126, 0.49495986796634855, 0.08734585905288504, 0.02911528635096168, 0.16741289651802965, 0.2206299388229145, 0.5515748470572863, 0.2206299388229145, 0.9176352472278274, 0.9886523276037654, 0.11091155320271444, 0.09704760905237513, 0.13863944150339305, 0.04159183245101791, 0.6238774867652687, 0.16627271101147637, 0.06466160983779637, 0.5911918613741383, 0.08313635550573818, 0.0923737283397091, 0.9061465978557736, 0.9090787318404967, 0.07795385835745948, 0.015590771671491895, 0.592449323516692, 0.10913540170044327, 0.20268003172939464, 0.5506615339969576, 0.042358579538227505, 0.042358579538227505, 0.3600479260749338, 0.8578708931512252], \"Term\": [\"14th\", \"1876\", \"2017\", \"2017\", \"2020\", \"2020\", \"2020\", \"2020\", \"2020\", \"2024\", \"2024\", \"2024\", \"2024\", \"2024\", \"3rd\", \"953\", \"abdullah\", \"according\", \"according\", \"according\", \"according\", \"according\", \"acuity\", \"ad\", \"ad\", \"adult\", \"afghanistan\", \"age\", \"age\", \"age\", \"age\", \"aid\", \"aid\", \"aid\", \"aid\", \"aides\", \"alejandro\", \"amendment\", \"amendment\", \"amendments\", \"amendments\", \"amendment\\u00e2\", \"american\", \"american\", \"american\", \"american\", \"american\", \"appeals\", \"approval\", \"approval\", \"arguments\", \"arguments\", \"arguments\", \"armed\", \"armed\", \"assistance\", \"assistance\", \"assistance\", \"austin\", \"ballot\", \"ballot\", \"ballot\", \"ballot\", \"bauer\", \"beau\", \"belknap\", \"biden\", \"biden\", \"biden\", \"biden\", \"biden\", \"biden\\u00e2\", \"biden\\u00e2\", \"biden\\u00e2\", \"biden\\u00e2\", \"bill\", \"bill\", \"billion\", \"billion\", \"billion\", \"blamed\", \"blocked\", \"border\", \"border\", \"border\", \"border\", \"buck\", \"campaign\", \"campaign\", \"campaign\", \"campaign\", \"campaign\", \"candidacy\", \"candidacy\", \"candidates\\u00e2\", \"capitol\", \"capitol\", \"capitol\", \"capitol\", \"capitol\", \"carlson\", \"carolina\", \"carolina\", \"carolina\", \"carolina\", \"carolina\", \"case\", \"case\", \"case\", \"case\", \"case\", \"cases\", \"cases\", \"cases\", \"cases\", \"ceasefire\", \"cia\", \"circuit\", \"civil\", \"civil\", \"classified\", \"classified\", \"colorado\", \"colorado\", \"colorado\", \"colorado\\u00e2\", \"comments\", \"comments\", \"comments\", \"comments\", \"complaint\", \"compromise\", \"congress\", \"congress\", \"congress\", \"congress\", \"contained\", \"contests\", \"counsel\", \"counsel\", \"counsel\", \"counsel\", \"counsel\\u00e2\", \"counsel\\u00e2\", \"county\", \"county\", \"county\", \"court\", \"court\", \"court\", \"court\", \"court\\u00e2\", \"court\\u00e2\", \"criminal\", \"criminal\", \"criminal\", \"criminal\", \"dc\", \"dc\", \"decision\", \"decision\", \"decision\", \"defense\", \"defense\", \"defense\", \"defense\", \"defense\", \"delegates\", \"delegates\", \"democratic\", \"democratic\", \"democratic\", \"democratic\", \"democratic\", \"democrats\", \"democrats\", \"democrats\", \"democrats\", \"democrats\", \"department\", \"department\", \"department\", \"dhs\", \"died\", \"died\", \"died\", \"discharge\", \"disqualified\", \"disrespecting\", \"district\", \"district\", \"district\", \"district\", \"district\", \"dnc\", \"dnc\", \"dnc\\u00e2\", \"documents\", \"documents\", \"donald\", \"donald\", \"donald\", \"donald\", \"donald\", \"donations\", \"donor\", \"donor\", \"donors\", \"donors\", \"elderly\", \"election\", \"election\", \"election\", \"election\", \"election\", \"eligibility\", \"eligibility\", \"express\", \"extreme\", \"family\", \"family\", \"federal\", \"federal\", \"federal\", \"federal\", \"filing\", \"filing\", \"filing\", \"filing\", \"filing\", \"first\", \"first\", \"first\", \"first\", \"first\", \"fitness\", \"foreign\", \"foreign\", \"foreign\", \"foreign\", \"found\", \"found\", \"found\", \"found\", \"gathering\", \"gathering\", \"gaza\", \"gaza\", \"gaza\", \"ghostwriter\", \"gop\", \"gop\", \"gop\", \"gop\", \"gop\", \"green\", \"green\", \"grounds\", \"grounds\", \"haley\", \"haley\", \"haley\", \"haley\", \"haley\", \"hamas\", \"handling\", \"handling\", \"hearing\", \"hearing\", \"hearing\", \"he\\u00e2\", \"he\\u00e2\", \"he\\u00e2\", \"he\\u00e2\", \"he\\u00e2\", \"hogan\", \"hogan\", \"homeland\", \"homeland\", \"horse\", \"horse\\u00e2\", \"house\", \"house\", \"house\", \"house\", \"house\", \"hur\", \"hur\\u00e2\", \"ideas\", \"idf\", \"illegally\", \"illegally\", \"illegally\", \"immigration\", \"immigration\", \"immigration\", \"immunity\", \"impeach\", \"impeach\", \"impeached\", \"impeachment\", \"impeachment\", \"inaccurate\", \"inc\", \"includes\", \"includes\", \"includes\", \"includes\", \"independents\", \"information\", \"information\", \"information\", \"information\", \"information\", \"institutions\", \"insurrection\", \"insurrection\", \"insurrection\", \"insurrectionist\", \"interference\", \"interview\", \"interview\", \"interview\", \"investigation\", \"investigation\", \"iowa\", \"iowa\", \"island\", \"island\", \"island\", \"israeli\", \"israeli\", \"it\\u00e2\", \"it\\u00e2\", \"it\\u00e2\", \"it\\u00e2\", \"it\\u00e2\", \"i\\u00e2\", \"i\\u00e2\", \"i\\u00e2\", \"i\\u00e2\", \"i\\u00e2\", \"jackson\", \"january\", \"january\", \"january\", \"january\", \"january\", \"jr\", \"jr\", \"jr\\u00e2\", \"judge\", \"judges\", \"judges\", \"justice\", \"justice\", \"justice\", \"justices\", \"justices\", \"justices\", \"kagan\", \"kavanaugh\", \"kennedy\", \"kennedy\", \"kennedy\", \"kennedyaligned\", \"kennedy\\u00e2\", \"last\", \"last\", \"last\", \"last\", \"last\", \"lean\", \"legal\", \"legal\", \"legal\", \"legal\", \"license\", \"lis\", \"long\", \"long\", \"long\", \"long\", \"long\", \"loses\", \"made\", \"made\", \"made\", \"made\", \"made\", \"majority\", \"majority\", \"majority\", \"majority\", \"materials\", \"mayorkas\", \"mazi\", \"mccarthy\", \"mcdaniel\", \"mellon\", \"memory\", \"memory\\u00e2\", \"migrant\", \"migrants\", \"military\", \"military\", \"military\", \"military\", \"military\", \"million\", \"million\", \"million\", \"million\", \"montana\", \"montana\", \"more\\u00e2\", \"narrowly\", \"narrowly\", \"nassau\", \"nato\", \"nato\", \"nato\\u00e2\", \"negative\", \"nevada\", \"nevada\", \"nevada\", \"nevada\\u00e2\", \"new\", \"new\", \"new\", \"new\", \"new\", \"north\", \"north\", \"north\", \"notebooks\", \"occasions\", \"october\", \"october\", \"officials\", \"officials\", \"officials\", \"officials\", \"one\", \"one\", \"one\", \"one\", \"one\", \"oral\", \"oral\", \"outlining\", \"pac\", \"pac\", \"pac\", \"package\", \"package\", \"pac\\u00e2\", \"party\", \"party\", \"party\", \"party\", \"party\", \"pelosi\", \"pelosi\", \"pennsylvania\", \"people\", \"people\", \"people\", \"people\", \"people\", \"percentage\", \"performance\", \"physical\", \"pilip\", \"poll\", \"poll\", \"poll\", \"poll\", \"poll\", \"pollster\", \"president\", \"president\", \"president\", \"president\", \"president\", \"presidential\", \"presidential\", \"presidential\", \"presidential\", \"presidential\", \"president\\u00e2\", \"president\\u00e2\", \"president\\u00e2\", \"president\\u00e2\", \"president\\u00e2\", \"primary\", \"primary\", \"primary\", \"primary\", \"prolific\", \"propping\", \"prosecutors\", \"prosecutors\", \"provision\", \"putin\", \"putin\", \"queens\", \"question\", \"question\", \"question\", \"question\", \"questions\", \"questions\", \"questions\", \"questions\", \"race\", \"race\", \"race\", \"race\", \"rand\", \"rating\", \"recall\", \"reid\", \"rep\", \"rep\", \"rep\", \"report\", \"report\", \"report\", \"report\", \"report\", \"report\\u00e2\", \"republican\", \"republican\", \"republican\", \"republican\", \"republican\", \"republicans\", \"republicans\", \"republicans\", \"republicans\", \"republicans\", \"results\", \"results\", \"results\", \"rfk\", \"riot\", \"riot\", \"riot\", \"rioters\", \"rioters\", \"rioters\", \"rnc\", \"roberts\", \"ruling\", \"ruling\", \"ruling\", \"running\", \"running\", \"running\", \"santos\", \"scalise\", \"seats\", \"seats\", \"secretary\", \"secretary\", \"secretary\", \"secretary\", \"section\", \"security\", \"security\", \"security\", \"security\", \"security\", \"senate\", \"senate\", \"senate\", \"senatepassed\", \"sending\", \"shall\", \"signature\", \"signature\", \"solutions\", \"son\", \"son\", \"speaker\", \"speaker\", \"speaker\", \"speaker\", \"special\", \"special\", \"special\", \"special\", \"stalking\", \"state\", \"state\", \"state\", \"state\", \"state\", \"states\", \"states\", \"states\", \"states\", \"states\", \"suozzi\", \"suozzi\\u00e2\", \"support\", \"support\", \"support\", \"support\", \"support\", \"supreme\", \"supreme\", \"supreme\", \"supreme\", \"threats\", \"threats\", \"thursday\", \"thursday\", \"thursday\", \"thursday\", \"thursday\", \"tim\", \"tim\", \"tom\", \"tom\", \"trial\", \"trial\", \"trial\", \"trump\", \"trump\", \"trump\", \"trump\", \"trump\", \"trump\\u00e2\", \"trump\\u00e2\", \"trump\\u00e2\", \"trump\\u00e2\", \"trump\\u00e2\", \"tuesday\", \"tuesday\", \"tuesday\", \"tuesday\", \"tuesday\", \"tuesday\\u00e2\", \"ukraine\", \"ukraine\", \"ukraine\", \"upcoming\", \"us\", \"us\", \"us\", \"us\", \"us\", \"values\", \"values\", \"values\", \"vegas\", \"vote\", \"vote\", \"vote\", \"voters\", \"voters\", \"voters\", \"voters\", \"voters\", \"was\\u00e2\", \"was\\u00e2\", \"was\\u00e2\", \"wellmeaning\", \"whatley\", \"whether\", \"whether\", \"whether\", \"whether\", \"whether\", \"white\", \"white\", \"white\", \"white\", \"white\", \"willfully\", \"willis\", \"wrote\", \"wrote\", \"wrote\", \"wrote\", \"wrote\", \"york\", \"york\", \"york\", \"york\", \"york\\u00e2\"]}, \"R\": 30, \"lambda.step\": 0.01, \"plot.opts\": {\"xlab\": \"PC1\", \"ylab\": \"PC2\"}, \"topic.order\": [1, 2, 3, 4, 5]};\n",
       "\n",
       "function LDAvis_load_lib(url, callback){\n",
       "  var s = document.createElement('script');\n",
       "  s.src = url;\n",
       "  s.async = true;\n",
       "  s.onreadystatechange = s.onload = callback;\n",
       "  s.onerror = function(){console.warn(\"failed to load library \" + url);};\n",
       "  document.getElementsByTagName(\"head\")[0].appendChild(s);\n",
       "}\n",
       "\n",
       "if(typeof(LDAvis) !== \"undefined\"){\n",
       "   // already loaded: just create the visualization\n",
       "   !function(LDAvis){\n",
       "       new LDAvis(\"#\" + \"ldavis_el814601406977152733927647336288\", ldavis_el814601406977152733927647336288_data);\n",
       "   }(LDAvis);\n",
       "}else if(typeof define === \"function\" && define.amd){\n",
       "   // require.js is available: use it to load d3/LDAvis\n",
       "   require.config({paths: {d3: \"https://d3js.org/d3.v5\"}});\n",
       "   require([\"d3\"], function(d3){\n",
       "      window.d3 = d3;\n",
       "      LDAvis_load_lib(\"https://cdn.jsdelivr.net/gh/bmabey/pyLDAvis@3.4.0/pyLDAvis/js/ldavis.v3.0.0.js\", function(){\n",
       "        new LDAvis(\"#\" + \"ldavis_el814601406977152733927647336288\", ldavis_el814601406977152733927647336288_data);\n",
       "      });\n",
       "    });\n",
       "}else{\n",
       "    // require.js not available: dynamically load d3 & LDAvis\n",
       "    LDAvis_load_lib(\"https://d3js.org/d3.v5.js\", function(){\n",
       "         LDAvis_load_lib(\"https://cdn.jsdelivr.net/gh/bmabey/pyLDAvis@3.4.0/pyLDAvis/js/ldavis.v3.0.0.js\", function(){\n",
       "                 new LDAvis(\"#\" + \"ldavis_el814601406977152733927647336288\", ldavis_el814601406977152733927647336288_data);\n",
       "            })\n",
       "         });\n",
       "}\n",
       "</script>"
      ],
      "text/plain": [
       "<IPython.core.display.HTML object>"
      ]
     },
     "execution_count": 78,
     "metadata": {},
     "output_type": "execute_result"
    }
   ],
   "source": [
    "pyLDAvis.display(cnn_lda_display)"
   ]
  },
  {
   "cell_type": "code",
   "execution_count": 79,
   "id": "ce4d1276",
   "metadata": {},
   "outputs": [
    {
     "data": {
      "text/html": [
       "\n",
       "<link rel=\"stylesheet\" type=\"text/css\" href=\"https://cdn.jsdelivr.net/gh/bmabey/pyLDAvis@3.4.0/pyLDAvis/js/ldavis.v1.0.0.css\">\n",
       "\n",
       "\n",
       "<div id=\"ldavis_el814601406977152731688062156064\" style=\"background-color:white;\"></div>\n",
       "<script type=\"text/javascript\">\n",
       "\n",
       "var ldavis_el814601406977152731688062156064_data = {\"mdsDat\": {\"x\": [0.08967781293276357, -0.2043210514485974, 0.06110933771288988, 0.1297312036366654, -0.07619730283372107], \"y\": [0.11934839826598984, 0.08047266812667742, -0.12297278395898746, 0.03592756774376895, -0.11277585017744886], \"topics\": [1, 2, 3, 4, 5], \"cluster\": [1, 1, 1, 1, 1], \"Freq\": [17.619288762759695, 11.99266636546423, 6.0456889680098405, 19.491079471638212, 44.85127643212802]}, \"tinfo\": {\"Term\": [\"biden\", \"bobulinski\", \"trump\", \"hunter\", \"joe\", \"border\", \"business\", \"senate\", \"president\", \"bill\", \"aid\", \"republican\", \"new\", \"classified\", \"chinese\", \"counsel\", \"package\", \"nato\", \"2017\", \"ukraine\", \"energy\", \"donald\", \"media\", \"security\", \"republicans\", \"tony\", \"special\", \"carolina\", \"cefc\", \"race\", \"mike\", \"package\", \"johnson\", \"dnc\", \"marshall\", \"speaker\", \"amendments\", \"without\", \"secure\", \"roger\", \"provisions\", \"senators\", \"votes\", \"mayorkas\", \"kennedy\", \"procedural\", \"bipartisan\", \"supplemental\", \"95\", \"zelenskyy\", \"independent\", \"fec\", \"aid\", \"billion\", \"mcconnell\", \"border\", \"senates\", \"debt\", \"indopacific\", \"process\", \"bill\", \"mitch\", \"schumer\", \"israel\", \"voted\", \"republicans\", \"ukraine\", \"assistance\", \"leader\", \"security\", \"sen\", \"senate\", \"ballot\", \"vote\", \"american\", \"national\", \"foreign\", \"house\", \"administration\", \"trump\", \"president\", \"images\", \"washington\", \"republican\", \"bobulinski\", \"cefc\", \"tony\", \"family\\u00e2\", \"testify\", \"communist\", \"company\", \"2017\", \"associates\", \"doors\", \"jointventure\", \"involvement\", \"messages\", \"meet\", \"command\", \"training\", \"bobulinski\\u00e2\", \"sinohawk\", \"milken\", \"sons\", \"chinese\", \"dealings\", \"hunter\", \"plausible\", \"deniability\", \"2020\\u00e2\", \"decorated\", \"clearance\", \"indicate\", \"son\\u00e2\", \"closed\", \"associate\", \"energy\", \"joe\", \"source\", \"october\", \"met\", \"business\", \"expected\", \"family\", \"biden\", \"meeting\", \"inquiry\", \"oversight\", \"say\", \"text\", \"committee\", \"people\", \"big\", \"house\", \"american\", \"never\", \"tuesday\", \"party\", \"nato\", \"alliance\", \"putin\", \"european\", \"mediabuzz\\u00e2\", \"regularly\", \"kurtz\", \"howard\", \"wasn\\u00e2\", \"opposition\", \"pm\", \"programs\", \"am12\", \"et\\u00e2\", \"channels\", \"sundays\", \"union\", \"coastal\", \"university\", \"atlantic\", \"nato\\u00e2\", \"protect\", \"warning\", \"wonder\", \"death\", \"mcnameegetty\", \"crimes\", \"doesn\\u00e2\", \"trigger\", \"encouraging\", \"rally\", \"comments\", \"trump\\u00e2\", \"media\", \"didn\\u00e2\", \"far\", \"trump\", \"donald\", \"carolina\", \"baier\", \"want\", \"it\\u00e2\", \"south\", \"president\", \"country\", \"defense\", \"conway\", \"whatever\", \"times\", \"pay\", \"hell\", \"host\", \"washington\", \"says\", \"made\", \"presidential\", \"race\", \"sheehy\", \"montana\", \"suozzi\", \"rnc\", \"seat\", \"bowman\", \"black\", \"pilip\", \"governor\", \"tim\", \"lara\", \"jon\", \"serve\", \"rmont\", \"tester\", \"lost\", \"larry\", \"gov\", \"county\", \"mazi\", \"honored\", \"announces\", \"menendez\", \"hampshire\", \"battleground\", \"dem\", \"endorsed\", \"daines\", \"jersey\", \"maryland\", \"primary\", \"new\", \"video\", \"republican\", \"conservative\", \"rep\", \"election\", \"gop\", \"run\", \"senate\", \"trump\", \"haley\", \"district\", \"democrat\", \"state\", \"candidate\", \"democrats\", \"key\", \"presidential\", \"house\", \"president\", \"one\", \"donald\", \"carolina\", \"party\", \"republicans\", \"vice\", \"hur\", \"classified\", \"counsel\", \"remember\", \"documents\", \"day\", \"comer\", \"afghanistan\", \"materials\", \"elderly\", \"handling\", \"hurs\", \"testified\", \"probe\", \"mental\", \"mr\", \"beau\", \"poor\", \"testimony\", \"criminal\", \"sensitive\", \"retention\", \"improper\", \"firm\", \"forgetting\", \"retained\", \"mishandling\", \"sympathetic\", \"attorney\", \"memory\", \"report\", \"died\", \"records\", \"special\", \"robert\", \"investigation\", \"charges\", \"justice\", \"questions\", \"biden\", \"bidens\", \"james\", \"president\", \"interview\", \"thursday\", \"biden\\u00e2\", \"son\", \"policy\", \"house\", \"trump\", \"white\", \"joe\", \"images\", \"us\", \"foreign\"], \"Freq\": [375.0, 62.0, 130.0, 69.0, 75.0, 57.0, 52.0, 74.0, 209.0, 42.0, 33.0, 55.0, 48.0, 67.0, 22.0, 68.0, 26.0, 13.0, 19.0, 44.0, 24.0, 24.0, 16.0, 44.0, 33.0, 16.0, 98.0, 19.0, 15.0, 21.0, 13.107564037243598, 25.24490804490374, 13.08920420050495, 10.550276109108342, 9.687504645320042, 8.815800685492109, 7.092637256772771, 7.092516299637513, 7.09113168310416, 6.227681467555859, 6.22768146597676, 6.227536450032336, 6.227270443851954, 7.760951402858103, 16.279491548247744, 5.339235653053776, 6.053931913817926, 6.032195187275334, 4.497353164182929, 4.497140455025622, 4.497009028252443, 4.493587837384489, 28.757189163583604, 16.524228186590268, 12.64709096826843, 49.544280439741144, 5.104810134896047, 3.632814083227494, 3.632814080373989, 3.632576081003894, 35.16367294952427, 7.830216733602544, 7.7676281456792, 14.212635828834951, 9.535624083000785, 21.91878503984075, 28.008982916632018, 7.020391362268943, 14.766212468707595, 25.922071452697818, 17.794187969043364, 31.293708651978665, 11.750739985947536, 15.03258778199481, 12.654312541051926, 17.144961427010827, 16.761006173011424, 21.16773460448909, 8.745167472939233, 15.456484102346232, 17.126182867306582, 10.595365024157857, 9.906695020881397, 9.91998299397096, 61.83614564715298, 14.962660376188397, 15.751592528427363, 13.32108705780259, 12.465689669280778, 7.564782704802093, 6.741912147184585, 17.954750487726876, 5.097248953655859, 5.095489577388107, 7.2395725547127725, 4.275390755633825, 4.275156761411538, 4.2733816779363165, 3.453389581372974, 3.4533895813729303, 3.453069516729059, 3.452922476654417, 3.452922472909531, 3.447982816758262, 18.327265610932887, 7.422600191357786, 55.72433860617971, 2.6309444063490104, 2.6309444063420657, 2.6307458118310376, 2.6307458118151894, 2.6307458117702165, 2.6307458117690734, 2.6307458117622233, 5.916888373428938, 9.201597930355842, 16.967257999335725, 46.91934370056661, 6.193405353615956, 6.742992909611155, 8.201516815394713, 30.745430695988862, 8.314086416982818, 10.421871279529894, 89.02006018802551, 10.677955573552817, 7.570671303641763, 7.316370266851094, 11.11662738362927, 7.387557463272754, 9.154009221637558, 9.277987452853353, 7.86608390416181, 12.372523979928124, 8.1584418928734, 7.126166040312914, 7.386450912333891, 7.502216313268085, 13.193756547055818, 4.266105920730043, 3.5778589127788725, 3.577296324257905, 3.575191250276108, 3.5751912377192236, 3.570851618395437, 3.5706976980691567, 2.887026213999775, 2.8863310529645045, 2.8861119454192043, 2.8861119091420577, 2.88611042962437, 2.886110323804079, 2.886110245434752, 2.8861101148862156, 2.8859392291054133, 2.8668850298417348, 2.866786430943121, 2.2011502903155105, 2.201150288291512, 2.2011502872526596, 2.1996111726437757, 2.199611066546755, 2.1990404412882807, 2.134736582306476, 2.0657528158208653, 2.5585378296464483, 1.512404811049519, 1.5124047325939889, 5.0332938571828025, 4.266148215824361, 6.6790266527832385, 8.287540324232603, 4.274408828766549, 4.180769418033831, 25.94884133956376, 8.465986196043005, 6.886746774733402, 2.8512893841552645, 4.7627027171361345, 5.842211584501651, 5.270078279535137, 13.943960219922415, 6.121046617909117, 4.176663881265216, 3.289039976391376, 3.2002132596505373, 3.3331343133488742, 3.2622208335982954, 3.316630764173798, 3.0757058360731757, 3.8002369294296017, 3.5626276425921692, 3.510256326810849, 3.298959514556, 20.392453058904607, 13.361127400398164, 12.48210461069257, 12.481459161111902, 12.479257040009275, 11.601096616250766, 9.844506287142924, 9.844382516243469, 9.844244191557442, 8.965153879794197, 8.964445294500408, 8.086973399552969, 8.086585040049776, 8.086569786802059, 7.207964244346297, 7.207964236616252, 7.205237944341336, 6.323801056481332, 13.36006695202534, 5.449195763211187, 5.44917233304097, 5.448914333353703, 5.4489143097101005, 5.4489142035794735, 5.448350768392333, 5.4471904108454785, 5.438143955478458, 4.570914708537926, 4.5709146113692745, 4.570914534806021, 10.724634127300446, 15.7498579079529, 35.08347241709937, 12.69327886447607, 37.4776900193417, 8.671984795330875, 19.16965771661325, 23.26530907071074, 25.347250963901132, 14.713012610512864, 36.687007943326996, 53.588308194519904, 18.667049364148117, 9.757292276444167, 10.931396452455024, 14.34068704841799, 13.553544187533195, 12.264091283188106, 10.234548001870454, 12.112308669362923, 15.24155141973529, 17.943052484490703, 11.754355369181344, 10.707478674981125, 10.458622949977176, 10.784633710171041, 10.596968650502427, 44.95709724840944, 43.096378173680584, 66.63005483223775, 67.27849717908167, 23.50733151094195, 49.626029879337075, 20.687774726139015, 16.9603457614382, 16.044356347631936, 16.043831452725417, 16.029514806637035, 16.01862254617783, 15.974711397077016, 15.082828981123706, 14.17867156441731, 14.175451547694612, 26.273782016363658, 12.313437093541086, 13.1867242588787, 13.14458780007841, 11.368864353858813, 10.447917895384998, 10.44780683555349, 10.447694881769152, 10.43101019019132, 9.51506810846988, 9.514831316026276, 9.513555206243302, 9.511929351760362, 9.507735263263408, 33.51890174257826, 82.6994015241141, 21.641574659743714, 19.776395044381832, 90.47629724111601, 33.82753232982776, 22.091931462435856, 39.03200662202921, 18.72779054598616, 17.822054020867423, 273.68355955415, 44.85472845741878, 21.66474513279796, 154.09697899696116, 27.543386768615264, 21.03070253029615, 24.119284050437344, 21.97463438709967, 22.995606258724365, 36.32478787457437, 35.689052931285126, 21.90735739800781, 26.27676257786646, 23.138637949022574, 20.904756324208385, 20.948864583231686], \"Total\": [375.0, 62.0, 130.0, 69.0, 75.0, 57.0, 52.0, 74.0, 209.0, 42.0, 33.0, 55.0, 48.0, 67.0, 22.0, 68.0, 26.0, 13.0, 19.0, 44.0, 24.0, 24.0, 16.0, 44.0, 33.0, 16.0, 98.0, 19.0, 15.0, 21.0, 13.80913233243666, 26.60700279738181, 13.815660803956524, 11.217054415321778, 10.351973207665708, 9.486601032980191, 7.757105828137765, 7.7571153134966675, 7.757172842901464, 6.892150035676674, 6.892150035515165, 6.892161410906945, 6.892086889879243, 8.637160452906784, 18.230188578080263, 6.02903793695417, 6.904482210760158, 6.881506892493447, 5.162271138646968, 5.162287825185826, 5.162298152526419, 5.162448634955433, 33.14199010943357, 19.143794390285485, 14.698989657786587, 57.82078859807175, 6.013267209159294, 4.297282656608425, 4.297282656316573, 4.297301331992009, 42.00747305588648, 9.503144954472269, 9.504220936753718, 18.387171891646005, 12.11250410061757, 33.00761949569953, 44.114337093296896, 8.695543616739625, 21.789075378057305, 44.93668935623144, 29.540798929791695, 74.51760369550584, 18.333479347196455, 27.911528258804076, 26.591513517564387, 48.96928253643612, 47.334951095407575, 85.24605778797803, 14.045735760672619, 130.84772377006968, 209.1419147081648, 50.008949716236565, 38.36904582843681, 55.513252579192724, 62.51146700353076, 15.639643654326, 16.466137703821467, 13.994597539442317, 13.176323733046065, 8.23838747829043, 7.416144513235647, 19.901708328995667, 5.771513713182361, 5.771750196458061, 8.282100883313124, 4.9491346883191625, 4.949166135366491, 4.948946413255756, 4.126774881284632, 4.126774881284639, 4.126817895867387, 4.1268376569045975, 4.126837657407968, 4.127390472541437, 22.650165140147433, 9.190348887302976, 69.86299533606268, 3.3044747450457566, 3.3044747450466896, 3.304501434541557, 3.304501434543688, 3.3045014345497328, 3.3045014345498864, 3.3045014345508066, 7.459154737149884, 12.521925737902585, 24.639237093806614, 75.17962486220375, 8.33439059792077, 9.160107882052454, 11.473036130325044, 52.37818043836185, 11.784941650891419, 16.24918233853564, 375.2431517689554, 20.53091555075721, 12.901721200785405, 12.936010931698728, 28.39600600149879, 13.648733348460723, 23.248258470318408, 24.861367338110615, 16.85770300680617, 85.24605778797803, 26.591513517564387, 13.963015422886063, 23.076346219948167, 29.19541904428241, 13.916025745019493, 4.966463137915079, 4.278329995521061, 4.278444240602061, 4.279179667295012, 4.27917967163726, 4.280314426445023, 4.28035358193842, 3.59097962785846, 3.591121843230988, 3.591304623724077, 3.59130463764561, 3.59130515771138, 3.591305208951389, 3.591305218964056, 3.5913052799880347, 3.591326675754491, 3.596712983725894, 3.596740065631364, 2.9021073041196175, 2.902107304514499, 2.902107304717178, 2.90279723235163, 2.902797270078252, 2.9027276197561456, 2.9212913320868625, 2.9401483671085256, 3.707046736196437, 2.214075115828306, 2.214075131140099, 7.4899165044381855, 6.832027213971699, 12.219730260025443, 16.591344511522756, 7.656797856141203, 7.5560969601930505, 130.84772377006968, 24.815283792353235, 19.26329675664253, 4.479984123796741, 10.97646810259041, 18.140560823073425, 17.07905548013062, 209.1419147081648, 28.679901235942438, 14.971565827068392, 6.245191335966259, 6.053391108677417, 7.885095637395784, 7.183471426897697, 8.856109047758082, 5.389592919285326, 38.36904582843681, 21.587110581842275, 25.61438263052379, 32.81753423161526, 21.054985825610146, 14.022792400939894, 13.143770280940291, 13.143742055311856, 13.143774440276175, 12.264743637141613, 10.506719769837996, 10.50671296217779, 10.506665514838625, 9.627684319503567, 9.627679032843384, 8.748660722383013, 8.748684492605205, 8.748685437822301, 7.869637763842197, 7.869637763085343, 7.869652345870687, 6.990081125420705, 14.88782491182535, 6.111556345271132, 6.111557780187119, 6.111623710431646, 6.111623706879437, 6.111623696135977, 6.111600938808696, 6.111697110879409, 6.111857507022732, 5.232570255475204, 5.232570244854125, 5.232570237508756, 12.318540503948219, 19.25977389761892, 48.37538751665404, 15.928163690202723, 55.513252579192724, 10.578050064131945, 28.324323735077826, 36.709712680134864, 41.265664018089176, 21.291807229081357, 74.51760369550584, 130.84772377006968, 33.28746752824512, 13.10610131278176, 16.568765450905325, 32.06049812797227, 30.13454445118929, 25.45890815566416, 16.931795429658635, 32.81753423161526, 85.24605778797803, 209.1419147081648, 32.19219910392841, 24.815283792353235, 19.26329675664253, 29.19541904428241, 33.00761949569953, 45.61366000809872, 43.74842212138642, 67.9500982165288, 68.81667998264649, 24.158588477893066, 51.10067310682724, 21.358317810271494, 17.62668124889997, 16.69577388986012, 16.6958322435973, 16.694655309782025, 16.693842701858898, 16.690801691242594, 15.75958448330393, 14.830166902732403, 14.829563775801294, 27.637495641708682, 12.964494760309456, 13.892856376058276, 13.885317310416303, 12.030308887377075, 11.09880813411814, 11.098800044570526, 11.098791882164043, 11.096944985101077, 10.165958262845681, 10.165941018114994, 10.1657519462802, 10.165729800555406, 10.165256320954882, 35.924502393376294, 89.69283960051172, 23.171849031137373, 21.24962436092874, 98.94073333714822, 37.019154484579595, 23.99105111806305, 43.307227065987824, 20.36662440150405, 19.435088985942254, 375.2431517689554, 52.91795246251111, 24.023979412770974, 209.1419147081648, 34.02773305031932, 24.84337129553005, 30.619577856033686, 29.02428180301667, 31.549846768032083, 85.24605778797803, 130.84772377006968, 37.58327011216547, 75.17962486220375, 50.008949716236565, 45.47255160786969, 47.334951095407575], \"Category\": [\"Default\", \"Default\", \"Default\", \"Default\", \"Default\", \"Default\", \"Default\", \"Default\", \"Default\", \"Default\", \"Default\", \"Default\", \"Default\", \"Default\", \"Default\", \"Default\", \"Default\", \"Default\", \"Default\", \"Default\", \"Default\", \"Default\", \"Default\", \"Default\", \"Default\", \"Default\", \"Default\", \"Default\", \"Default\", \"Default\", \"Topic1\", \"Topic1\", \"Topic1\", \"Topic1\", \"Topic1\", \"Topic1\", \"Topic1\", \"Topic1\", \"Topic1\", \"Topic1\", \"Topic1\", \"Topic1\", \"Topic1\", \"Topic1\", \"Topic1\", \"Topic1\", \"Topic1\", \"Topic1\", \"Topic1\", \"Topic1\", \"Topic1\", \"Topic1\", \"Topic1\", \"Topic1\", \"Topic1\", \"Topic1\", \"Topic1\", \"Topic1\", \"Topic1\", \"Topic1\", \"Topic1\", \"Topic1\", \"Topic1\", \"Topic1\", \"Topic1\", \"Topic1\", \"Topic1\", \"Topic1\", \"Topic1\", \"Topic1\", \"Topic1\", \"Topic1\", \"Topic1\", \"Topic1\", \"Topic1\", \"Topic1\", \"Topic1\", \"Topic1\", \"Topic1\", \"Topic1\", \"Topic1\", \"Topic1\", \"Topic1\", \"Topic1\", \"Topic2\", \"Topic2\", \"Topic2\", \"Topic2\", \"Topic2\", \"Topic2\", \"Topic2\", \"Topic2\", \"Topic2\", \"Topic2\", \"Topic2\", \"Topic2\", \"Topic2\", \"Topic2\", \"Topic2\", \"Topic2\", \"Topic2\", \"Topic2\", \"Topic2\", \"Topic2\", \"Topic2\", \"Topic2\", \"Topic2\", \"Topic2\", \"Topic2\", \"Topic2\", \"Topic2\", \"Topic2\", \"Topic2\", \"Topic2\", \"Topic2\", \"Topic2\", \"Topic2\", \"Topic2\", \"Topic2\", \"Topic2\", \"Topic2\", \"Topic2\", \"Topic2\", \"Topic2\", \"Topic2\", \"Topic2\", \"Topic2\", \"Topic2\", \"Topic2\", \"Topic2\", \"Topic2\", \"Topic2\", \"Topic2\", \"Topic2\", \"Topic2\", \"Topic2\", \"Topic2\", \"Topic2\", \"Topic3\", \"Topic3\", \"Topic3\", \"Topic3\", \"Topic3\", \"Topic3\", \"Topic3\", \"Topic3\", \"Topic3\", \"Topic3\", \"Topic3\", \"Topic3\", \"Topic3\", \"Topic3\", \"Topic3\", \"Topic3\", \"Topic3\", \"Topic3\", \"Topic3\", \"Topic3\", \"Topic3\", \"Topic3\", \"Topic3\", \"Topic3\", \"Topic3\", \"Topic3\", \"Topic3\", \"Topic3\", \"Topic3\", \"Topic3\", \"Topic3\", \"Topic3\", \"Topic3\", \"Topic3\", \"Topic3\", \"Topic3\", \"Topic3\", \"Topic3\", \"Topic3\", \"Topic3\", \"Topic3\", \"Topic3\", \"Topic3\", \"Topic3\", \"Topic3\", \"Topic3\", \"Topic3\", \"Topic3\", \"Topic3\", \"Topic3\", \"Topic3\", \"Topic3\", \"Topic3\", \"Topic3\", \"Topic3\", \"Topic3\", \"Topic4\", \"Topic4\", \"Topic4\", \"Topic4\", \"Topic4\", \"Topic4\", \"Topic4\", \"Topic4\", \"Topic4\", \"Topic4\", \"Topic4\", \"Topic4\", \"Topic4\", \"Topic4\", \"Topic4\", \"Topic4\", \"Topic4\", \"Topic4\", \"Topic4\", \"Topic4\", \"Topic4\", \"Topic4\", \"Topic4\", \"Topic4\", \"Topic4\", \"Topic4\", \"Topic4\", \"Topic4\", \"Topic4\", \"Topic4\", \"Topic4\", \"Topic4\", \"Topic4\", \"Topic4\", \"Topic4\", \"Topic4\", \"Topic4\", \"Topic4\", \"Topic4\", \"Topic4\", \"Topic4\", \"Topic4\", \"Topic4\", \"Topic4\", \"Topic4\", \"Topic4\", \"Topic4\", \"Topic4\", \"Topic4\", \"Topic4\", \"Topic4\", \"Topic4\", \"Topic4\", \"Topic4\", \"Topic4\", \"Topic4\", \"Topic4\", \"Topic5\", \"Topic5\", \"Topic5\", \"Topic5\", \"Topic5\", \"Topic5\", \"Topic5\", \"Topic5\", \"Topic5\", \"Topic5\", \"Topic5\", \"Topic5\", \"Topic5\", \"Topic5\", \"Topic5\", \"Topic5\", \"Topic5\", \"Topic5\", \"Topic5\", \"Topic5\", \"Topic5\", \"Topic5\", \"Topic5\", \"Topic5\", \"Topic5\", \"Topic5\", \"Topic5\", \"Topic5\", \"Topic5\", \"Topic5\", \"Topic5\", \"Topic5\", \"Topic5\", \"Topic5\", \"Topic5\", \"Topic5\", \"Topic5\", \"Topic5\", \"Topic5\", \"Topic5\", \"Topic5\", \"Topic5\", \"Topic5\", \"Topic5\", \"Topic5\", \"Topic5\", \"Topic5\", \"Topic5\", \"Topic5\", \"Topic5\", \"Topic5\", \"Topic5\", \"Topic5\", \"Topic5\", \"Topic5\", \"Topic5\"], \"logprob\": [30.0, 29.0, 28.0, 27.0, 26.0, 25.0, 24.0, 23.0, 22.0, 21.0, 20.0, 19.0, 18.0, 17.0, 16.0, 15.0, 14.0, 13.0, 12.0, 11.0, 10.0, 9.0, 8.0, 7.0, 6.0, 5.0, 4.0, 3.0, 2.0, 1.0, -5.2344, -4.5789, -5.2358, -5.4514, -5.5367, -5.631, -5.8485, -5.8485, -5.8487, -5.9786, -5.9786, -5.9786, -5.9786, -5.7585, -5.0177, -6.1325, -6.0069, -6.0104, -6.3041, -6.3041, -6.3041, -6.3049, -4.4487, -5.0027, -5.2701, -3.9047, -6.1774, -6.5176, -6.5176, -6.5176, -4.2475, -5.7496, -5.7576, -5.1534, -5.5525, -4.7202, -4.475, -5.8587, -5.1152, -4.5525, -4.9287, -4.3641, -5.3436, -5.0973, -5.2696, -4.9659, -4.9885, -4.7551, -5.6391, -5.0695, -4.967, -5.4471, -5.5143, -5.513, -3.2984, -4.7173, -4.6659, -4.8335, -4.8999, -5.3994, -5.5145, -4.535, -5.7942, -5.7945, -5.4433, -5.97, -5.97, -5.9705, -6.1835, -6.1835, -6.1836, -6.1836, -6.1836, -6.1851, -4.5145, -5.4183, -3.4024, -6.4555, -6.4555, -6.4556, -6.4556, -6.4556, -6.4556, -6.4556, -5.6451, -5.2035, -4.5916, -3.5744, -5.5994, -5.5144, -5.3185, -3.9971, -5.3049, -5.079, -2.934, -5.0547, -5.3986, -5.4327, -5.0144, -5.4231, -5.2087, -5.1952, -5.3603, -4.9074, -5.3238, -5.4591, -5.4232, -5.4077, -4.1582, -5.2872, -5.4631, -5.4633, -5.4639, -5.4639, -5.4651, -5.4652, -5.6777, -5.6779, -5.678, -5.678, -5.678, -5.678, -5.678, -5.678, -5.6781, -5.6847, -5.6847, -5.9489, -5.9489, -5.9489, -5.9496, -5.9496, -5.9499, -5.9796, -6.0124, -5.7985, -6.3242, -6.3242, -5.1218, -5.2872, -4.8389, -4.6232, -5.2853, -5.3074, -3.4818, -4.6019, -4.8083, -5.6901, -5.1771, -4.9728, -5.0759, -4.1029, -4.9262, -5.3084, -5.5473, -5.5747, -5.534, -5.5555, -5.539, -5.6144, -5.4028, -5.4674, -5.4822, -5.5443, -4.8934, -5.3162, -5.3842, -5.3843, -5.3845, -5.4574, -5.6216, -5.6216, -5.6216, -5.7152, -5.7153, -5.8183, -5.8183, -5.8183, -5.9333, -5.9333, -5.9337, -6.0642, -5.3163, -6.2131, -6.2131, -6.2131, -6.2131, -6.2131, -6.2132, -6.2134, -6.2151, -6.3888, -6.3888, -6.3888, -5.536, -5.1517, -4.3508, -5.3675, -4.2848, -5.7484, -4.9552, -4.7616, -4.6759, -5.2198, -4.3061, -3.9272, -4.9818, -5.6305, -5.5169, -5.2454, -5.3019, -5.4018, -5.5828, -5.4143, -5.1845, -5.0213, -5.4443, -5.5376, -5.5611, -5.5304, -5.548, -4.9362, -4.9785, -4.5428, -4.5331, -5.5846, -4.8374, -5.7124, -5.911, -5.9666, -5.9666, -5.9675, -5.9682, -5.9709, -6.0284, -6.0902, -6.0904, -5.4733, -6.2312, -6.1627, -6.1659, -6.311, -6.3955, -6.3955, -6.3955, -6.3971, -6.489, -6.4891, -6.4892, -6.4894, -6.4898, -5.2298, -4.3267, -5.6673, -5.7574, -4.2368, -5.2206, -5.6467, -5.0775, -5.8119, -5.8615, -3.1299, -4.9385, -5.6662, -3.7043, -5.4262, -5.6959, -5.5589, -5.652, -5.6066, -5.1494, -5.1671, -5.6551, -5.4732, -5.6004, -5.7019, -5.6998], \"loglift\": [30.0, 29.0, 28.0, 27.0, 26.0, 25.0, 24.0, 23.0, 22.0, 21.0, 20.0, 19.0, 18.0, 17.0, 16.0, 15.0, 14.0, 13.0, 12.0, 11.0, 10.0, 9.0, 8.0, 7.0, 6.0, 5.0, 4.0, 3.0, 2.0, 1.0, 1.684, 1.6836, 1.6822, 1.6749, 1.6698, 1.6628, 1.6466, 1.6466, 1.6464, 1.6348, 1.6348, 1.6348, 1.6347, 1.6292, 1.623, 1.6147, 1.6047, 1.6044, 1.5983, 1.5982, 1.5982, 1.5974, 1.5943, 1.589, 1.5858, 1.5817, 1.5724, 1.5682, 1.5682, 1.5681, 1.5583, 1.5425, 1.5344, 1.4787, 1.497, 1.3268, 1.2819, 1.5222, 1.3471, 1.186, 1.2293, 0.8686, 1.2914, 1.1174, 0.9936, 0.6867, 0.698, 0.3431, 1.2624, -0.3998, -0.7662, 0.1844, 0.3821, 0.0141, 2.11, 2.0766, 2.0765, 2.0716, 2.0654, 2.0356, 2.0256, 2.0179, 1.9966, 1.9963, 1.9863, 1.9745, 1.9745, 1.9741, 1.9427, 1.9427, 1.9426, 1.9426, 1.9426, 1.941, 1.9091, 1.9073, 1.8948, 1.8929, 1.8929, 1.8929, 1.8929, 1.8929, 1.8929, 1.8929, 1.8892, 1.8128, 1.7478, 1.6494, 1.824, 1.8145, 1.7852, 1.5881, 1.772, 1.6767, 0.6822, 1.4671, 1.5878, 1.551, 1.1831, 1.507, 1.1888, 1.1352, 1.3586, 0.1908, 0.9393, 1.4482, 0.9817, 0.7621, 2.7525, 2.6538, 2.627, 2.6268, 2.6261, 2.6261, 2.6246, 2.6246, 2.5876, 2.5873, 2.5872, 2.5872, 2.5872, 2.5872, 2.5872, 2.5872, 2.5872, 2.579, 2.579, 2.5294, 2.5294, 2.5294, 2.5284, 2.5284, 2.5282, 2.4921, 2.4529, 2.435, 2.4247, 2.4247, 2.4083, 2.3349, 2.2017, 2.1117, 2.2229, 2.214, 1.1879, 1.7304, 1.7772, 2.354, 1.9709, 1.6728, 1.63, 0.0979, 1.2614, 1.5292, 2.1646, 2.1684, 1.9448, 2.0165, 1.8237, 2.2449, 0.4936, 1.0042, 0.8184, 0.5085, 1.6032, 1.5869, 1.5836, 1.5835, 1.5833, 1.5796, 1.5701, 1.5701, 1.5701, 1.5639, 1.5638, 1.5566, 1.5565, 1.5565, 1.5474, 1.5474, 1.547, 1.535, 1.5269, 1.5205, 1.5205, 1.5204, 1.5204, 1.5204, 1.5203, 1.5201, 1.5184, 1.5, 1.5, 1.5, 1.4967, 1.434, 1.314, 1.4082, 1.2423, 1.4365, 1.2448, 1.1791, 1.1479, 1.2656, 0.9266, 0.7425, 1.0568, 1.3402, 1.2193, 0.8307, 0.8362, 0.9048, 1.1318, 0.6385, -0.0863, -0.8206, 0.6277, 0.7947, 1.0244, 0.6393, 0.499, 0.7873, 0.7868, 0.7822, 0.7792, 0.7745, 0.7725, 0.7699, 0.7633, 0.762, 0.762, 0.7612, 0.7605, 0.758, 0.7579, 0.7569, 0.7567, 0.7512, 0.7503, 0.7497, 0.747, 0.7453, 0.7414, 0.7414, 0.7414, 0.7399, 0.7357, 0.7356, 0.7355, 0.7353, 0.7349, 0.7325, 0.7206, 0.7335, 0.73, 0.7124, 0.7117, 0.7193, 0.6979, 0.7179, 0.7152, 0.4862, 0.6365, 0.6985, 0.4964, 0.5904, 0.6352, 0.5632, 0.5236, 0.4856, -0.0512, -0.4974, 0.2621, -0.2494, 0.0311, 0.0247, -0.0133]}, \"token.table\": {\"Topic\": [2, 5, 2, 1, 1, 2, 5, 5, 1, 3, 5, 3, 3, 1, 1, 2, 4, 5, 4, 1, 5, 2, 4, 2, 3, 5, 3, 4, 1, 3, 5, 4, 5, 1, 2, 3, 4, 5, 1, 2, 3, 5, 2, 3, 5, 2, 3, 5, 1, 3, 4, 5, 1, 5, 1, 4, 2, 2, 1, 3, 4, 4, 1, 2, 4, 5, 1, 3, 4, 5, 3, 4, 5, 2, 3, 3, 4, 5, 2, 5, 1, 5, 2, 1, 2, 3, 5, 2, 3, 5, 1, 2, 4, 5, 2, 2, 4, 5, 3, 5, 2, 5, 1, 2, 3, 4, 5, 4, 3, 5, 4, 5, 2, 5, 3, 1, 2, 1, 3, 5, 4, 3, 4, 5, 1, 2, 4, 5, 2, 3, 4, 5, 4, 5, 2, 4, 5, 1, 2, 5, 3, 5, 1, 3, 4, 2, 5, 1, 2, 3, 4, 5, 3, 4, 2, 4, 5, 3, 3, 2, 4, 5, 2, 5, 2, 1, 2, 3, 4, 1, 5, 1, 2, 3, 4, 5, 5, 1, 3, 4, 5, 1, 4, 4, 4, 5, 4, 5, 1, 3, 4, 5, 4, 3, 5, 1, 2, 4, 5, 3, 2, 5, 5, 5, 1, 2, 3, 4, 5, 5, 1, 2, 1, 2, 5, 1, 4, 5, 2, 5, 2, 1, 5, 1, 3, 4, 5, 1, 5, 4, 2, 3, 5, 1, 2, 5, 4, 4, 5, 1, 5, 1, 4, 5, 3, 4, 4, 1, 2, 4, 5, 4, 1, 2, 3, 4, 5, 1, 4, 5, 5, 1, 4, 1, 4, 3, 3, 5, 3, 2, 1, 2, 4, 5, 1, 3, 5, 4, 5, 2, 2, 3, 5, 1, 2, 5, 1, 4, 4, 3, 5, 1, 2, 4, 5, 3, 3, 1, 2, 3, 4, 5, 2, 3, 4, 5, 1, 2, 4, 1, 2, 3, 4, 5, 3, 2, 5, 1, 3, 1, 2, 3, 4, 5, 3, 5, 1, 2, 3, 4, 5, 4, 2, 3, 1, 3, 4, 5, 5, 1, 2, 3, 4, 5, 1, 2, 3, 4, 5, 1, 4, 5, 1, 1, 3, 3, 1, 3, 4, 5, 4, 3, 5, 2, 5, 3, 5, 2, 4, 5, 2, 3, 4, 5, 1, 3, 4, 5, 1, 4, 5, 5, 4, 4, 1, 5, 1, 2, 4, 5, 1, 2, 3, 4, 5, 3, 4, 5, 1, 4, 4, 1, 1, 2, 5, 1, 3, 4, 5, 1, 4, 5, 1, 1, 5, 4, 4, 2, 2, 4, 5, 2, 2, 2, 4, 3, 4, 5, 1, 2, 3, 4, 5, 1, 4, 5, 3, 4, 1, 5, 4, 5, 2, 5, 1, 2, 5, 1, 5, 4, 2, 3, 5, 2, 2, 3, 1, 3, 4, 5, 1, 3, 4, 5, 1, 2, 4, 1, 2, 3, 5, 3, 3, 1, 2, 3, 4, 5, 5, 4, 5, 1, 3, 4, 1, 4, 1, 2, 3, 5, 3, 1, 2, 3, 4, 5, 3, 2, 3, 4, 1, 2, 4, 5, 1, 3, 1], \"Freq\": [0.9044449703734736, 0.05024694279852631, 0.9078525337109434, 0.7748527523194763, 0.6407638697859862, 0.07119598553177625, 0.284783942127105, 0.9583263468677732, 0.8750228910286655, 0.09051960941675849, 0.030173203138919497, 0.8054021320450593, 0.8353509012060119, 0.9023984144458267, 0.48887777641589153, 0.3008478624097794, 0.11281794840366728, 0.11281794840366728, 0.8181131954134941, 0.8050100498057917, 0.11500143568654167, 0.7187392888585757, 0.23957976295285857, 0.8663238534077822, 0.6891543938299413, 0.9837430246973489, 0.6696452302285238, 0.22321507674284127, 0.6545402415300418, 0.05454502012750348, 0.27272510063751737, 0.8181033695370012, 0.9256049095517214, 0.02131950966269934, 0.2371795449975302, 0.007994816123512253, 0.005329877415674835, 0.7301932059474524, 0.018897178622102474, 0.11338307173261486, 0.018897178622102474, 0.8503730379946114, 0.16329421729812432, 0.03265884345962486, 0.7838122430309967, 0.47456050191239346, 0.11864012547809837, 0.4152404391733443, 0.8331850847927991, 0.04761057627387424, 0.07141586441081135, 0.02380528813693712, 0.8880162236085573, 0.10447249689512439, 0.869000718207285, 0.9517724559525075, 0.9918180291065338, 0.7269523578940114, 0.8647408866655865, 0.01729481773331173, 0.12106372413318212, 0.951771839266842, 0.03818383882871955, 0.5918495018451531, 0.057275758243079324, 0.3054707106297564, 0.23229154870213206, 0.09955352087234232, 0.4645830974042641, 0.23229154870213206, 0.36338535861397675, 0.5191219408771096, 0.10382438817542192, 0.9591011362877778, 0.8353508869584125, 0.02309083420363733, 0.06927250261091199, 0.9005425339418559, 0.7946961926602022, 0.17659915392448938, 0.01471668218658661, 0.9860177065013029, 0.9078525337086973, 0.13406344756726368, 0.8043806854035821, 0.8340949120972813, 0.9644470084838529, 0.7269599351312626, 0.585477761537583, 0.2927388807687915, 0.17205589851415723, 0.38712577165685375, 0.21506987314269652, 0.17205589851415723, 0.9710638181417635, 0.9438866768988993, 0.8508184349133686, 0.09453538165704095, 0.4803695897550653, 0.3202463931700435, 0.01453136071446879, 0.973601167869409, 0.10460287067656697, 0.03486762355885566, 0.20920574135313394, 0.27894098847084525, 0.38354385914741224, 0.8181222126617211, 0.6802377806419647, 0.9143572374556287, 0.9555533449201485, 0.983223500396685, 0.7616685814475361, 0.10880979734964802, 0.6890071208844657, 0.9308207813253199, 0.9078525337103581, 0.26717312311902963, 0.26717312311902963, 0.46755296545830183, 0.8180818996933142, 0.06035452689357489, 0.6638997958293239, 0.24141810757429957, 0.1963949109454479, 0.11783694656726873, 0.4713477862690749, 0.1963949109454479, 0.9078598662304537, 0.5224115975311747, 0.26120579876558736, 0.13060289938279368, 0.04315581370551143, 0.9494279015212514, 0.152600682099832, 0.7630034104991599, 0.076300341049916, 0.9806496066360082, 0.019569213851830775, 0.9784606925915388, 0.8092695381224428, 0.26975651270748097, 0.20148872935882914, 0.32238196697412663, 0.4432752045894241, 0.8662883579175585, 0.9583905569242271, 0.1906852298462142, 0.02724074712088774, 0.02724074712088774, 0.626537183780418, 0.10896298848355096, 0.9033117132615709, 0.955553342980565, 0.6899564274363498, 0.04058567220213822, 0.24351403321282933, 0.835350889287396, 0.9349192779095612, 0.6788323809303609, 0.16970809523259023, 0.16970809523259023, 0.6154155816372721, 0.30770779081863603, 0.9289298933649827, 0.13234345790799, 0.13234345790799, 0.52937383163196, 0.13234345790799, 0.7748261111821274, 0.9011489210252145, 0.35914265477395485, 0.12675623109668996, 0.04225207703222999, 0.021126038516114994, 0.44364680883841484, 0.9836750989375767, 0.14539933241762076, 0.02423322206960346, 0.6058305517400865, 0.19386577655682768, 0.06716897907670202, 0.8731967279971262, 0.9348042271980171, 0.5707853859377587, 0.4205787054278222, 0.8181162432006932, 0.9584372086013703, 0.2258328109121803, 0.33874921636827043, 0.11291640545609015, 0.33874921636827043, 0.8181131949379888, 0.5566283103247449, 0.3710855402164966, 0.24634570260399255, 0.14076897291656718, 0.17596121614570898, 0.42230691874970155, 0.9345022375905082, 0.8015688381327286, 0.20039220953318215, 0.9828925916617104, 0.9586118327914083, 0.2199606282958707, 0.11997852452502039, 0.059989262262510196, 0.13997494527919044, 0.4599176773459115, 0.9009989651279233, 0.7748486975790826, 0.9078525337086552, 0.930820781388537, 0.620072304733495, 0.38754519045843433, 0.05877558746104104, 0.11755117492208209, 0.8228582244545746, 0.04168220871519431, 0.9170085917342748, 0.808222093741096, 0.7614003981961324, 0.21754297091318067, 0.05512508735276119, 0.33075052411656714, 0.16537526205828357, 0.44100069882208953, 0.0832501545908258, 0.9157517004990838, 0.9555533462615338, 0.6251693871330962, 0.02660295264396154, 0.3458383843715, 0.9409611443469331, 0.845196176504404, 0.12074231092920058, 0.9144231920538421, 0.049099938226687734, 0.932898826307067, 0.8776650845640833, 0.05485406778525521, 0.059060482047187196, 0.5906048204718719, 0.29530241023593595, 0.9345107862373009, 0.9144256765532578, 0.8583591366600748, 0.6884183812180371, 0.045894558747869144, 0.18357823499147657, 0.09178911749573829, 0.8894929143436678, 0.15616226468145813, 0.07808113234072907, 0.15616226468145813, 0.3513650955332808, 0.27328396319255177, 0.9659994089431115, 0.892962928236051, 0.08117844802145918, 0.9583229974136721, 0.9262303327139938, 0.8181220205770375, 0.8844145279817535, 0.13606377353565438, 0.6846287386788205, 0.48217912625730647, 0.48217912625730647, 0.934758601180331, 0.8082528413090102, 0.19482813565284351, 0.5357773730453196, 0.04870703391321088, 0.24353516956605437, 0.02783615452901523, 0.02783615452901523, 0.9464292539865178, 0.8181131968516334, 0.9440601363369187, 0.8082169582904486, 0.6972870920239446, 0.08716088650299307, 0.17432177300598614, 0.9414059976428739, 0.7269488768512098, 0.983695062878172, 0.8418265782881829, 0.10522832228602286, 0.9129800463266718, 0.03618272845571673, 0.9407509398486351, 0.34715640335042625, 0.061262894708898744, 0.16336771922372997, 0.408419298059325, 0.9341747592449421, 0.68915439373617, 0.1432355361236587, 0.5013243764328054, 0.1432355361236587, 0.07161776806182935, 0.07161776806182935, 0.02067166903119346, 0.04134333806238692, 0.7235084160917712, 0.2067166903119346, 0.10916901993690664, 0.7641831395583465, 0.10916901993690664, 0.18638055699859973, 0.12425370466573316, 0.06212685233286658, 0.37276111399719947, 0.2795708354978996, 0.8353935430107416, 0.5411250838422703, 0.3865179170301931, 0.9396022614941077, 0.03758409045976431, 0.17125974429126042, 0.2740155908660167, 0.034251948858252085, 0.3767714374407729, 0.17125974429126042, 0.41762538217481304, 0.41762538217481304, 0.16089219653933914, 0.3620074422135131, 0.040223049134834786, 0.16089219653933914, 0.2815613439438435, 0.9517767540878637, 0.90785986623071, 0.8353510254134578, 0.19017525010864733, 0.06339175003621578, 0.03169587501810789, 0.7290051254164814, 0.9357326994615055, 0.08128451928788012, 0.028688653866310632, 0.0669401923547248, 0.08606596159893189, 0.7363421159019728, 0.21330060785787025, 0.030471515408267178, 0.09141454622480154, 0.36565818489920615, 0.2742436386744046, 0.1557650684762654, 0.8307470318734155, 0.9440217424269549, 0.8293197110857735, 0.93081673612723, 0.8353510221752566, 0.6891543936880404, 0.8705556276462458, 0.9349442432415354, 0.051453327572789496, 0.9261598963102109, 0.9498937764979676, 0.6675641840649661, 0.26702567362598645, 0.04705965540918832, 0.9411931081837664, 0.9347586002317957, 0.9934355238494921, 0.07061068849185376, 0.6708015406726107, 0.24713740972148815, 0.011149162011749874, 0.011149162011749874, 0.05574581005874937, 0.9253804469752396, 0.18013716608902436, 0.05404114982670731, 0.6665075145293902, 0.09006858304451218, 0.6665127729937119, 0.33325638649685596, 0.9836767675693476, 0.9009983025049584, 0.8894945625276641, 0.9129797574149376, 0.08103912803437086, 0.9184434510562031, 0.8705556276258455, 0.04696642183732308, 0.7044963275598461, 0.23483210918661537, 0.03521622019474212, 0.3873784221421633, 0.07043244038948424, 0.03521622019474212, 0.4578108625316475, 0.18529575715262928, 0.32426757501710124, 0.5095633321697305, 0.8417312742660733, 0.10521640928325916, 0.9784142543069646, 0.902390618562232, 0.5785918004303212, 0.08901412314312633, 0.33380296178672375, 0.6093267837061482, 0.033851487983674905, 0.27081190386939924, 0.10155446395102471, 0.4160090832586664, 0.49652697034098897, 0.08051788708232253, 0.8314947309150166, 0.8705541908094192, 0.9009976457976272, 0.9144230932586072, 0.9270621448498846, 0.7269488769398793, 0.17226955119627868, 0.06890782047851148, 0.7579860252636262, 0.7268515106477804, 0.9078525337084024, 0.7199086639276129, 0.23996955464253764, 0.2927562361874686, 0.5855124723749372, 0.11710249447498744, 0.9487064933701205, 0.010107060724852549, 0.010107060724852549, 0.060642364349115296, 0.9096354652367294, 0.21833721896830457, 0.43667443793660915, 0.3119103128118637, 0.8353508727640094, 0.9129820069125878, 0.8719020548457168, 0.9836972058271359, 0.8894945626132102, 0.951801744258635, 0.9107244359748191, 0.9362407577281531, 0.21980061617500454, 0.512868104408344, 0.21980061617500454, 0.12075655772772577, 0.8452959040940804, 0.9348047405088858, 0.25364308715734757, 0.3804646307360214, 0.25364308715734757, 0.9716911329052419, 0.7269599351312613, 0.9033117195085685, 0.11463707252835777, 0.19870425904915345, 0.41269346110208793, 0.27512897406805864, 0.2455046008514556, 0.5728440686533963, 0.0818348669504852, 0.0818348669504852, 0.30334091598733703, 0.30334091598733703, 0.34667533255695665, 0.6347142866679176, 0.04533673476199412, 0.06800510214299117, 0.24935204119096765, 0.835345896059355, 0.8340886317213992, 0.1759303077818814, 0.15393901930914622, 0.06597386541820552, 0.15393901930914622, 0.46181705792743866, 0.986546573811666, 0.8161643898722731, 0.18834562843206304, 0.5374123502273145, 0.1074824700454629, 0.32244741013638867, 0.8255931157530124, 0.1651186231506025, 0.8705636037193266, 0.2733119589981781, 0.4555199316636302, 0.2733119589981781, 0.6889905976587104, 0.26062675743134084, 0.052125351486268165, 0.10425070297253633, 0.13031337871567042, 0.4691281633764135, 0.8354266275214431, 0.16519666118492157, 0.49558998355476475, 0.16519666118492157, 0.15964550136518954, 0.18625308492605447, 0.07982275068259477, 0.5853668383390283, 0.9023973109978968, 0.6889905887041451, 0.7748502476914898], \"Term\": [\"2017\", \"2017\", \"2020\\u00e2\", \"95\", \"administration\", \"administration\", \"administration\", \"afghanistan\", \"aid\", \"aid\", \"aid\", \"alliance\", \"am12\", \"amendments\", \"american\", \"american\", \"american\", \"american\", \"announces\", \"assistance\", \"assistance\", \"associate\", \"associate\", \"associates\", \"atlantic\", \"attorney\", \"baier\", \"baier\", \"ballot\", \"ballot\", \"ballot\", \"battleground\", \"beau\", \"biden\", \"biden\", \"biden\", \"biden\", \"biden\", \"bidens\", \"bidens\", \"bidens\", \"bidens\", \"biden\\u00e2\", \"biden\\u00e2\", \"biden\\u00e2\", \"big\", \"big\", \"big\", \"bill\", \"bill\", \"bill\", \"bill\", \"billion\", \"billion\", \"bipartisan\", \"black\", \"bobulinski\", \"bobulinski\\u00e2\", \"border\", \"border\", \"border\", \"bowman\", \"business\", \"business\", \"business\", \"business\", \"candidate\", \"candidate\", \"candidate\", \"candidate\", \"carolina\", \"carolina\", \"carolina\", \"cefc\", \"channels\", \"charges\", \"charges\", \"charges\", \"chinese\", \"chinese\", \"classified\", \"classified\", \"clearance\", \"closed\", \"closed\", \"coastal\", \"comer\", \"command\", \"comments\", \"comments\", \"committee\", \"committee\", \"committee\", \"committee\", \"communist\", \"company\", \"conservative\", \"conservative\", \"conway\", \"conway\", \"counsel\", \"counsel\", \"country\", \"country\", \"country\", \"country\", \"country\", \"county\", \"crimes\", \"criminal\", \"daines\", \"day\", \"dealings\", \"dealings\", \"death\", \"debt\", \"decorated\", \"defense\", \"defense\", \"defense\", \"dem\", \"democrat\", \"democrat\", \"democrat\", \"democrats\", \"democrats\", \"democrats\", \"democrats\", \"deniability\", \"didn\\u00e2\", \"didn\\u00e2\", \"didn\\u00e2\", \"died\", \"died\", \"district\", \"district\", \"district\", \"dnc\", \"documents\", \"documents\", \"doesn\\u00e2\", \"doesn\\u00e2\", \"donald\", \"donald\", \"donald\", \"doors\", \"elderly\", \"election\", \"election\", \"election\", \"election\", \"election\", \"encouraging\", \"endorsed\", \"energy\", \"energy\", \"energy\", \"et\\u00e2\", \"european\", \"expected\", \"expected\", \"expected\", \"family\", \"family\", \"family\\u00e2\", \"far\", \"far\", \"far\", \"far\", \"fec\", \"firm\", \"foreign\", \"foreign\", \"foreign\", \"foreign\", \"foreign\", \"forgetting\", \"gop\", \"gop\", \"gop\", \"gop\", \"gov\", \"gov\", \"governor\", \"haley\", \"haley\", \"hampshire\", \"handling\", \"hell\", \"hell\", \"hell\", \"hell\", \"honored\", \"host\", \"host\", \"house\", \"house\", \"house\", \"house\", \"howard\", \"hunter\", \"hunter\", \"hur\", \"hurs\", \"images\", \"images\", \"images\", \"images\", \"images\", \"improper\", \"independent\", \"indicate\", \"indopacific\", \"inquiry\", \"inquiry\", \"interview\", \"interview\", \"interview\", \"investigation\", \"investigation\", \"involvement\", \"israel\", \"israel\", \"it\\u00e2\", \"it\\u00e2\", \"it\\u00e2\", \"it\\u00e2\", \"james\", \"james\", \"jersey\", \"joe\", \"joe\", \"joe\", \"johnson\", \"jointventure\", \"jointventure\", \"jon\", \"justice\", \"justice\", \"kennedy\", \"kennedy\", \"key\", \"key\", \"key\", \"kurtz\", \"lara\", \"larry\", \"leader\", \"leader\", \"leader\", \"leader\", \"lost\", \"made\", \"made\", \"made\", \"made\", \"made\", \"marshall\", \"maryland\", \"maryland\", \"materials\", \"mayorkas\", \"mazi\", \"mcconnell\", \"mcconnell\", \"mcnameegetty\", \"media\", \"media\", \"mediabuzz\\u00e2\", \"meet\", \"meeting\", \"meeting\", \"meeting\", \"meeting\", \"memory\", \"memory\", \"memory\", \"menendez\", \"mental\", \"messages\", \"met\", \"met\", \"met\", \"mike\", \"milken\", \"mishandling\", \"mitch\", \"mitch\", \"montana\", \"mr\", \"mr\", \"national\", \"national\", \"national\", \"national\", \"nato\", \"nato\\u00e2\", \"never\", \"never\", \"never\", \"never\", \"never\", \"new\", \"new\", \"new\", \"new\", \"october\", \"october\", \"october\", \"one\", \"one\", \"one\", \"one\", \"one\", \"opposition\", \"oversight\", \"oversight\", \"package\", \"package\", \"party\", \"party\", \"party\", \"party\", \"party\", \"pay\", \"pay\", \"people\", \"people\", \"people\", \"people\", \"people\", \"pilip\", \"plausible\", \"pm\", \"policy\", \"policy\", \"policy\", \"policy\", \"poor\", \"president\", \"president\", \"president\", \"president\", \"president\", \"presidential\", \"presidential\", \"presidential\", \"presidential\", \"presidential\", \"primary\", \"primary\", \"probe\", \"procedural\", \"process\", \"programs\", \"protect\", \"provisions\", \"putin\", \"questions\", \"questions\", \"race\", \"rally\", \"rally\", \"records\", \"records\", \"regularly\", \"remember\", \"rep\", \"rep\", \"rep\", \"report\", \"report\", \"report\", \"report\", \"republican\", \"republican\", \"republican\", \"republican\", \"republicans\", \"republicans\", \"retained\", \"retention\", \"rmont\", \"rnc\", \"robert\", \"robert\", \"roger\", \"run\", \"run\", \"run\", \"say\", \"say\", \"say\", \"say\", \"say\", \"says\", \"says\", \"says\", \"schumer\", \"schumer\", \"seat\", \"secure\", \"security\", \"security\", \"security\", \"sen\", \"sen\", \"sen\", \"sen\", \"senate\", \"senate\", \"senate\", \"senates\", \"senators\", \"sensitive\", \"serve\", \"sheehy\", \"sinohawk\", \"son\", \"son\", \"son\", \"sons\", \"son\\u00e2\", \"source\", \"source\", \"south\", \"south\", \"south\", \"speaker\", \"special\", \"special\", \"special\", \"special\", \"state\", \"state\", \"state\", \"sundays\", \"suozzi\", \"supplemental\", \"sympathetic\", \"tester\", \"testified\", \"testify\", \"testimony\", \"text\", \"text\", \"text\", \"thursday\", \"thursday\", \"tim\", \"times\", \"times\", \"times\", \"tony\", \"training\", \"trigger\", \"trump\", \"trump\", \"trump\", \"trump\", \"trump\\u00e2\", \"trump\\u00e2\", \"trump\\u00e2\", \"trump\\u00e2\", \"tuesday\", \"tuesday\", \"tuesday\", \"ukraine\", \"ukraine\", \"ukraine\", \"ukraine\", \"union\", \"university\", \"us\", \"us\", \"us\", \"us\", \"us\", \"vice\", \"video\", \"video\", \"vote\", \"vote\", \"vote\", \"voted\", \"voted\", \"votes\", \"want\", \"want\", \"want\", \"warning\", \"washington\", \"washington\", \"washington\", \"washington\", \"washington\", \"wasn\\u00e2\", \"whatever\", \"whatever\", \"whatever\", \"white\", \"white\", \"white\", \"white\", \"without\", \"wonder\", \"zelenskyy\"]}, \"R\": 30, \"lambda.step\": 0.01, \"plot.opts\": {\"xlab\": \"PC1\", \"ylab\": \"PC2\"}, \"topic.order\": [1, 2, 3, 4, 5]};\n",
       "\n",
       "function LDAvis_load_lib(url, callback){\n",
       "  var s = document.createElement('script');\n",
       "  s.src = url;\n",
       "  s.async = true;\n",
       "  s.onreadystatechange = s.onload = callback;\n",
       "  s.onerror = function(){console.warn(\"failed to load library \" + url);};\n",
       "  document.getElementsByTagName(\"head\")[0].appendChild(s);\n",
       "}\n",
       "\n",
       "if(typeof(LDAvis) !== \"undefined\"){\n",
       "   // already loaded: just create the visualization\n",
       "   !function(LDAvis){\n",
       "       new LDAvis(\"#\" + \"ldavis_el814601406977152731688062156064\", ldavis_el814601406977152731688062156064_data);\n",
       "   }(LDAvis);\n",
       "}else if(typeof define === \"function\" && define.amd){\n",
       "   // require.js is available: use it to load d3/LDAvis\n",
       "   require.config({paths: {d3: \"https://d3js.org/d3.v5\"}});\n",
       "   require([\"d3\"], function(d3){\n",
       "      window.d3 = d3;\n",
       "      LDAvis_load_lib(\"https://cdn.jsdelivr.net/gh/bmabey/pyLDAvis@3.4.0/pyLDAvis/js/ldavis.v3.0.0.js\", function(){\n",
       "        new LDAvis(\"#\" + \"ldavis_el814601406977152731688062156064\", ldavis_el814601406977152731688062156064_data);\n",
       "      });\n",
       "    });\n",
       "}else{\n",
       "    // require.js not available: dynamically load d3 & LDAvis\n",
       "    LDAvis_load_lib(\"https://d3js.org/d3.v5.js\", function(){\n",
       "         LDAvis_load_lib(\"https://cdn.jsdelivr.net/gh/bmabey/pyLDAvis@3.4.0/pyLDAvis/js/ldavis.v3.0.0.js\", function(){\n",
       "                 new LDAvis(\"#\" + \"ldavis_el814601406977152731688062156064\", ldavis_el814601406977152731688062156064_data);\n",
       "            })\n",
       "         });\n",
       "}\n",
       "</script>"
      ],
      "text/plain": [
       "<IPython.core.display.HTML object>"
      ]
     },
     "execution_count": 79,
     "metadata": {},
     "output_type": "execute_result"
    }
   ],
   "source": [
    "pyLDAvis.display(fox_lda_display)"
   ]
  },
  {
   "attachments": {},
   "cell_type": "markdown",
   "id": "a3d14c87",
   "metadata": {},
   "source": [
    "Conclusions from visualizations:\n"
   ]
  }
 ],
 "metadata": {
  "kernelspec": {
   "display_name": "Python 3",
   "language": "python",
   "name": "python3"
  },
  "language_info": {
   "codemirror_mode": {
    "name": "ipython",
    "version": 3
   },
   "file_extension": ".py",
   "mimetype": "text/x-python",
   "name": "python",
   "nbconvert_exporter": "python",
   "pygments_lexer": "ipython3",
   "version": "3.9.0"
  },
  "vscode": {
   "interpreter": {
    "hash": "397704579725e15f5c7cb49fe5f0341eb7531c82d19f2c29d197e8b64ab5776b"
   }
  }
 },
 "nbformat": 4,
 "nbformat_minor": 5
}
