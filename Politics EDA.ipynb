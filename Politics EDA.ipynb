{
 "cells": [
  {
   "attachments": {},
   "cell_type": "markdown",
   "id": "7f79baf9",
   "metadata": {},
   "source": [
    "# ADS 509 Politics Project: Tokenization, Normalization, Descriptive Statistics "
   ]
  },
  {
   "cell_type": "code",
   "execution_count": 17,
   "id": "e2d096b7",
   "metadata": {},
   "outputs": [],
   "source": [
    "# Some of the pre-loaded imports\n",
    "import os\n",
    "import re\n",
    "import emoji\n",
    "import pandas as pd\n",
    "import numpy as np\n",
    "\n",
    "from collections import Counter, defaultdict\n",
    "from string import punctuation"
   ]
  },
  {
   "cell_type": "code",
   "execution_count": 18,
   "id": "ead83931",
   "metadata": {},
   "outputs": [
    {
     "data": {
      "text/plain": [
       "'/Users/calebmccurdy/nltk_data/corpora/punkt'"
      ]
     },
     "execution_count": 18,
     "metadata": {},
     "output_type": "execute_result"
    }
   ],
   "source": [
    "# Additional import statements made here\n",
    "np.int = np.int_\n",
    "np.float = np.float_\n",
    "import nltk\n",
    "import zipfile\n",
    "import shutil\n",
    "import html\n",
    "import matplotlib\n",
    "import matplotlib.pyplot as plt\n",
    "\n",
    "#first, download the stopwords.zip file from https://www.nltk.org/nltk_data/ and then extract it\n",
    "source_dir = '/Users/calebmccurdy/downloads/stopwords'\n",
    "dest_dir = '/Users/calebmccurdy/nltk_data/corpora/stopwords'\n",
    "\n",
    "if os.path.exists(dest_dir):\n",
    "    shutil.rmtree(dest_dir)\n",
    "shutil.move(source_dir, dest_dir)\n",
    "\n",
    "#first, download the punkt.zip file from https://www.nltk.org/nltk_data/ and then extract it\n",
    "punkt_source_dir = '/Users/calebmccurdy/downloads/punkt'\n",
    "punkt_dest_dir = '/Users/calebmccurdy/nltk_data/corpora/punkt'\n",
    "\n",
    "if os.path.exists(punkt_dest_dir):\n",
    "    shutil.rmtree(punkt_dest_dir)\n",
    "shutil.move(punkt_source_dir, punkt_dest_dir)"
   ]
  },
  {
   "cell_type": "code",
   "execution_count": 19,
   "id": "654692a0",
   "metadata": {},
   "outputs": [],
   "source": [
    "# Final remaining pre-loaded imports\n",
    "from nltk.corpus import stopwords\n",
    "sw = stopwords.words(\"english\")"
   ]
  },
  {
   "cell_type": "code",
   "execution_count": 20,
   "id": "923b5a86",
   "metadata": {},
   "outputs": [],
   "source": [
    "# change `data_location` to the location of the folder on your machine.\n",
    "data_location = \"/Users/calebmccurdy/Desktop/USD/ADS 509/Project/\"\n",
    "\n",
    "# This subfolder should still work if stored correctly from scraping notebook\n",
    "politics_folder = \"politics/\""
   ]
  },
  {
   "cell_type": "code",
   "execution_count": 21,
   "id": "06522af9",
   "metadata": {},
   "outputs": [],
   "source": [
    "def descriptive_stats(tokens, num_most_tokens = 5, verbose=True) :\n",
    "    \"\"\"\n",
    "        Given a list of tokens, print number of tokens, number of unique tokens, \n",
    "        number of characters, lexical diversity (https://en.wikipedia.org/wiki/Lexical_diversity), \n",
    "        and num_tokens most common tokens. Return a list with the number of tokens, number\n",
    "        of unique tokens, lexical diversity, and number of characters. \n",
    "    \n",
    "    \"\"\"\n",
    "\n",
    "    num_tokens = len(tokens)\n",
    "    num_unique_tokens = len(set(tokens))\n",
    "    lexical_diversity = len(set(tokens)) / len(tokens)\n",
    "    num_characters = sum(len(token) for token in tokens)\n",
    "    \n",
    "    if verbose :        \n",
    "        print(f\"There are {num_tokens} tokens in the data.\")\n",
    "        print(f\"There are {num_unique_tokens} unique tokens in the data.\")\n",
    "        print(f\"There are {num_characters} characters in the data.\")\n",
    "        print(f\"The lexical diversity is {lexical_diversity:.3f} in the data.\")\n",
    "\n",
    "        counter = Counter(tokens)\n",
    "        most_common_tokens = counter.most_common(num_most_tokens)\n",
    "        print(f\"Five most common tokens: {most_common_tokens}\")\n",
    "    \n",
    "    return([num_tokens, num_unique_tokens,\n",
    "            lexical_diversity,\n",
    "            num_characters])\n",
    "    "
   ]
  },
  {
   "cell_type": "code",
   "execution_count": 22,
   "id": "59dcf058",
   "metadata": {},
   "outputs": [
    {
     "name": "stdout",
     "output_type": "stream",
     "text": [
      "There are 13 tokens in the data.\n",
      "There are 9 unique tokens in the data.\n",
      "There are 55 characters in the data.\n",
      "The lexical diversity is 0.692 in the data.\n",
      "Five most common tokens: [('text', 3), ('here', 2), ('example', 2), ('is', 1), ('some', 1)]\n"
     ]
    }
   ],
   "source": [
    "text = \"\"\"here is some example text with other example text here in this text\"\"\".split()\n",
    "assert(descriptive_stats(text, verbose=True)[0] == 13)\n",
    "assert(descriptive_stats(text, verbose=False)[1] == 9)\n",
    "assert(abs(descriptive_stats(text, verbose=False)[2] - 0.69) < 0.02)\n",
    "assert(descriptive_stats(text, verbose=False)[3] == 55)\n"
   ]
  },
  {
   "attachments": {},
   "cell_type": "markdown",
   "id": "9d3bf93e",
   "metadata": {},
   "source": [
    "## Data Input"
   ]
  },
  {
   "cell_type": "code",
   "execution_count": 23,
   "id": "d646679b",
   "metadata": {},
   "outputs": [],
   "source": [
    "# Read in the politics data\n",
    "\n",
    "# Define path to the politics folder\n",
    "politics_folder_path = os.path.join(data_location, politics_folder)\n",
    "\n",
    "# Dictionary to store news data\n",
    "news_data = {}\n",
    "\n",
    "# Loop through each site subfolder in the politics folder\n",
    "for site_folder in os.listdir(politics_folder_path):\n",
    "    site_path = os.path.join(politics_folder_path, site_folder)\n",
    "\n",
    "    # Check if it's a directory\n",
    "    if os.path.isdir(site_path):\n",
    "        org = site_folder\n",
    "        news_data.setdefault(org, {})\n",
    "        # Loop through each txt file in the site subfolder\n",
    "        for file_name in os.listdir(site_path):\n",
    "        \n",
    "            # Extract song name from the file name\n",
    "            article = os.path.splitext(file_name)[0]\n",
    "            file_path = os.path.join(site_path, file_name)\n",
    "                \n",
    "            # Read the entire text data from the file\n",
    "            # https://www.dataquest.io/blog/read-file-python/ \n",
    "            with open(file_path, 'r', encoding='latin-1') as file:\n",
    "                text_data = file.read()\n",
    "                news_data[org][article] = text_data\n",
    "\n",
    "# Now, we have the newss data in the 'news_data' dictionary with org and article names as keys."
   ]
  },
  {
   "cell_type": "code",
   "execution_count": 24,
   "id": "740dacfd",
   "metadata": {},
   "outputs": [
    {
     "name": "stdout",
     "output_type": "stream",
     "text": [
      "\n",
      "Organization: FOX\n",
      "Article: haley-blames-trump-gop-loss-key-special-election-south-carolina-showdown-intensifies\n",
      "Text Data:\n",
      "Haley blames Trump for GOP loss in key special election as South Carolina showdown intensifies\n",
      "\n",
      "\n",
      "      This material may not be published, broadcast, rewritten,\n",
      "      or redistributed. Â©2024 FOX News Network, LLC. All rights reserved.\n",
      "      Quotes displayed in real-time or delayed by at least 15 minutes. Market data provided by\n",
      "      \n",
      "Factset\n",
      ". Powered and implemented by\n",
      "      \n",
      "FactSet Digital Solutions\n",
      ".\n",
      "      \n",
      "Legal Statement\n",
      ". Mutual Fund and ETF data provided by\n",
      "      \n",
      "Refinitiv Lipper\n",
      ".\n",
      "    \n",
      "Fox News' Trace Gallagher reports on the outcome of New York's special election.\n",
      "Tuesday night's setback for the GOP in a closely watched \n",
      "special congressional election\n",
      " in the suburbs of New York City armed Republican presidential contender Nikki Haley with more ammunition against frontrunner, former President Trump.\n",
      "\"Letâs just say the quiet part out loud. Donald Trump continues to be a huge weight against Republican candidates,\" Haley campaign national spokesperson Olvia Perez-Cubas argued in a statement. \"Despite the enormous and obvious failings of Joe Biden, we just lost another winnable Republican House seat because voters overwhelmingly reject Donald Trump.\"\n",
      "Perez-Cubas claimed that \"until Republicans wake up, we will continue to lose. Time for a new generation of conservative leadership that doesnât turn off the American people.\"\n",
      "TRUMP RIPS BLACK FEMALE REPUBLICAN CANDIDATE WHO LOST KEY SPECIAL CONGRESSIONAL ELECTION\n",
      "Pointing to GOP setbacks in the 2018, 2020 and 2022 elections, \n",
      "Haley has long made\n",
      " the argument that Republicans are tired of losing under Trump a key part of her campaign trail stump speech. She has been campaigning in South Carolina, where she was a two-term governor before joining the Trump administration as ambassador to the U.N.\n",
      "Republican presidential candidate Nikki Haley waves to a crowd during a campaign event at New Realm Brewing Co. in Charleston, South Carolina, on Feb. 4.\n",
      " \n",
      "(AP Photo/Sean Rayford)\n",
      "In the special election, former Democratic Rep. Tom Suozzi defeated GOP county lawmaker Mazi Pilip to fill a vacant House seat once held by former Republican Rep. \n",
      "George Santos\n",
      ", who was expelled from the chamber in December.\n",
      "Trump returns\n",
      " to South Carolina on Wednesday to hold a rally in North Charleston with 10 days to go until the state's Republican presidential primary.\n",
      "After double-digit victories in the Iowa caucuses and the New Hampshire primary, and landslide wins in Nevada and the U.S. Virgin Islands, the former president is moving closer to locking up the 2024 GOP presidential nomination.\n",
      "Polls suggest he holds a very large double-digit lead in the latest public opinion polls in the Palmetto State over Haley, his last remaining major rival.\n",
      "Haley, as she faces a steep uphill climb to upset Trump, has been turning up the volume on her attacks on the former president in recent weeks. On Tuesday, her campaign launched a new TV ad emphasizing the \"chaos\" that will ensue if Trump returns to the White House. Haley is also reiterating her claims that Trump is \"unhinged.\"\n",
      "DEMS FLIP SEAT AS SUOZZI WINS CRUCIAL SPECIAL CONGRESSIONAL ELECTION IN NEW YORK\n",
      "Republican congressional candidate Mazi Pilip, a Nassau County lawmaker, speaks to supporters after conceding the NY-03 special election to former Democratic Rep. Tom Suozzi in East Meadow, New York, on Tuesday.\n",
      " \n",
      "(Fox News - Paul SteinhauserÂ )\n",
      "With the GOP hanging on to a razor-thin majority in the House, national Republicans and Democrats poured big bucks into a race where\n",
      " immigration and border security\n",
      ", crime and abortion were the top issues, and where the election was seen as a bellwether ahead of the all-but-certain November White House rematch between Trump and President Biden.\n",
      "The Long Island district, held for a decade by Democrats, was flipped by Santos in the 2022 midterms. However, Santos was kicked out of Congress less than a year into his tenure, after he was exposed for lying about his background and indicted for a slew of financial crimes.\n",
      "Suozzi, who represented the district for six years before running unsuccessfully for governor, repeatedly tied Pilip to Santos, as well as to Trump.\n",
      "With the Republican \n",
      "majority in the House\n",
      " slipping to 219-213 once Suozzi is sworn in, the pickup by the Democrats now puts the GOP's grip on the chamber further in peril.\n",
      "Pilip, an Ethiopian Jew who fled to Israel at age 12 to escape persecution and later enlisted and served in the Israeli military before immigrating to the U.S., was a former Democrat who argued the party \"left me and many others\" She repeatedly tied Suozzi to Biden and blamed her opponent for the migrant crisis.\n",
      "While Pilip was praised by Nassau County Republicans on Tuesday evening after her defeat, Trump slammed her in a late night social media posting, calling her a \"foolish woman\" and claiming she lost on Tuesday because she did not endorse him.\n",
      "Former President Donald Trump arrives onstage during a Get Out the Vote rally at Coastal Carolina University in Conway, South Carolina, on Saturday.\n",
      " \n",
      "(Win McNamee/Getty Images)\n",
      "\"Republicans just donât learn, but maybe she was still a Democrat? I have an almost 99% Endorsement Success Rate in Primaries, and a very good number in the General Elections, as well, but just watched this very foolish woman, Mazi Melesa Pilip, running in a race where she didnât endorse me and tried to 'straddle the fence,' when she would have easily WON if she understood anything about MODERN DAY politics in America,\" Trump argued on his Truth Social platform.\n",
      "CLICK HERE TO GET THE FOX NEWS APP\n",
      "After not campaigning in person in \n",
      "South Carolina\n",
      " for two months, Wednesday's rally is Trump's second in the state in four days.\n",
      "Former U.N. Ambassador Nikki Haley and former President Donald Trump.\n",
      " \n",
      "(Getty Images)\n",
      "Haley has been campaigning\n",
      " vigorously in her home state and kicked off a bus tour this past weekend. However, she is heading to Texas on Thursday and Friday for fundraisers and to campaign in one of the 15 states holding Republican nominating contests on Super Tuesday in early March.\n",
      "Haley raised money and campaigned last week in California, another large Super Tuesday state. The swings through Texas and California appear in part to be a marker for Haley as she pushes back against calls by some Republicans to drop out of the race and allow Trump to focus on facing off with Biden in November.\n",
      "Fox News' Chris Pandolofo, Deirdre Heavey and Kirill Clark contributed to this report.\n",
      "Get the latest updates from the 2024 campaign trail, exclusive interviews and more at our Fox News Digital election hub.\n",
      "Get the latest updates from the 2024 campaign trail, exclusive interviews and more Fox News politics content.\n",
      "Subscribed\n",
      "You've successfully subscribed to this newsletter!\n",
      "\n",
      "        This material may not be published, broadcast, rewritten, or redistributed. Â©2024 FOX News Network, LLC. All rights reserved. Quotes displayed in real-time or delayed by at least 15 minutes. Market data provided by\n",
      "        \n",
      "Factset\n",
      ". Powered and implemented by\n",
      "        \n",
      "FactSet Digital Solutions\n",
      ".\n",
      "        \n",
      "Legal Statement\n",
      ". Mutual Fund and ETF data provided by\n",
      "        \n",
      "Refinitiv Lipper\n",
      ".\n",
      "      \n",
      "\n",
      "Article: biden-says-his-memory-fine-he-most-qualified-person-country-president\n",
      "Text Data:\n",
      "Biden says his memory is 'fine,' he is 'most qualified person in this country' to be president\n",
      "\n",
      "\n",
      "      This material may not be published, broadcast, rewritten,\n",
      "      or redistributed. Â©2024 FOX News Network, LLC. All rights reserved.\n",
      "      Quotes displayed in real-time or delayed by at least 15 minutes. Market data provided by\n",
      "      \n",
      "Factset\n",
      ". Powered and implemented by\n",
      "      \n",
      "FactSet Digital Solutions\n",
      ".\n",
      "      \n",
      "Legal Statement\n",
      ". Mutual Fund and ETF data provided by\n",
      "      \n",
      "Refinitiv Lipper\n",
      ".\n",
      "    \n",
      "President Biden addressed the nation and was peppered with questions after special counsel Robert Hur released a report about his handling of classified documents.\n",
      "President Biden addressed the nation Thursday night, saying his \n",
      "memory is \"fine\"\n",
      " and defended his re-election campaign, saying he is the \"most qualified person in this country to be president.\"\n",
      "Biden's address to the nation from the White House Thursday night comes just hours after \n",
      "Special Counsel Robert Hur\n",
      " released his report, which did not recommend criminal charges against the president for mishandling classified documents.Â Those records included classified documents about military and foreign policy in Afghanistan, among other records related to national security and foreign policy which Hur said implicated \"sensitive intelligence sources and methods.\"Â \n",
      "BIDEN âDID NOT REMEMBER WHEN HE WAS VICE PRESIDENT,â WHEN HIS SON BEAU DIED, DURING SPECIAL COUNSEL INTERVIEWS\n",
      "Hur, though, described Biden as a \"sympathetic, well-meaning, elderly man with a poor memory.\" Hur, throughout the more than 300-page report, said \"it would be difficult to convince a jury that they should convict him\" of a serious felony \"that requires a mental state of willfulness,\" and said he would be \"well into his eighties.\"Â \n",
      "Biden, on Thursday night, said he agreed.\n",
      "US President Joe Biden answers questions about Israel after speaking about the Special Counsel report in the Diplomatic Reception Room of the White House in Washington, DC, on February 8, 2024 in a surprise last-minute addition to his schedule for the day.\n",
      " \n",
      "(Photo by MANDEL NGAN/AFP via Getty Images)\n",
      "\"I'm well-meaning, and I'm an elderly man and I know what the hell I'm doing,\" Biden said. \"I've been president. I put this country back on its feet. I don't need his recommendation.\"\n",
      "Biden added: \"My memory is fine.\"\n",
      "During his address, Biden also fired back at Special Counsel Robert Hur for suggesting he did not remember when his son Beau died.\n",
      "\"How dare he raise that?\" Biden said. \"Frankly, when I was asked a question, I thought to myself, what's that any of your damn business?\"\n",
      "\"Let me tell you something...I swear, since the day he died, every single day...I wear the rosary he got from Our Ladyâ\" Biden stopped, seemingly forgetting where the rosary was from.\n",
      "Biden became visibly emotional, and declared: \"I don't need anyoneâI don't need anyone to remind me when he passed away or passed away.\"Â \n",
      "Moments later, though, Biden transitioned to discuss the conflict in the Middle East. Biden referred to Abdel Fattah El-Sisi, the president of Egypt, as \"the president of Mexico.\"\n",
      "But the president took a barrage of questions from the White House press corps, with some shouting and pressing him on whether he is fit to run for re-election.Â \n",
      "SPECIAL COUNSEL CALLS BIDEN âSYMPATHETIC, WELL-MEANING, ELDERLY MAN WITH A POOR MEMORY,â BRINGS NO CHARGES\n",
      "\"I'm the most qualified person in this country to be president of the United States,\" Biden said, adding that he has to \"finish the job I started.\"Â \n",
      "Meanwhile, Hur, in the report, said Biden, during his interview with the special counsel's team, could not remember key details, such as when he was vice president.Â \n",
      "\"In his interview with our office, Mr. Biden's memory was worse,\" the report states. \"He did not remember when he wasÂ \n",
      "vice president\n",
      ", forgetting on the first day of the interview when his term ended ('if it was 2013 â when did I stop being Vice President?'), and forgetting on the second day of the interview when his term began ('in 2009, am I still Vice President?').\"\n",
      "\"He did not remember, even within several years, when his son Beau died,\" the report continued. \"And his memory appeared hazy when describing the Afghanistan debate that was once so important to him. Among other things, he mistakenly said he âhad a real differenceâ of opinion with General Karl Eikenberry, when, in fact, Eikenberry was an ally whom Mr. Biden cited approvingly in his Thanksgiving memo to President Obama.\"\n",
      "\"In a case where the government must prove that Mr. Biden knew he had possession of the classified Afghanistan documents after the vice presidency and chose to keep those documents, knowing he was violating the law, we expect that at trial, his attorneys would emphasize these limitations in his recall,\" the report said.\n",
      "This image from Special Council Robert Hurâs investigation released by the Department of Justice on Thursday, February 8, 2024 shows a box with documents in November 2022.\n",
      " \n",
      "(U.S. Department of Justice)\n",
      "As for Biden's memory, prior to the release of the report, \n",
      "White House press secretary Karine Jean-Pierre\n",
      " \n",
      "on Thursday defended Biden when asked about a gaffe in which the president said he spoke in 2021 with German Chancellor Helmut Kohl â who actually died four years earlier â arguing that misspeaking \"happens to all of us, and it is common.\"Â \n",
      "That gaffe was similar to the one Biden made on Sunday when he claimed he spoke with FranÃ§ois Mitterrand, a French president who died in 1996, at the same G7 meeting.\n",
      "But Hur also said his investigation \"uncovered evidence that President Biden willfully retained and disclosed classified materials after his vice presidency when he was a private citizen.\"\n",
      "TRUMP DEMANDS DOJ âIMMEDIATELYâ DROP CHARGES AGAINST HIM IN CLASSIFIED DOCS CASE AFTER BIDEN DECISION\n",
      "The materials included \"marked classified documents about military and foreign policy in Afghanistan, and notebooks containing Mr. Bidenâs handwritten entries about issues of national security and foreign policy implicating sensitive intelligence sources and methods.\"Â \n",
      "This image from Special Council Robert Hurâs investigation released by the Department of Justice on Thursday, February 8, 2024 shows Joe Bidenâs garage storage closet in his Delaware home on December 21, 2022.\n",
      " \n",
      "(U.S. Department of Justice)\n",
      "Hur said FBI agents recovered the materials from \"the garages, offices, and basement den in Mr. Bidenâs Wilmington, Delaware home.\"\n",
      "But Biden fired back, citing sections in the report that stated he did not willfully retain the documents. Biden also said he was \"especially pleased to see special counsel make clear the stark distinction in difference between this case and Mr. Trump's case,\" saying he cooperated and sat for a five hour-long interview.Â \n",
      "Trump, on the other hand, was charged out of Special Counsel Jack Smith's investigation related to his retention of classified materials. \n",
      "Trump pleaded not guilty\n",
      "Â to all 37 felony charges out of Smith's probe. The charges include willful retention of national defense information, conspiracy to obstruct justice and false statements.\n",
      "Trump, the 2024 GOP front-runner, was then charged with an additional three counts as part of a superseding indictment out of Smithâs investigation â an additional count of willful retention of national defense information and two additional obstruction counts. Trump pleaded not guilty.\n",
      "NO CHARGES FOR BIDEN AFTER SPECIAL COUNSEL PROBE INTO IMPROPER HANDLING OF CLASSIFIED DOCUMENTS\n",
      "That trial is set to begin on May 20.Â \n",
      "\"They should immediately drop the case against me,\" Trump told Fox News Digital on Thursday. \"I am covered by the Presidential Records Act â he wasn't. He had many, many times more documents â totally unguarded. Mine were always surrounded by Secret Service and in locked rooms.\"Â \n",
      "CLICK HERE TO GET THE FOX NEWS APP\n",
      "Â \n",
      "\"Deranged Jack Smith should drop the case immediately against us.\"Â \n",
      "Trump added: \"It is election interferenceâ¦. I did absolutely nothing wrong.\"Â \n",
      "Brooke Singman is a political correspondent and reporter for Fox News Digital, Fox News Channel and FOX Business.\n",
      "Get the latest updates from the 2024 campaign trail, exclusive interviews and more Fox News politics content.\n",
      "Subscribed\n",
      "You've successfully subscribed to this newsletter!\n",
      "\n",
      "        This material may not be published, broadcast, rewritten, or redistributed. Â©2024 FOX News Network, LLC. All rights reserved. Quotes displayed in real-time or delayed by at least 15 minutes. Market data provided by\n",
      "        \n",
      "Factset\n",
      ". Powered and implemented by\n",
      "        \n",
      "FactSet Digital Solutions\n",
      ".\n",
      "        \n",
      "Legal Statement\n",
      ". Mutual Fund and ETF data provided by\n",
      "        \n",
      "Refinitiv Lipper\n",
      ".\n",
      "      \n",
      "\n"
     ]
    }
   ],
   "source": [
    "# Set a counter for limiting the number of entries to print\n",
    "counter = 0\n",
    "\n",
    "# Loop through each organization in the news_data dictionary\n",
    "for org, articles in news_data.items():\n",
    "    print(f\"\\nOrganization: {org}\")\n",
    "    \n",
    "    # Loop through each article in the organization\n",
    "    for article, text_data in articles.items():\n",
    "        print(f\"Article: {article}\\nText Data:\\n{text_data}\\n\")\n",
    "        \n",
    "        # Increment the counter\n",
    "        counter += 1\n",
    "        \n",
    "        # Check if the counter reaches the limit (e.g., 2)\n",
    "        if counter >= 2:\n",
    "            break\n",
    "    \n",
    "    # Check if the counter reaches the limit (e.g., 2)\n",
    "    if counter >= 2:\n",
    "        break\n"
   ]
  },
  {
   "attachments": {},
   "cell_type": "markdown",
   "id": "6a5f3b12",
   "metadata": {},
   "source": [
    "## Data Cleaning\n",
    "\n",
    "Now clean and tokenize your data. Remove punctuation characters (available in the `punctuation` object in the `string` library), split on whitespace, fold to lowercase, and remove stopwords. Store your cleaned data, which must be accessible as an interable for `descriptive_stats`, in new objects or in new columns in your data frame. "
   ]
  },
  {
   "cell_type": "code",
   "execution_count": 44,
   "id": "71c73d86",
   "metadata": {},
   "outputs": [],
   "source": [
    "punctuation = set(punctuation) # speeds up comparison\n",
    "extra_sw = ['cnn', 'fox', 'news', 'said', 'told', 'would', 'read', 'get', 'could', 'also',\n",
    "            'think', 'time', 'even', 'former', 'ask', 'asked', 'â']\n",
    "sw.extend(extra_sw)"
   ]
  },
  {
   "cell_type": "code",
   "execution_count": 53,
   "id": "eb35b9dc",
   "metadata": {},
   "outputs": [
    {
     "name": "stdout",
     "output_type": "stream",
     "text": [
      "['i', 'me', 'my', 'myself', 'we', 'our', 'ours', 'ourselves', 'you', \"you're\", \"you've\", \"you'll\", \"you'd\", 'your', 'yours', 'yourself', 'yourselves', 'he', 'him', 'his', 'himself', 'she', \"she's\", 'her', 'hers', 'herself', 'it', \"it's\", 'its', 'itself', 'they', 'them', 'their', 'theirs', 'themselves', 'what', 'which', 'who', 'whom', 'this', 'that', \"that'll\", 'these', 'those', 'am', 'is', 'are', 'was', 'were', 'be', 'been', 'being', 'have', 'has', 'had', 'having', 'do', 'does', 'did', 'doing', 'a', 'an', 'the', 'and', 'but', 'if', 'or', 'because', 'as', 'until', 'while', 'of', 'at', 'by', 'for', 'with', 'about', 'against', 'between', 'into', 'through', 'during', 'before', 'after', 'above', 'below', 'to', 'from', 'up', 'down', 'in', 'out', 'on', 'off', 'over', 'under', 'again', 'further', 'then', 'once', 'here', 'there', 'when', 'where', 'why', 'how', 'all', 'any', 'both', 'each', 'few', 'more', 'most', 'other', 'some', 'such', 'no', 'nor', 'not', 'only', 'own', 'same', 'so', 'than', 'too', 'very', 's', 't', 'can', 'will', 'just', 'don', \"don't\", 'should', \"should've\", 'now', 'd', 'll', 'm', 'o', 're', 've', 'y', 'ain', 'aren', \"aren't\", 'couldn', \"couldn't\", 'didn', \"didn't\", 'doesn', \"doesn't\", 'hadn', \"hadn't\", 'hasn', \"hasn't\", 'haven', \"haven't\", 'isn', \"isn't\", 'ma', 'mightn', \"mightn't\", 'mustn', \"mustn't\", 'needn', \"needn't\", 'shan', \"shan't\", 'shouldn', \"shouldn't\", 'wasn', \"wasn't\", 'weren', \"weren't\", 'won', \"won't\", 'wouldn', \"wouldn't\", 'cnn', 'fox', 'news', 'said', '-', '--', '---', 'told', 'would', 'read', 'get', 'could', 'also', \"it's\", 'think', 'time', 'even', 'former', 'ask', 'asked', 'cnn', 'fox', 'news', 'said', '-', '--', '---', 'told', 'would', 'read', 'get', 'could', 'also', \"it's\", 'think', 'time', 'even', 'former', 'ask', 'asked', 'â', 's', 'cnn', 'fox', 'news', 'said', '-', '--', '---', 'told', 'would', 'read', 'get', 'could', 'also', \"it's\", 'think', 'time', 'even', 'former', 'ask', 'asked', 'â', 's', 'cnn', 'fox', 'news', 'said', '-', '--', '---', 'told', 'would', 'read', 'get', 'could', 'also', \"it's\", 'think', 'time', 'even', 'former', 'ask', 'asked', 'â', 's']\n"
     ]
    }
   ],
   "source": [
    "print(sw)"
   ]
  },
  {
   "cell_type": "code",
   "execution_count": 45,
   "id": "c4b31d22",
   "metadata": {},
   "outputs": [],
   "source": [
    "def clean_news(text):\n",
    "    # remove punctuation characters\n",
    "    text = ''.join([char for char in text if char not in punctuation])\n",
    "    # fold to lowercase\n",
    "    text = text.lower()\n",
    "    # remove stopwords\n",
    "    text = ' '.join([word for word in text.split() if word.lower() not in sw])\n",
    "    # remove extra white spaces\n",
    "    text = re.sub(r'\\s+', ' ', text)\n",
    "    \n",
    "    return text.strip()"
   ]
  },
  {
   "cell_type": "code",
   "execution_count": 46,
   "id": "96e4d32a",
   "metadata": {},
   "outputs": [],
   "source": [
    "# Albrecht, J., Ramachandran, S., & Winkler, C. (2020). Blueprints for text analytics using Python. O'Reilly. \n",
    "RE_TOKEN = re.compile(r\"\"\"\n",
    "               ( [#]?[@\\w''\\.\\-\\:]*\\w     # words, hash tags and email adresses\n",
    "               | [:;<]\\-?[\\)\\(3]          # coarse pattern for basic text emojis\n",
    "               | [\\U0001F100-\\U0001FFFF]  # coarse code range for unicode emojis\n",
    "               )\n",
    "               \"\"\", re.VERBOSE)\n",
    "\n",
    "def tokenize(text):\n",
    "    return RE_TOKEN.findall(text)"
   ]
  },
  {
   "cell_type": "code",
   "execution_count": 47,
   "id": "e0f22e10",
   "metadata": {},
   "outputs": [],
   "source": [
    "# create your clean news data here\n",
    "cleaned_news_data = {}\n",
    "\n",
    "# Clean and tokenize news data\n",
    "for org, article in news_data.items():\n",
    "    cleaned_news_data[org] = {}\n",
    "    for article, text in article.items():\n",
    "        cleaned_text = clean_news(text)\n",
    "        tokens = tokenize(cleaned_text)\n",
    "        cleaned_news_data[org][article] = tokens"
   ]
  },
  {
   "cell_type": "code",
   "execution_count": 48,
   "id": "b4a9ac38",
   "metadata": {},
   "outputs": [
    {
     "name": "stdout",
     "output_type": "stream",
     "text": [
      "\n",
      "Organization: FOX\n",
      "Article: haley-blames-trump-gop-loss-key-special-election-south-carolina-showdown-intensifies\n",
      "Text Data:\n",
      "['haley', 'blames', 'trump', 'gop', 'loss', 'key', 'special', 'election', 'south', 'carolina', 'showdown', 'intensifies', 'material', 'may', 'published', 'broadcast', 'rewritten', 'redistributed', 'â', '2024', 'network', 'llc', 'rights', 'reserved', 'quotes', 'displayed', 'realtime', 'delayed', 'least', '15', 'minutes', 'market', 'data', 'provided', 'factset', 'powered', 'implemented', 'factset', 'digital', 'solutions', 'legal', 'statement', 'mutual', 'fund', 'etf', 'data', 'provided', 'refinitiv', 'lipper', 'trace', 'gallagher', 'reports', 'outcome', 'new', 'yorks', 'special', 'election', 'tuesday', 'nights', 'setback', 'gop', 'closely', 'watched', 'special', 'congressional', 'election', 'suburbs', 'new', 'york', 'city', 'armed', 'republican', 'presidential', 'contender', 'nikki', 'haley', 'ammunition', 'frontrunner', 'president', 'trump', 'letâ', 's', 'say', 'quiet', 'part', 'loud', 'donald', 'trump', 'continues', 'huge', 'weight', 'republican', 'candidates', 'haley', 'campaign', 'national', 'spokesperson', 'olvia', 'perezcubas', 'argued', 'statement', 'despite', 'enormous', 'obvious', 'failings', 'joe', 'biden', 'lost', 'another', 'winnable', 'republican', 'house', 'seat', 'voters', 'overwhelmingly', 'reject', 'donald', 'trump', 'perezcubas', 'claimed', 'republicans', 'wake', 'continue', 'lose', 'new', 'generation', 'conservative', 'leadership', 'doesnâ', 't', 'turn', 'american', 'people', 'trump', 'rips', 'black', 'female', 'republican', 'candidate', 'lost', 'key', 'special', 'congressional', 'election', 'pointing', 'gop', 'setbacks', '2018', '2020', '2022', 'elections', 'haley', 'long', 'made', 'argument', 'republicans', 'tired', 'losing', 'trump', 'key', 'part', 'campaign', 'trail', 'stump', 'speech', 'campaigning', 'south', 'carolina', 'twoterm', 'governor', 'joining', 'trump', 'administration', 'ambassador', 'un', 'republican', 'presidential', 'candidate', 'nikki', 'haley', 'waves', 'crowd', 'campaign', 'event', 'new', 'realm', 'brewing', 'co', 'charleston', 'south', 'carolina', 'feb', '4', 'ap', 'photosean', 'rayford', 'special', 'election', 'democratic', 'rep', 'tom', 'suozzi', 'defeated', 'gop', 'county', 'lawmaker', 'mazi', 'pilip', 'fill', 'vacant', 'house', 'seat', 'held', 'republican', 'rep', 'george', 'santos', 'expelled', 'chamber', 'december', 'trump', 'returns', 'south', 'carolina', 'wednesday', 'hold', 'rally', 'north', 'charleston', '10', 'days', 'go', 'states', 'republican', 'presidential', 'primary', 'doubledigit', 'victories', 'iowa', 'caucuses', 'new', 'hampshire', 'primary', 'landslide', 'wins', 'nevada', 'us', 'virgin', 'islands', 'president', 'moving', 'closer', 'locking', '2024', 'gop', 'presidential', 'nomination', 'polls', 'suggest', 'holds', 'large', 'doubledigit', 'lead', 'latest', 'public', 'opinion', 'polls', 'palmetto', 'state', 'haley', 'last', 'remaining', 'major', 'rival', 'haley', 'faces', 'steep', 'uphill', 'climb', 'upset', 'trump', 'turning', 'volume', 'attacks', 'president', 'recent', 'weeks', 'tuesday', 'campaign', 'launched', 'new', 'tv', 'ad', 'emphasizing', 'chaos', 'ensue', 'trump', 'returns', 'white', 'house', 'haley', 'reiterating', 'claims', 'trump', 'unhinged', 'dems', 'flip', 'seat', 'suozzi', 'wins', 'crucial', 'special', 'congressional', 'election', 'new', 'york', 'republican', 'congressional', 'candidate', 'mazi', 'pilip', 'nassau', 'county', 'lawmaker', 'speaks', 'supporters', 'conceding', 'ny03', 'special', 'election', 'democratic', 'rep', 'tom', 'suozzi', 'east', 'meadow', 'new', 'york', 'tuesday', 'paul', 'steinhauserâ', 'gop', 'hanging', 'razorthin', 'majority', 'house', 'national', 'republicans', 'democrats', 'poured', 'big', 'bucks', 'race', 'immigration', 'border', 'security', 'crime', 'abortion', 'top', 'issues', 'election', 'seen', 'bellwether', 'ahead', 'allbutcertain', 'november', 'white', 'house', 'rematch', 'trump', 'president', 'biden', 'long', 'island', 'district', 'held', 'decade', 'democrats', 'flipped', 'santos', '2022', 'midterms', 'however', 'santos', 'kicked', 'congress', 'less', 'year', 'tenure', 'exposed', 'lying', 'background', 'indicted', 'slew', 'financial', 'crimes', 'suozzi', 'represented', 'district', 'six', 'years', 'running', 'unsuccessfully', 'governor', 'repeatedly', 'tied', 'pilip', 'santos', 'well', 'trump', 'republican', 'majority', 'house', 'slipping', '219213', 'suozzi', 'sworn', 'pickup', 'democrats', 'puts', 'gops', 'grip', 'chamber', 'peril', 'pilip', 'ethiopian', 'jew', 'fled', 'israel', 'age', '12', 'escape', 'persecution', 'later', 'enlisted', 'served', 'israeli', 'military', 'immigrating', 'us', 'democrat', 'argued', 'party', 'left', 'many', 'others', 'repeatedly', 'tied', 'suozzi', 'biden', 'blamed', 'opponent', 'migrant', 'crisis', 'pilip', 'praised', 'nassau', 'county', 'republicans', 'tuesday', 'evening', 'defeat', 'trump', 'slammed', 'late', 'night', 'social', 'media', 'posting', 'calling', 'foolish', 'woman', 'claiming', 'lost', 'tuesday', 'endorse', 'president', 'donald', 'trump', 'arrives', 'onstage', 'vote', 'rally', 'coastal', 'carolina', 'university', 'conway', 'south', 'carolina', 'saturday', 'win', 'mcnameegetty', 'images', 'republicans', 'donâ', 't', 'learn', 'maybe', 'still', 'democrat', 'almost', '99', 'endorsement', 'success', 'rate', 'primaries', 'good', 'number', 'general', 'elections', 'well', 'watched', 'foolish', 'woman', 'mazi', 'melesa', 'pilip', 'running', 'race', 'didnâ', 't', 'endorse', 'tried', 'straddle', 'fence', 'easily', 'understood', 'anything', 'modern', 'day', 'politics', 'america', 'trump', 'argued', 'truth', 'social', 'platform', 'click', 'app', 'campaigning', 'person', 'south', 'carolina', 'two', 'months', 'wednesdays', 'rally', 'trumps', 'second', 'state', 'four', 'days', 'un', 'ambassador', 'nikki', 'haley', 'president', 'donald', 'trump', 'getty', 'images', 'haley', 'campaigning', 'vigorously', 'home', 'state', 'kicked', 'bus', 'tour', 'past', 'weekend', 'however', 'heading', 'texas', 'thursday', 'friday', 'fundraisers', 'campaign', 'one', '15', 'states', 'holding', 'republican', 'nominating', 'contests', 'super', 'tuesday', 'early', 'march', 'haley', 'raised', 'money', 'campaigned', 'last', 'week', 'california', 'another', 'large', 'super', 'tuesday', 'state', 'swings', 'texas', 'california', 'appear', 'part', 'marker', 'haley', 'pushes', 'back', 'calls', 'republicans', 'drop', 'race', 'allow', 'trump', 'focus', 'facing', 'biden', 'november', 'chris', 'pandolofo', 'deirdre', 'heavey', 'kirill', 'clark', 'contributed', 'report', 'latest', 'updates', '2024', 'campaign', 'trail', 'exclusive', 'interviews', 'digital', 'election', 'hub', 'latest', 'updates', '2024', 'campaign', 'trail', 'exclusive', 'interviews', 'politics', 'content', 'subscribed', 'youve', 'successfully', 'subscribed', 'newsletter', 'material', 'may', 'published', 'broadcast', 'rewritten', 'redistributed', 'â', '2024', 'network', 'llc', 'rights', 'reserved', 'quotes', 'displayed', 'realtime', 'delayed', 'least', '15', 'minutes', 'market', 'data', 'provided', 'factset', 'powered', 'implemented', 'factset', 'digital', 'solutions', 'legal', 'statement', 'mutual', 'fund', 'etf', 'data', 'provided', 'refinitiv', 'lipper']\n",
      "\n",
      "Article: biden-says-his-memory-fine-he-most-qualified-person-country-president\n",
      "Text Data:\n",
      "['biden', 'says', 'memory', 'fine', 'qualified', 'person', 'country', 'president', 'material', 'may', 'published', 'broadcast', 'rewritten', 'redistributed', 'â', '2024', 'network', 'llc', 'rights', 'reserved', 'quotes', 'displayed', 'realtime', 'delayed', 'least', '15', 'minutes', 'market', 'data', 'provided', 'factset', 'powered', 'implemented', 'factset', 'digital', 'solutions', 'legal', 'statement', 'mutual', 'fund', 'etf', 'data', 'provided', 'refinitiv', 'lipper', 'president', 'biden', 'addressed', 'nation', 'peppered', 'questions', 'special', 'counsel', 'robert', 'hur', 'released', 'report', 'handling', 'classified', 'documents', 'president', 'biden', 'addressed', 'nation', 'thursday', 'night', 'saying', 'memory', 'fine', 'defended', 'reelection', 'campaign', 'saying', 'qualified', 'person', 'country', 'president', 'bidens', 'address', 'nation', 'white', 'house', 'thursday', 'night', 'comes', 'hours', 'special', 'counsel', 'robert', 'hur', 'released', 'report', 'recommend', 'criminal', 'charges', 'president', 'mishandling', 'classified', 'documentsâ', 'records', 'included', 'classified', 'documents', 'military', 'foreign', 'policy', 'afghanistan', 'among', 'records', 'related', 'national', 'security', 'foreign', 'policy', 'hur', 'implicated', 'sensitive', 'intelligence', 'sources', 'methodsâ', 'biden', 'â', 'did', 'remember', 'vice', 'presidentâ', 'son', 'beau', 'died', 'special', 'counsel', 'interviews', 'hur', 'though', 'described', 'biden', 'sympathetic', 'wellmeaning', 'elderly', 'man', 'poor', 'memory', 'hur', 'throughout', '300page', 'report', 'difficult', 'convince', 'jury', 'convict', 'serious', 'felony', 'requires', 'mental', 'state', 'willfulness', 'well', 'eightiesâ', 'biden', 'thursday', 'night', 'agreed', 'us', 'president', 'joe', 'biden', 'answers', 'questions', 'israel', 'speaking', 'special', 'counsel', 'report', 'diplomatic', 'reception', 'room', 'white', 'house', 'washington', 'dc', 'february', '8', '2024', 'surprise', 'lastminute', 'addition', 'schedule', 'day', 'photo', 'mandel', 'nganafp', 'via', 'getty', 'images', 'im', 'wellmeaning', 'im', 'elderly', 'man', 'know', 'hell', 'im', 'biden', 'ive', 'president', 'put', 'country', 'back', 'feet', 'dont', 'need', 'recommendation', 'biden', 'added', 'memory', 'fine', 'address', 'biden', 'fired', 'back', 'special', 'counsel', 'robert', 'hur', 'suggesting', 'remember', 'son', 'beau', 'died', 'dare', 'raise', 'biden', 'frankly', 'question', 'thought', 'whats', 'damn', 'business', 'let', 'tell', 'somethingi', 'swear', 'since', 'day', 'died', 'every', 'single', 'dayi', 'wear', 'rosary', 'got', 'ladyâ', 'biden', 'stopped', 'seemingly', 'forgetting', 'rosary', 'biden', 'became', 'visibly', 'emotional', 'declared', 'dont', 'need', 'anyoneâ', 'i', 'dont', 'need', 'anyone', 'remind', 'passed', 'away', 'passed', 'awayâ', 'moments', 'later', 'though', 'biden', 'transitioned', 'discuss', 'conflict', 'middle', 'east', 'biden', 'referred', 'abdel', 'fattah', 'elsisi', 'president', 'egypt', 'president', 'mexico', 'president', 'took', 'barrage', 'questions', 'white', 'house', 'press', 'corps', 'shouting', 'pressing', 'whether', 'fit', 'run', 'reelectionâ', 'special', 'counsel', 'calls', 'biden', 'â', 'sympathetic', 'wellmeaning', 'elderly', 'man', 'poor', 'memoryâ', 'brings', 'charges', 'im', 'qualified', 'person', 'country', 'president', 'united', 'states', 'biden', 'adding', 'finish', 'job', 'startedâ', 'meanwhile', 'hur', 'report', 'biden', 'interview', 'special', 'counsels', 'team', 'remember', 'key', 'details', 'vice', 'presidentâ', 'interview', 'office', 'mr', 'bidens', 'memory', 'worse', 'report', 'states', 'remember', 'wasâ', 'vice', 'president', 'forgetting', 'first', 'day', 'interview', 'term', 'ended', '2013', 'â', 'stop', 'vice', 'president', 'forgetting', 'second', 'day', 'interview', 'term', 'began', '2009', 'still', 'vice', 'president', 'remember', 'within', 'several', 'years', 'son', 'beau', 'died', 'report', 'continued', 'memory', 'appeared', 'hazy', 'describing', 'afghanistan', 'debate', 'important', 'among', 'things', 'mistakenly', 'â', 'had', 'real', 'differenceâ', 'opinion', 'general', 'karl', 'eikenberry', 'fact', 'eikenberry', 'ally', 'mr', 'biden', 'cited', 'approvingly', 'thanksgiving', 'memo', 'president', 'obama', 'case', 'government', 'must', 'prove', 'mr', 'biden', 'knew', 'possession', 'classified', 'afghanistan', 'documents', 'vice', 'presidency', 'chose', 'keep', 'documents', 'knowing', 'violating', 'law', 'expect', 'trial', 'attorneys', 'emphasize', 'limitations', 'recall', 'report', 'image', 'special', 'council', 'robert', 'hurâ', 's', 'investigation', 'released', 'department', 'justice', 'thursday', 'february', '8', '2024', 'shows', 'box', 'documents', 'november', '2022', 'us', 'department', 'justice', 'bidens', 'memory', 'prior', 'release', 'report', 'white', 'house', 'press', 'secretary', 'karine', 'jeanpierre', 'thursday', 'defended', 'biden', 'gaffe', 'president', 'spoke', '2021', 'german', 'chancellor', 'helmut', 'kohl', 'â', 'actually', 'died', 'four', 'years', 'earlier', 'â', 'arguing', 'misspeaking', 'happens', 'us', 'commonâ', 'gaffe', 'similar', 'one', 'biden', 'made', 'sunday', 'claimed', 'spoke', 'franã', 'ois', 'mitterrand', 'french', 'president', 'died', '1996', 'g7', 'meeting', 'hur', 'investigation', 'uncovered', 'evidence', 'president', 'biden', 'willfully', 'retained', 'disclosed', 'classified', 'materials', 'vice', 'presidency', 'private', 'citizen', 'trump', 'demands', 'doj', 'â', 'immediatelyâ', 'drop', 'charges', 'classified', 'docs', 'case', 'biden', 'decision', 'materials', 'included', 'marked', 'classified', 'documents', 'military', 'foreign', 'policy', 'afghanistan', 'notebooks', 'containing', 'mr', 'bidenâ', 's', 'handwritten', 'entries', 'issues', 'national', 'security', 'foreign', 'policy', 'implicating', 'sensitive', 'intelligence', 'sources', 'methodsâ', 'image', 'special', 'council', 'robert', 'hurâ', 's', 'investigation', 'released', 'department', 'justice', 'thursday', 'february', '8', '2024', 'shows', 'joe', 'bidenâ', 's', 'garage', 'storage', 'closet', 'delaware', 'home', 'december', '21', '2022', 'us', 'department', 'justice', 'hur', 'fbi', 'agents', 'recovered', 'materials', 'garages', 'offices', 'basement', 'den', 'mr', 'bidenâ', 's', 'wilmington', 'delaware', 'home', 'biden', 'fired', 'back', 'citing', 'sections', 'report', 'stated', 'willfully', 'retain', 'documents', 'biden', 'especially', 'pleased', 'see', 'special', 'counsel', 'make', 'clear', 'stark', 'distinction', 'difference', 'case', 'mr', 'trumps', 'case', 'saying', 'cooperated', 'sat', 'five', 'hourlong', 'interviewâ', 'trump', 'hand', 'charged', 'special', 'counsel', 'jack', 'smiths', 'investigation', 'related', 'retention', 'classified', 'materials', 'trump', 'pleaded', 'guilty', '37', 'felony', 'charges', 'smiths', 'probe', 'charges', 'include', 'willful', 'retention', 'national', 'defense', 'information', 'conspiracy', 'obstruct', 'justice', 'false', 'statements', 'trump', '2024', 'gop', 'frontrunner', 'charged', 'additional', 'three', 'counts', 'part', 'superseding', 'indictment', 'smithâ', 's', 'investigation', 'â', 'additional', 'count', 'willful', 'retention', 'national', 'defense', 'information', 'two', 'additional', 'obstruction', 'counts', 'trump', 'pleaded', 'guilty', 'charges', 'biden', 'special', 'counsel', 'probe', 'improper', 'handling', 'classified', 'documents', 'trial', 'set', 'begin', 'may', '20â', 'immediately', 'drop', 'case', 'trump', 'digital', 'thursday', 'covered', 'presidential', 'records', 'act', 'â', 'wasnt', 'many', 'many', 'times', 'documents', 'â', 'totally', 'unguarded', 'mine', 'always', 'surrounded', 'secret', 'service', 'locked', 'roomsâ', 'click', 'app', 'deranged', 'jack', 'smith', 'drop', 'case', 'immediately', 'usâ', 'trump', 'added', 'election', 'interferenceâ', 'absolutely', 'nothing', 'wrongâ', 'brooke', 'singman', 'political', 'correspondent', 'reporter', 'digital', 'channel', 'business', 'latest', 'updates', '2024', 'campaign', 'trail', 'exclusive', 'interviews', 'politics', 'content', 'subscribed', 'youve', 'successfully', 'subscribed', 'newsletter', 'material', 'may', 'published', 'broadcast', 'rewritten', 'redistributed', 'â', '2024', 'network', 'llc', 'rights', 'reserved', 'quotes', 'displayed', 'realtime', 'delayed', 'least', '15', 'minutes', 'market', 'data', 'provided', 'factset', 'powered', 'implemented', 'factset', 'digital', 'solutions', 'legal', 'statement', 'mutual', 'fund', 'etf', 'data', 'provided', 'refinitiv', 'lipper']\n",
      "\n"
     ]
    }
   ],
   "source": [
    "# Set a counter for limiting the number of entries to print\n",
    "counter = 0\n",
    "\n",
    "# Loop through each organization in the news_data dictionary\n",
    "for org, articles in cleaned_news_data.items():\n",
    "    print(f\"\\nOrganization: {org}\")\n",
    "    \n",
    "    # Loop through each article in the organization\n",
    "    for article, text_data in articles.items():\n",
    "        print(f\"Article: {article}\\nText Data:\\n{text_data}\\n\")\n",
    "        \n",
    "        # Increment the counter\n",
    "        counter += 1\n",
    "        \n",
    "        # Check if the counter reaches the limit (e.g., 2)\n",
    "        if counter >= 2:\n",
    "            break\n",
    "    \n",
    "    # Check if the counter reaches the limit (e.g., 2)\n",
    "    if counter >= 2:\n",
    "        break"
   ]
  },
  {
   "cell_type": "code",
   "execution_count": 64,
   "id": "5f3969cf",
   "metadata": {},
   "outputs": [
    {
     "data": {
      "text/html": [
       "<div>\n",
       "<style scoped>\n",
       "    .dataframe tbody tr th:only-of-type {\n",
       "        vertical-align: middle;\n",
       "    }\n",
       "\n",
       "    .dataframe tbody tr th {\n",
       "        vertical-align: top;\n",
       "    }\n",
       "\n",
       "    .dataframe thead th {\n",
       "        text-align: right;\n",
       "    }\n",
       "</style>\n",
       "<table border=\"1\" class=\"dataframe\">\n",
       "  <thead>\n",
       "    <tr style=\"text-align: right;\">\n",
       "      <th></th>\n",
       "      <th>Organization</th>\n",
       "      <th>Article</th>\n",
       "      <th>Tokens</th>\n",
       "    </tr>\n",
       "  </thead>\n",
       "  <tbody>\n",
       "    <tr>\n",
       "      <th>0</th>\n",
       "      <td>FOX</td>\n",
       "      <td>haley-blames-trump-gop-loss-key-special-electi...</td>\n",
       "      <td>[haley, blames, trump, gop, loss, key, special...</td>\n",
       "    </tr>\n",
       "    <tr>\n",
       "      <th>1</th>\n",
       "      <td>FOX</td>\n",
       "      <td>biden-says-his-memory-fine-he-most-qualified-p...</td>\n",
       "      <td>[biden, says, memory, fine, qualified, person,...</td>\n",
       "    </tr>\n",
       "    <tr>\n",
       "      <th>2</th>\n",
       "      <td>FOX</td>\n",
       "      <td>nikki-haley-calls-robert-hur-report-unbelievab...</td>\n",
       "      <td>[nikki, haley, calls, robert, hur, report, unb...</td>\n",
       "    </tr>\n",
       "    <tr>\n",
       "      <th>3</th>\n",
       "      <td>FOX</td>\n",
       "      <td>dnc-alleges-rfk-jr-campaign-violating-election...</td>\n",
       "      <td>[dnc, alleges, rfk, jr, campaign, violating, e...</td>\n",
       "    </tr>\n",
       "    <tr>\n",
       "      <th>4</th>\n",
       "      <td>FOX</td>\n",
       "      <td>border-impeachment-courts-gridlock-reigns-wash...</td>\n",
       "      <td>[border, impeachment, courts, gridlock, reigns...</td>\n",
       "    </tr>\n",
       "    <tr>\n",
       "      <th>...</th>\n",
       "      <td>...</td>\n",
       "      <td>...</td>\n",
       "      <td>...</td>\n",
       "    </tr>\n",
       "    <tr>\n",
       "      <th>126</th>\n",
       "      <td>CNN</td>\n",
       "      <td>_2024_02_13new-york-special-election-what-to-w...</td>\n",
       "      <td>[watch, new, yorkâ, s, highstakes, house, spec...</td>\n",
       "    </tr>\n",
       "    <tr>\n",
       "      <th>127</th>\n",
       "      <td>CNN</td>\n",
       "      <td>_2024_02_08biden-special-counsel-beau-death_index</td>\n",
       "      <td>[biden, slams, special, counsel, hur, raising,...</td>\n",
       "    </tr>\n",
       "    <tr>\n",
       "      <th>128</th>\n",
       "      <td>CNN</td>\n",
       "      <td>_2024_02_12cq-brown-nato-trump_index</td>\n",
       "      <td>[joint, chiefs, chairman, says, â, us, credibi...</td>\n",
       "    </tr>\n",
       "    <tr>\n",
       "      <th>129</th>\n",
       "      <td>CNN</td>\n",
       "      <td>_2024_02_14new-york-special-election-takeaways...</td>\n",
       "      <td>[takeaways, new, yorkâ, s, highstakes, special...</td>\n",
       "    </tr>\n",
       "    <tr>\n",
       "      <th>130</th>\n",
       "      <td>CNN</td>\n",
       "      <td>_2024_02_14menendez-bribery-scheme-new-filing_...</td>\n",
       "      <td>[sen, menendezâ, s, wife, got, engagement, rin...</td>\n",
       "    </tr>\n",
       "  </tbody>\n",
       "</table>\n",
       "<p>131 rows × 3 columns</p>\n",
       "</div>"
      ],
      "text/plain": [
       "    Organization                                            Article  \\\n",
       "0            FOX  haley-blames-trump-gop-loss-key-special-electi...   \n",
       "1            FOX  biden-says-his-memory-fine-he-most-qualified-p...   \n",
       "2            FOX  nikki-haley-calls-robert-hur-report-unbelievab...   \n",
       "3            FOX  dnc-alleges-rfk-jr-campaign-violating-election...   \n",
       "4            FOX  border-impeachment-courts-gridlock-reigns-wash...   \n",
       "..           ...                                                ...   \n",
       "126          CNN  _2024_02_13new-york-special-election-what-to-w...   \n",
       "127          CNN  _2024_02_08biden-special-counsel-beau-death_index   \n",
       "128          CNN               _2024_02_12cq-brown-nato-trump_index   \n",
       "129          CNN  _2024_02_14new-york-special-election-takeaways...   \n",
       "130          CNN  _2024_02_14menendez-bribery-scheme-new-filing_...   \n",
       "\n",
       "                                                Tokens  \n",
       "0    [haley, blames, trump, gop, loss, key, special...  \n",
       "1    [biden, says, memory, fine, qualified, person,...  \n",
       "2    [nikki, haley, calls, robert, hur, report, unb...  \n",
       "3    [dnc, alleges, rfk, jr, campaign, violating, e...  \n",
       "4    [border, impeachment, courts, gridlock, reigns...  \n",
       "..                                                 ...  \n",
       "126  [watch, new, yorkâ, s, highstakes, house, spec...  \n",
       "127  [biden, slams, special, counsel, hur, raising,...  \n",
       "128  [joint, chiefs, chairman, says, â, us, credibi...  \n",
       "129  [takeaways, new, yorkâ, s, highstakes, special...  \n",
       "130  [sen, menendezâ, s, wife, got, engagement, rin...  \n",
       "\n",
       "[131 rows x 3 columns]"
      ]
     },
     "execution_count": 64,
     "metadata": {},
     "output_type": "execute_result"
    }
   ],
   "source": [
    "df = pd.DataFrame([(org, article, tokens) for org, articles in cleaned_news_data.items() for article, tokens in articles.items()],\n",
    "                  columns=['Organization', 'Article', 'Tokens'])\n",
    "df.to_csv('/Users/calebmccurdy/Desktop/USD/ADS 509/Project/Politics_Project.csv', index=False)\n",
    "\n",
    "df"
   ]
  },
  {
   "attachments": {},
   "cell_type": "markdown",
   "id": "f2dd0179",
   "metadata": {},
   "source": [
    "## Basic Descriptive Statistics\n",
    "\n",
    "Call your `descriptive_stats` function on both the organizations data. "
   ]
  },
  {
   "cell_type": "code",
   "execution_count": 52,
   "id": "26a50eee",
   "metadata": {},
   "outputs": [
    {
     "name": "stdout",
     "output_type": "stream",
     "text": [
      "\n",
      "Descriptive Stats for News - Org: FOX\n",
      "There are 21068 tokens in the data.\n",
      "There are 4504 unique tokens in the data.\n",
      "There are 134661 characters in the data.\n",
      "The lexical diversity is 0.214 in the data.\n",
      "Five most common tokens: [('biden', 416), ('â', 260), ('president', 232), ('2024', 167), ('s', 159)]\n",
      "\n",
      "Descriptive Stats for News - Org: CNN\n",
      "There are 52407 tokens in the data.\n",
      "There are 8969 unique tokens in the data.\n",
      "There are 322454 characters in the data.\n",
      "The lexical diversity is 0.171 in the data.\n",
      "Five most common tokens: [('â', 1724), ('s', 1301), ('trump', 661), ('biden', 510), ('president', 396)]\n"
     ]
    }
   ],
   "source": [
    "for org, articles in cleaned_news_data.items():\n",
    "    org_tokens = [tokens for article, tokens in articles.items()]\n",
    "    all_org_tokens = [token for sublist in org_tokens for token in sublist]\n",
    "    print(f\"\\nDescriptive Stats for News - Org: {org}\")\n",
    "    descriptive_stats(all_org_tokens, verbose=True)"
   ]
  },
  {
   "cell_type": "code",
   "execution_count": 56,
   "id": "98ec8569",
   "metadata": {},
   "outputs": [
    {
     "name": "stdout",
     "output_type": "stream",
     "text": [
      "CNN News Stats\n",
      "\n",
      "There are 52407 tokens in the data.\n",
      "There are 8969 unique tokens in the data.\n",
      "There are 322454 characters in the data.\n",
      "The lexical diversity is 0.171 in the data.\n",
      "Five most common tokens: [('â', 1724), ('s', 1301), ('trump', 661), ('biden', 510), ('president', 396)]\n",
      "\n",
      "\n",
      "FoxNews Stats\n",
      "\n",
      "There are 21068 tokens in the data.\n",
      "There are 4504 unique tokens in the data.\n",
      "There are 134661 characters in the data.\n",
      "The lexical diversity is 0.214 in the data.\n",
      "Five most common tokens: [('biden', 416), ('â', 260), ('president', 232), ('2024', 167), ('s', 159)]\n"
     ]
    },
    {
     "data": {
      "text/plain": [
       "[21068, 4504, 0.21378393772546042, 134661]"
      ]
     },
     "execution_count": 56,
     "metadata": {},
     "output_type": "execute_result"
    }
   ],
   "source": [
    "print(\"CNN News Stats\\n\")\n",
    "\n",
    "descriptive_stats(\n",
    "    [token for tokens in df[df['Organization'] == 'CNN']['Tokens']for token in tokens])\n",
    "\n",
    "print('\\n')\n",
    "print(\"FoxNews Stats\\n\")\n",
    "\n",
    "descriptive_stats(\n",
    "    [token for tokens in df[df['Organization'] == 'FOX']['Tokens']for token in tokens])"
   ]
  },
  {
   "attachments": {},
   "cell_type": "markdown",
   "id": "9b15c911",
   "metadata": {},
   "source": [
    "### Article lengths"
   ]
  },
  {
   "cell_type": "code",
   "execution_count": 61,
   "id": "37610c2b",
   "metadata": {},
   "outputs": [
    {
     "data": {
      "text/plain": [
       "Organization\n",
       "CNN    Axes(0.125,0.11;0.775x0.77)\n",
       "FOX    Axes(0.125,0.11;0.775x0.77)\n",
       "Name: data_length, dtype: object"
      ]
     },
     "execution_count": 61,
     "metadata": {},
     "output_type": "execute_result"
    },
    {
     "data": {
      "image/png": "[encoded data removed]",
      "text/plain": [
       "<Figure size 640x480 with 1 Axes>"
      ]
     },
     "metadata": {},
     "output_type": "display_data"
    }
   ],
   "source": [
    "# Your lyric length comparison chart here. \n",
    "\n",
    "data_length = {}\n",
    "for org, articles in cleaned_news_data.items():\n",
    "    data_length[org] ={}\n",
    "    for article, text_data in articles.items():\n",
    "        article_length = len(text_data)\n",
    "        data_length[org][article] = article_length\n",
    "\n",
    "length_df = pd.DataFrame([(org, article_len) for org, articles in data_length.items() for article, article_len in articles.items()], columns=['Organization', 'data_length'])\n",
    "\n",
    "# all histograms together\n",
    "length_df.groupby('Organization')['data_length'].plot(kind=\"hist\",density=True,alpha=0.5,legend=True)"
   ]
  },
  {
   "cell_type": "code",
   "execution_count": 63,
   "id": "0e24a983",
   "metadata": {},
   "outputs": [
    {
     "data": {
      "image/png": "[encoded data removed]",
      "text/plain": [
       "<Figure size 1000x1000 with 2 Axes>"
      ]
     },
     "metadata": {},
     "output_type": "display_data"
    }
   ],
   "source": [
    "# Create subplots for each artist\n",
    "orgs = length_df['Organization'].unique()\n",
    "fig, axes = plt.subplots(nrows=len(orgs), figsize=(10, 5 * len(orgs)))\n",
    "\n",
    "# Plot individual histograms for each artist\n",
    "for ax, org in zip(axes, orgs):\n",
    "    org_data = length_df[length_df['Organization'] == org]\n",
    "    ax.hist(org_data['data_length'], bins=20, density=True, alpha=0.5)\n",
    "    ax.set_title(f'Histogram of Article Lengths for {org}')\n",
    "    ax.set_xlabel('Article Length (Number of Tokens)')\n",
    "    ax.set_ylabel('Density')\n",
    "\n",
    "plt.tight_layout()\n",
    "plt.show()"
   ]
  }
 ],
 "metadata": {
  "kernelspec": {
   "display_name": "Python 3",
   "language": "python",
   "name": "python3"
  },
  "language_info": {
   "codemirror_mode": {
    "name": "ipython",
    "version": 3
   },
   "file_extension": ".py",
   "mimetype": "text/x-python",
   "name": "python",
   "nbconvert_exporter": "python",
   "pygments_lexer": "ipython3",
   "version": "3.8.2"
  },
  "vscode": {
   "interpreter": {
    "hash": "aee8b7b246df8f9039afb4144a1f6fd8d2ca17a180786b69acc140d282b71a49"
   }
  }
 },
 "nbformat": 4,
 "nbformat_minor": 5
}
